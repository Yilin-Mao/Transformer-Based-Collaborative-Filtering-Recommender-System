{
 "cells": [
  {
   "cell_type": "code",
   "execution_count": null,
   "metadata": {},
   "outputs": [],
   "source": [
    "# for jupyter online uploaded only\n",
    "import zipfile\n",
    "\n",
    "f = zipfile.ZipFile('data.zip','r')\n",
    "for file in f.namelist():\n",
    "    f.extract(file,'/ML-1M/')\n",
    "f.close()"
   ]
  },
  {
   "cell_type": "markdown",
   "metadata": {},
   "source": [
    "# NCF (packed)"
   ]
  },
  {
   "cell_type": "code",
   "execution_count": 1,
   "metadata": {},
   "outputs": [
    {
     "name": "stdout",
     "output_type": "stream",
     "text": [
      "WARNING:tensorflow:From C:\\Users\\bao'bao'mao\\AppData\\Roaming\\Python\\Python310\\site-packages\\keras\\src\\losses.py:2976: The name tf.losses.sparse_softmax_cross_entropy is deprecated. Please use tf.compat.v1.losses.sparse_softmax_cross_entropy instead.\n",
      "\n",
      "WARNING:tensorflow:From C:\\Users\\bao'bao'mao\\AppData\\Roaming\\Python\\Python310\\site-packages\\libreco\\tfops\\version.py:4: The name tf.disable_v2_behavior is deprecated. Please use tf.compat.v1.disable_v2_behavior instead.\n",
      "\n",
      "WARNING:tensorflow:From C:\\Users\\bao'bao'mao\\AppData\\Roaming\\Python\\Python310\\site-packages\\tensorflow\\python\\compat\\v2_compat.py:108: disable_resource_variables (from tensorflow.python.ops.variable_scope) is deprecated and will be removed in a future version.\n",
      "Instructions for updating:\n",
      "non-resource variables are not supported in the long term\n"
     ]
    }
   ],
   "source": [
    "import numpy as np\n",
    "import pandas as pd\n",
    "from libreco.data import random_split, DatasetPure\n",
    "from libreco.algorithms import NCF  # pure data, \n",
    "from libreco.evaluation import evaluate"
   ]
  },
  {
   "cell_type": "code",
   "execution_count": null,
   "metadata": {},
   "outputs": [],
   "source": [
    "# data extract and split\n",
    "data = pd.read_csv(\"ratings.csv\")\n",
    "data.columns = [\"user\", \"item\", \"label\", \"time\"]\n",
    "\n",
    "train_data, eval_data, test_data = random_split(data, multi_ratios=[0.8, 0.1, 0.1])"
   ]
  },
  {
   "cell_type": "code",
   "execution_count": 4,
   "metadata": {},
   "outputs": [],
   "source": [
    "# make data compatible with libreco\n",
    "train_data, data_info= DatasetPure.build_trainset(train_data)\n",
    "eval_data = DatasetPure.build_evalset(eval_data)\n",
    "test_data = DatasetPure.build_testset(test_data)"
   ]
  },
  {
   "cell_type": "code",
   "execution_count": 5,
   "metadata": {},
   "outputs": [],
   "source": [
    "ncf = NCF(\n",
    "    task=\"rating\",\n",
    "    data_info=data_info,\n",
    "    loss_type=\"cross_entropy\",\n",
    "    embed_size=16,\n",
    "    n_epochs=10,\n",
    "    lr=1e-3,\n",
    "    batch_size=2048,\n",
    "    num_neg=1,\n",
    ")"
   ]
  },
  {
   "cell_type": "code",
   "execution_count": 6,
   "metadata": {},
   "outputs": [
    {
     "name": "stdout",
     "output_type": "stream",
     "text": [
      "Training start time: \u001b[35m2024-12-04 16:33:00\u001b[0m\n"
     ]
    },
    {
     "name": "stderr",
     "output_type": "stream",
     "text": [
      "C:\\Users\\bao'bao'mao\\AppData\\Roaming\\Python\\Python310\\site-packages\\libreco\\layers\\dense.py:31: UserWarning: `tf.layers.batch_normalization` is deprecated and will be removed in a future version. Please use `tf.keras.layers.BatchNormalization` instead. In particular, `tf.control_dependencies(tf.GraphKeys.UPDATE_OPS)` should not be used (consult the `tf.keras.layers.BatchNormalization` documentation).\n",
      "  net = tf.layers.batch_normalization(net, training=is_training)\n"
     ]
    },
    {
     "name": "stdout",
     "output_type": "stream",
     "text": [
      "WARNING:tensorflow:From C:\\Users\\bao'bao'mao\\AppData\\Roaming\\Python\\Python310\\site-packages\\keras\\src\\utils\\version_utils.py:76: The name tf.executing_eagerly_outside_functions is deprecated. Please use tf.compat.v1.executing_eagerly_outside_functions instead.\n",
      "\n"
     ]
    },
    {
     "name": "stderr",
     "output_type": "stream",
     "text": [
      "2024-12-04 16:33:01,655 - WARNING - From C:\\Users\\bao'bao'mao\\AppData\\Roaming\\Python\\Python310\\site-packages\\keras\\src\\utils\\version_utils.py:76: The name tf.executing_eagerly_outside_functions is deprecated. Please use tf.compat.v1.executing_eagerly_outside_functions instead.\n",
      "\n"
     ]
    },
    {
     "name": "stdout",
     "output_type": "stream",
     "text": [
      "WARNING:tensorflow:From C:\\Users\\bao'bao'mao\\AppData\\Roaming\\Python\\Python310\\site-packages\\keras\\src\\layers\\normalization\\batch_normalization.py:883: _colocate_with (from tensorflow.python.framework.ops) is deprecated and will be removed in a future version.\n",
      "Instructions for updating:\n",
      "Colocations handled automatically by placer.\n"
     ]
    },
    {
     "name": "stderr",
     "output_type": "stream",
     "text": [
      "2024-12-04 16:33:01,811 - WARNING - From C:\\Users\\bao'bao'mao\\AppData\\Roaming\\Python\\Python310\\site-packages\\keras\\src\\layers\\normalization\\batch_normalization.py:883: _colocate_with (from tensorflow.python.framework.ops) is deprecated and will be removed in a future version.\n",
      "Instructions for updating:\n",
      "Colocations handled automatically by placer.\n",
      "C:\\Users\\bao'bao'mao\\AppData\\Roaming\\Python\\Python310\\site-packages\\libreco\\layers\\dense.py:39: UserWarning: `tf.layers.batch_normalization` is deprecated and will be removed in a future version. Please use `tf.keras.layers.BatchNormalization` instead. In particular, `tf.control_dependencies(tf.GraphKeys.UPDATE_OPS)` should not be used (consult the `tf.keras.layers.BatchNormalization` documentation).\n",
      "  net = tf.layers.batch_normalization(net, training=is_training)\n"
     ]
    },
    {
     "name": "stdout",
     "output_type": "stream",
     "text": [
      "WARNING:tensorflow:From C:\\Users\\bao'bao'mao\\AppData\\Roaming\\Python\\Python310\\site-packages\\libreco\\training\\tf_trainer.py:120: The name tf.train.AdamOptimizer is deprecated. Please use tf.compat.v1.train.AdamOptimizer instead.\n",
      "\n"
     ]
    },
    {
     "name": "stderr",
     "output_type": "stream",
     "text": [
      "2024-12-04 16:33:02,794 - WARNING - From C:\\Users\\bao'bao'mao\\AppData\\Roaming\\Python\\Python310\\site-packages\\libreco\\training\\tf_trainer.py:120: The name tf.train.AdamOptimizer is deprecated. Please use tf.compat.v1.train.AdamOptimizer instead.\n",
      "\n",
      "train: 100%|██████████| 79/79 [00:02<00:00, 29.27it/s]\n"
     ]
    },
    {
     "name": "stdout",
     "output_type": "stream",
     "text": [
      "Epoch 1 elapsed: 2.708s\n",
      "\t \u001b[32mtrain_loss: 8.3543\u001b[0m\n"
     ]
    },
    {
     "name": "stderr",
     "output_type": "stream",
     "text": [
      "eval_pointwise: 100%|██████████| 2/2 [00:00<00:00,  6.56it/s]\n"
     ]
    },
    {
     "name": "stdout",
     "output_type": "stream",
     "text": [
      "\t eval rmse: 1.0240\n",
      "==============================\n"
     ]
    },
    {
     "name": "stderr",
     "output_type": "stream",
     "text": [
      "train: 100%|██████████| 79/79 [00:01<00:00, 41.90it/s]\n"
     ]
    },
    {
     "name": "stdout",
     "output_type": "stream",
     "text": [
      "Epoch 2 elapsed: 1.899s\n",
      "\t \u001b[32mtrain_loss: 0.8825\u001b[0m\n"
     ]
    },
    {
     "name": "stderr",
     "output_type": "stream",
     "text": [
      "eval_pointwise: 100%|██████████| 2/2 [00:00<00:00, 49.97it/s]\n"
     ]
    },
    {
     "name": "stdout",
     "output_type": "stream",
     "text": [
      "\t eval rmse: 1.0802\n",
      "==============================\n"
     ]
    },
    {
     "name": "stderr",
     "output_type": "stream",
     "text": [
      "train: 100%|██████████| 79/79 [00:02<00:00, 37.14it/s]\n"
     ]
    },
    {
     "name": "stdout",
     "output_type": "stream",
     "text": [
      "Epoch 3 elapsed: 2.143s\n",
      "\t \u001b[32mtrain_loss: 0.5949\u001b[0m\n"
     ]
    },
    {
     "name": "stderr",
     "output_type": "stream",
     "text": [
      "eval_pointwise: 100%|██████████| 2/2 [00:00<00:00, 47.59it/s]\n"
     ]
    },
    {
     "name": "stdout",
     "output_type": "stream",
     "text": [
      "\t eval rmse: 1.0813\n",
      "==============================\n"
     ]
    },
    {
     "name": "stderr",
     "output_type": "stream",
     "text": [
      "train: 100%|██████████| 79/79 [00:02<00:00, 36.73it/s]\n"
     ]
    },
    {
     "name": "stdout",
     "output_type": "stream",
     "text": [
      "Epoch 4 elapsed: 2.166s\n",
      "\t \u001b[32mtrain_loss: 0.4909\u001b[0m\n"
     ]
    },
    {
     "name": "stderr",
     "output_type": "stream",
     "text": [
      "eval_pointwise: 100%|██████████| 2/2 [00:00<00:00, 53.27it/s]\n"
     ]
    },
    {
     "name": "stdout",
     "output_type": "stream",
     "text": [
      "\t eval rmse: 1.0537\n",
      "==============================\n"
     ]
    },
    {
     "name": "stderr",
     "output_type": "stream",
     "text": [
      "train: 100%|██████████| 79/79 [00:01<00:00, 41.31it/s]\n"
     ]
    },
    {
     "name": "stdout",
     "output_type": "stream",
     "text": [
      "Epoch 5 elapsed: 1.922s\n",
      "\t \u001b[32mtrain_loss: 0.4393\u001b[0m\n"
     ]
    },
    {
     "name": "stderr",
     "output_type": "stream",
     "text": [
      "eval_pointwise: 100%|██████████| 2/2 [00:00<00:00, 48.13it/s]\n"
     ]
    },
    {
     "name": "stdout",
     "output_type": "stream",
     "text": [
      "\t eval rmse: 1.0423\n",
      "==============================\n"
     ]
    },
    {
     "name": "stderr",
     "output_type": "stream",
     "text": [
      "train: 100%|██████████| 79/79 [00:01<00:00, 47.16it/s]\n"
     ]
    },
    {
     "name": "stdout",
     "output_type": "stream",
     "text": [
      "Epoch 6 elapsed: 1.689s\n",
      "\t \u001b[32mtrain_loss: 0.4067\u001b[0m\n"
     ]
    },
    {
     "name": "stderr",
     "output_type": "stream",
     "text": [
      "eval_pointwise: 100%|██████████| 2/2 [00:00<00:00, 68.97it/s]\n"
     ]
    },
    {
     "name": "stdout",
     "output_type": "stream",
     "text": [
      "\t eval rmse: 1.0123\n",
      "==============================\n"
     ]
    },
    {
     "name": "stderr",
     "output_type": "stream",
     "text": [
      "train: 100%|██████████| 79/79 [00:01<00:00, 45.39it/s]\n"
     ]
    },
    {
     "name": "stdout",
     "output_type": "stream",
     "text": [
      "Epoch 7 elapsed: 1.752s\n",
      "\t \u001b[32mtrain_loss: 0.3805\u001b[0m\n"
     ]
    },
    {
     "name": "stderr",
     "output_type": "stream",
     "text": [
      "eval_pointwise: 100%|██████████| 2/2 [00:00<00:00, 60.61it/s]\n"
     ]
    },
    {
     "name": "stdout",
     "output_type": "stream",
     "text": [
      "\t eval rmse: 0.9742\n",
      "==============================\n"
     ]
    },
    {
     "name": "stderr",
     "output_type": "stream",
     "text": [
      "train: 100%|██████████| 79/79 [00:01<00:00, 46.08it/s]\n"
     ]
    },
    {
     "name": "stdout",
     "output_type": "stream",
     "text": [
      "Epoch 8 elapsed: 1.726s\n",
      "\t \u001b[32mtrain_loss: 0.3581\u001b[0m\n"
     ]
    },
    {
     "name": "stderr",
     "output_type": "stream",
     "text": [
      "eval_pointwise: 100%|██████████| 2/2 [00:00<00:00, 67.71it/s]\n"
     ]
    },
    {
     "name": "stdout",
     "output_type": "stream",
     "text": [
      "\t eval rmse: 0.9666\n",
      "==============================\n"
     ]
    },
    {
     "name": "stderr",
     "output_type": "stream",
     "text": [
      "train: 100%|██████████| 79/79 [00:01<00:00, 46.07it/s]\n"
     ]
    },
    {
     "name": "stdout",
     "output_type": "stream",
     "text": [
      "Epoch 9 elapsed: 1.726s\n",
      "\t \u001b[32mtrain_loss: 0.346\u001b[0m\n"
     ]
    },
    {
     "name": "stderr",
     "output_type": "stream",
     "text": [
      "eval_pointwise: 100%|██████████| 2/2 [00:00<00:00, 41.17it/s]\n"
     ]
    },
    {
     "name": "stdout",
     "output_type": "stream",
     "text": [
      "\t eval rmse: 0.9689\n",
      "==============================\n"
     ]
    },
    {
     "name": "stderr",
     "output_type": "stream",
     "text": [
      "train: 100%|██████████| 79/79 [00:02<00:00, 38.91it/s]\n"
     ]
    },
    {
     "name": "stdout",
     "output_type": "stream",
     "text": [
      "Epoch 10 elapsed: 2.041s\n",
      "\t \u001b[32mtrain_loss: 0.3307\u001b[0m\n"
     ]
    },
    {
     "name": "stderr",
     "output_type": "stream",
     "text": [
      "eval_pointwise: 100%|██████████| 2/2 [00:00<00:00, 49.30it/s]\n"
     ]
    },
    {
     "name": "stdout",
     "output_type": "stream",
     "text": [
      "\t eval rmse: 0.9910\n",
      "==============================\n"
     ]
    },
    {
     "name": "stderr",
     "output_type": "stream",
     "text": [
      "eval_pointwise: 100%|██████████| 2/2 [00:00<00:00, 61.68it/s]\n"
     ]
    },
    {
     "data": {
      "text/plain": [
       "{'loss': 1.0128553}"
      ]
     },
     "execution_count": 6,
     "metadata": {},
     "output_type": "execute_result"
    }
   ],
   "source": [
    "# monitor metrics on eval data during training\n",
    "ncf.fit(\n",
    "    train_data,\n",
    "    neg_sampling=False, #for rating, this param is false else True\n",
    "    verbose=2,\n",
    "    eval_data=eval_data,\n",
    "    metrics=[\"loss\"],\n",
    ")\n",
    "\n",
    "# do final evaluation on test data\n",
    "evaluate(\n",
    "    model=ncf,\n",
    "    data=test_data,\n",
    "    neg_sampling=False,\n",
    "    metrics=[\"loss\"],\n",
    ")"
   ]
  },
  {
   "cell_type": "code",
   "execution_count": null,
   "metadata": {},
   "outputs": [
    {
     "data": {
      "text/plain": [
       "{575: array([   940,   3819, 179133,   4658,   1023,   1041,   2423,   3468,\n",
       "          1125,  86911], dtype=int64)}"
      ]
     },
     "execution_count": 10,
     "metadata": {},
     "output_type": "execute_result"
    }
   ],
   "source": [
    "# predict preference of user 575 to item 10\n",
    "ncf.predict(user=575, item=10)\n",
    "\n",
    "# recommend 10items for user 5755\n",
    "ncf_reco_result = ncf.recommend_user(user=575, n_rec=10)"
   ]
  },
  {
   "cell_type": "code",
   "execution_count": null,
   "metadata": {},
   "outputs": [],
   "source": [
    "# from sklearn.metrics import ndcg_score\n",
    "\n",
    "# # Since we have already sorted our recommendations\n",
    "# # An array that represent our recommendation scores is used.\n",
    "# representative_array = [[i for i in range(k, 0, -1)]] * len(transformer_reco_results)\n",
    "\n",
    "# trans_score, popular_score = [], []\n",
    "# for k in range(1,10):\n",
    "#   transformer_result = ndcg_score(transformer_reco_results,\n",
    "#                                   representative_array, k=k)\n",
    "#   popular_result = ndcg_score(popular_reco_results,\n",
    "#                               representative_array, k=k)\n",
    "  \n",
    "#   trans_score.append(transformer_result)\n",
    "#   popular_score.append(popular_result)\n",
    "#   print(f\"Transformer NDCG result at top {k}: {round(transformer_result, 4)}\")\n",
    "#   print(f\"Popular recommendation NDCG result at top {k}: {round(popular_result, 4)}\\n\\n\")"
   ]
  },
  {
   "cell_type": "markdown",
   "metadata": {},
   "source": [
    "# Transformer"
   ]
  },
  {
   "cell_type": "code",
   "execution_count": 34,
   "metadata": {},
   "outputs": [],
   "source": [
    "import torchtext"
   ]
  },
  {
   "cell_type": "code",
   "execution_count": 7,
   "metadata": {},
   "outputs": [],
   "source": [
    "import time\n",
    "import math\n",
    "import os\n",
    "from tempfile import TemporaryDirectory\n",
    "from typing import Tuple\n",
    "\n",
    "import torch\n",
    "from torch import nn, Tensor\n",
    "from torch.nn import TransformerEncoder, TransformerEncoderLayer\n",
    "from torch.utils.data import dataset\n",
    "from torchtext.vocab import vocab\n",
    "from torch.utils.data import DataLoader, Dataset\n",
    "from torch.nn.utils.rnn import pad_sequence\n",
    "\n",
    "from collections import Counter\n",
    "\n",
    "from zipfile import ZipFile\n",
    "from urllib.request import urlretrieve\n",
    "from libreco.data import random_split\n",
    "\n",
    "import pandas as pd\n",
    "import numpy as np"
   ]
  },
  {
   "cell_type": "markdown",
   "metadata": {},
   "source": [
    "## Data preparation"
   ]
  },
  {
   "cell_type": "code",
   "execution_count": 2,
   "metadata": {},
   "outputs": [
    {
     "name": "stderr",
     "output_type": "stream",
     "text": [
      "C:\\Users\\bao'bao'mao\\AppData\\Local\\Temp\\ipykernel_15716\\620852954.py:3: ParserWarning: Falling back to the 'python' engine because the 'c' engine does not support regex separators (separators > 1 char and different from '\\s+' are interpreted as regex); you can avoid this warning by specifying engine='python'.\n",
      "  users = pd.read_csv(\n",
      "C:\\Users\\bao'bao'mao\\AppData\\Local\\Temp\\ipykernel_15716\\620852954.py:9: ParserWarning: Falling back to the 'python' engine because the 'c' engine does not support regex separators (separators > 1 char and different from '\\s+' are interpreted as regex); you can avoid this warning by specifying engine='python'.\n",
      "  ratings = pd.read_csv(\n",
      "C:\\Users\\bao'bao'mao\\AppData\\Local\\Temp\\ipykernel_15716\\620852954.py:15: ParserWarning: Falling back to the 'python' engine because the 'c' engine does not support regex separators (separators > 1 char and different from '\\s+' are interpreted as regex); you can avoid this warning by specifying engine='python'.\n",
      "  movies = pd.read_csv(\n"
     ]
    }
   ],
   "source": [
    "# Loading dataset\n",
    "\n",
    "users = pd.read_csv(\n",
    "    \"users.dat\",\n",
    "    sep=\"::\",\n",
    "    names=[\"user_id\", \"sex\", \"age_group\", \"occupation\", \"zip_code\"],\n",
    ")\n",
    "\n",
    "ratings = pd.read_csv(\n",
    "    \"ratings.dat\",\n",
    "    sep=\"::\",\n",
    "    names=[\"user_id\", \"movie_id\", \"rating\", \"unix_timestamp\"],\n",
    ")\n",
    "\n",
    "movies = pd.read_csv(\n",
    "    \"movies.dat\", sep=\"::\", names=[\"movie_id\", \"title\", \"genres\"], encoding='latin-1'\n",
    ")"
   ]
  },
  {
   "cell_type": "code",
   "execution_count": 3,
   "metadata": {},
   "outputs": [],
   "source": [
    "# Preventing ids to be written as integer or float data type\n",
    "users[\"user_id\"] = users[\"user_id\"].apply(lambda x: f\"user_{x}\")\n",
    "movies[\"movie_id\"] = movies[\"movie_id\"].apply(lambda x: f\"movie_{x}\")\n",
    "ratings[\"movie_id\"] = ratings[\"movie_id\"].apply(lambda x: f\"movie_{x}\")\n",
    "ratings[\"user_id\"] = ratings[\"user_id\"].apply(lambda x: f\"user_{x}\")"
   ]
  },
  {
   "cell_type": "code",
   "execution_count": 4,
   "metadata": {},
   "outputs": [
    {
     "name": "stdout",
     "output_type": "stream",
     "text": [
      "{'user_682': 682, 'user_1971': 1971, 'user_60': 60, 'user_1607': 1607, 'user_11': 11, 'user_1320': 1320, 'user_130': 130, 'user_3021': 3021, 'user_5319': 5319, 'user_1492': 1492, 'user_1089': 1089, 'user_620': 620, 'user_2581': 2581, 'user_307': 307, 'user_4': 4, 'user_141': 141, 'user_2062': 2062, 'user_985': 985, 'user_3469': 3469, 'user_2853': 2853, 'user_5759': 5759, '<unk>': 0, 'user_3353': 3353, 'user_1504': 1504, 'user_29': 29, 'user_1444': 1444, 'user_258': 258, 'user_3622': 3622, 'user_2449': 2449, 'user_1602': 1602, 'user_14': 14, 'user_1325': 1325, 'user_135': 135, 'user_3024': 3024, 'user_1497': 1497, 'user_625': 625, 'user_2584': 2584, 'user_302': 302, 'user_1': 1, 'user_144': 144, 'user_2067': 2067, 'user_2856': 2856, 'user_889': 889, 'user_980': 980, 'user_136': 136, 'user_3027': 3027, 'user_5025': 5025, 'user_529': 529, 'user_1708': 1708, 'user_1601': 1601, 'user_17': 17, 'user_1326': 1326, 'user_1494': 1494, 'user_626': 626, 'user_2587': 2587, 'user_301': 301, 'user_208': 208, 'user_2': 2, 'user_147': 147, 'user_2064': 2064, 'user_2855': 2855, 'user_983': 983, 'user_137': 137, 'user_3026': 3026, 'user_5024': 5024, 'user_528': 528, 'user_1709': 1709, 'user_1600': 1600, 'user_16': 16, 'user_1327': 1327, 'user_1495': 1495, 'user_627': 627, 'user_2586': 2586, 'user_300': 300, 'user_209': 209, 'user_3': 3, 'user_146': 146, 'user_2065': 2065, 'user_2854': 2854, 'user_982': 982, 'user_683': 683, 'user_1970': 1970, 'user_61': 61, 'user_1606': 1606, 'user_10': 10, 'user_1321': 1321, 'user_131': 131, 'user_3020': 3020, 'user_5318': 5318, 'user_1493': 1493, 'user_1088': 1088, 'user_621': 621, 'user_2580': 2580, 'user_306': 306, 'user_5': 5, 'user_140': 140, 'user_2063': 2063, 'user_984': 984, 'user_3468': 3468, 'user_2852': 2852, 'user_680': 680, 'user_1973': 1973, 'user_62': 62, 'user_2248': 2248, 'user_1605': 1605, 'user_13': 13, 'user_1322': 1322, 'user_132': 132, 'user_3023': 3023, 'user_1490': 1490, 'user_622': 622, 'user_2583': 2583, 'user_4369': 4369, 'user_305': 305, 'user_6': 6, 'user_143': 143, 'user_2060': 2060, 'user_2851': 2851, 'user_987': 987, 'user_681': 681, 'user_1972': 1972, 'user_63': 63, 'user_2249': 2249, 'user_1604': 1604, 'user_12': 12, 'user_1323': 1323, 'user_133': 133, 'user_3022': 3022, 'user_1491': 1491, 'user_623': 623, 'user_2582': 2582, 'user_4368': 4368, 'user_304': 304, 'user_7': 7, 'user_142': 142, 'user_2061': 2061, 'user_2850': 2850, 'user_986': 986, 'user_20': 20, 'user_3586': 3586, 'user_8': 8, 'user_4367': 4367, 'user_202': 202, 'user_1085': 1085, 'user_21': 21, 'user_3587': 3587, 'user_9': 9, 'user_4366': 4366, 'user_203': 203, 'user_1084': 1084, 'user_28': 28, 'user_1445': 1445, 'user_259': 259, 'user_3623': 3623, 'user_2448': 2448, 'user_1603': 1603, 'user_15': 15, 'user_1324': 1324, 'user_134': 134, 'user_3025': 3025, 'user_25': 25, 'user_3583': 3583, 'user_5361': 5361, 'user_1448': 1448, 'user_2445': 2445, 'user_254': 254, 'user_139': 139, 'user_3028': 3028, 'user_526': 526, 'user_3411': 3411, 'user_1707': 1707, 'user_18': 18, 'user_1329': 1329, 'user_24': 24, 'user_3582': 3582, 'user_5360': 5360, 'user_1449': 1449, 'user_2444': 2444, 'user_255': 255, 'user_138': 138, 'user_3029': 3029, 'user_527': 527, 'user_3410': 3410, 'user_1706': 1706, 'user_19': 19, 'user_1328': 1328, 'user_22': 22, 'user_3584': 3584, 'user_23': 23, 'user_3585': 3585, 'user_26': 26, 'user_3580': 3580, 'user_27': 27, 'user_3581': 3581, 'user_951': 951, 'user_1460': 1460, 'user_393': 393, 'user_3642': 3642, 'user_1662': 1662, 'user_30': 30, 'user_950': 950, 'user_1461': 1461, 'user_392': 392, 'user_3643': 3643, 'user_1663': 1663, 'user_31': 31, 'user_2889': 2889, 'user_953': 953, 'user_1462': 1462, 'user_391': 391, 'user_3640': 3640, 'user_4069': 4069, 'user_1660': 1660, 'user_32': 32, 'user_3598': 3598, 'user_2888': 2888, 'user_952': 952, 'user_1463': 1463, 'user_390': 390, 'user_3641': 3641, 'user_4068': 4068, 'user_1661': 1661, 'user_33': 33, 'user_3599': 3599, 'user_955': 955, 'user_1464': 1464, 'user_397': 397, 'user_3646': 3646, 'user_1666': 1666, 'user_34': 34, 'user_954': 954, 'user_1465': 1465, 'user_396': 396, 'user_3647': 3647, 'user_1667': 1667, 'user_35': 35, 'user_957': 957, 'user_1466': 1466, 'user_395': 395, 'user_3644': 3644, 'user_1664': 1664, 'user_36': 36, 'user_956': 956, 'user_1467': 1467, 'user_394': 394, 'user_3645': 3645, 'user_1665': 1665, 'user_37': 37, 'user_38': 38, 'user_3592': 3592, 'user_39': 39, 'user_3593': 3593, 'user_5106': 5106, 'user_943': 943, 'user_1410': 1410, 'user_385': 385, 'user_3672': 3672, 'user_1652': 1652, 'user_40': 40, 'user_2226': 2226, 'user_5107': 5107, 'user_942': 942, 'user_1411': 1411, 'user_384': 384, 'user_3673': 3673, 'user_1653': 1653, 'user_41': 41, 'user_2227': 2227, 'user_1188': 1188, 'user_5104': 5104, 'user_941': 941, 'user_1412': 1412, 'user_387': 387, 'user_3670': 3670, 'user_1650': 1650, 'user_42': 42, 'user_2224': 2224, 'user_1189': 1189, 'user_5105': 5105, 'user_940': 940, 'user_1413': 1413, 'user_386': 386, 'user_3671': 3671, 'user_1651': 1651, 'user_43': 43, 'user_2225': 2225, 'user_2899': 2899, 'user_5102': 5102, 'user_947': 947, 'user_1414': 1414, 'user_381': 381, 'user_3676': 3676, 'user_4079': 4079, 'user_1656': 1656, 'user_44': 44, 'user_2222': 2222, 'user_2898': 2898, 'user_5103': 5103, 'user_946': 946, 'user_1415': 1415, 'user_380': 380, 'user_3677': 3677, 'user_4078': 4078, 'user_1657': 1657, 'user_45': 45, 'user_2223': 2223, 'user_5100': 5100, 'user_945': 945, 'user_1416': 1416, 'user_383': 383, 'user_3674': 3674, 'user_1654': 1654, 'user_46': 46, 'user_2220': 2220, 'user_5101': 5101, 'user_944': 944, 'user_1417': 1417, 'user_382': 382, 'user_3675': 3675, 'user_1655': 1655, 'user_47': 47, 'user_2221': 2221, 'user_48': 48, 'user_49': 49, 'user_50': 50, 'user_51': 51, 'user_52': 52, 'user_2238': 2238, 'user_53': 53, 'user_2239': 2239, 'user_54': 54, 'user_55': 55, 'user_1648': 1648, 'user_56': 56, 'user_1649': 1649, 'user_57': 57, 'user_1646': 1646, 'user_58': 58, 'user_2232': 2232, 'user_1647': 1647, 'user_59': 59, 'user_2233': 2233, 'user_686': 686, 'user_1975': 1975, 'user_1759': 1759, 'user_64': 64, 'user_687': 687, 'user_1974': 1974, 'user_1758': 1758, 'user_65': 65, 'user_684': 684, 'user_1977': 1977, 'user_66': 66, 'user_685': 685, 'user_1976': 1976, 'user_67': 67, 'user_1755': 1755, 'user_68': 68, 'user_2242': 2242, 'user_1754': 1754, 'user_69': 69, 'user_2243': 2243, 'user_70': 70, 'user_2256': 2256, 'user_71': 71, 'user_2257': 2257, 'user_1769': 1769, 'user_72': 72, 'user_2254': 2254, 'user_1768': 1768, 'user_73': 73, 'user_2255': 2255, 'user_74': 74, 'user_2252': 2252, 'user_75': 75, 'user_2253': 2253, 'user_76': 76, 'user_2250': 2250, 'user_77': 77, 'user_2251': 2251, 'user_1763': 1763, 'user_78': 78, 'user_1762': 1762, 'user_79': 79, 'user_415': 415, 'user_80': 80, 'user_1393': 1393, 'user_1278': 1278, 'user_4224': 4224, 'user_2020': 2020, 'user_183': 183, 'user_2169': 2169, 'user_414': 414, 'user_81': 81, 'user_1392': 1392, 'user_1279': 1279, 'user_4225': 4225, 'user_2021': 2021, 'user_182': 182, 'user_2168': 2168, 'user_417': 417, 'user_82': 82, 'user_3568': 3568, 'user_1391': 1391, 'user_4226': 4226, 'user_2022': 2022, 'user_181': 181, 'user_416': 416, 'user_83': 83, 'user_3569': 3569, 'user_1390': 1390, 'user_4227': 4227, 'user_2023': 2023, 'user_180': 180, 'user_411': 411, 'user_84': 84, 'user_1397': 1397, 'user_4220': 4220, 'user_2024': 2024, 'user_187': 187, 'user_410': 410, 'user_85': 85, 'user_1396': 1396, 'user_4221': 4221, 'user_2025': 2025, 'user_186': 186, 'user_413': 413, 'user_86': 86, 'user_1395': 1395, 'user_2408': 2408, 'user_4222': 4222, 'user_2026': 2026, 'user_299': 299, 'user_185': 185, 'user_412': 412, 'user_87': 87, 'user_1394': 1394, 'user_2409': 2409, 'user_4223': 4223, 'user_2027': 2027, 'user_298': 298, 'user_184': 184, 'user_88': 88, 'user_3562': 3562, 'user_1270': 1270, 'user_2406': 2406, 'user_2028': 2028, 'user_297': 297, 'user_2161': 2161, 'user_89': 89, 'user_3563': 3563, 'user_1271': 1271, 'user_2407': 2407, 'user_2029': 2029, 'user_296': 296, 'user_2160': 2160, 'user_676': 676, 'user_719': 719, 'user_2571': 2571, 'user_337': 337, 'user_90': 90, 'user_4083': 4083, 'user_1268': 1268, 'user_677': 677, 'user_718': 718, 'user_2570': 2570, 'user_336': 336, 'user_91': 91, 'user_4082': 4082, 'user_1269': 1269, 'user_674': 674, 'user_2573': 2573, 'user_335': 335, 'user_92': 92, 'user_4081': 4081, 'user_675': 675, 'user_2572': 2572, 'user_334': 334, 'user_93': 93, 'user_4080': 4080, 'user_672': 672, 'user_2575': 2575, 'user_333': 333, 'user_94': 94, 'user_4087': 4087, 'user_673': 673, 'user_2574': 2574, 'user_332': 332, 'user_95': 95, 'user_4086': 4086, 'user_670': 670, 'user_2577': 2577, 'user_331': 331, 'user_96': 96, 'user_3578': 3578, 'user_4085': 4085, 'user_671': 671, 'user_2576': 2576, 'user_330': 330, 'user_97': 97, 'user_3579': 3579, 'user_4084': 4084, 'user_98': 98, 'user_3576': 3576, 'user_1260': 1260, 'user_99': 99, 'user_3577': 3577, 'user_1261': 1261, 'user_100': 100, 'user_3033': 3033, 'user_5035': 5035, 'user_539': 539, 'user_3428': 3428, 'user_1611': 1611, 'user_496': 496, 'user_1310': 1310, 'user_101': 101, 'user_3032': 3032, 'user_5034': 5034, 'user_538': 538, 'user_3429': 3429, 'user_1610': 1610, 'user_497': 497, 'user_1311': 1311, 'user_102': 102, 'user_3031': 3031, 'user_1613': 1613, 'user_494': 494, 'user_1312': 1312, 'user_103': 103, 'user_3030': 3030, 'user_1612': 1612, 'user_495': 495, 'user_1313': 1313, 'user_104': 104, 'user_3037': 3037, 'user_1615': 1615, 'user_492': 492, 'user_1314': 1314, 'user_105': 105, 'user_3036': 3036, 'user_1614': 1614, 'user_493': 493, 'user_1315': 1315, 'user_106': 106, 'user_3035': 3035, 'user_1617': 1617, 'user_490': 490, 'user_1316': 1316, 'user_1455': 1455, 'user_348': 348, 'user_3637': 3637, 'user_107': 107, 'user_3034': 3034, 'user_1616': 1616, 'user_491': 491, 'user_1317': 1317, 'user_1454': 1454, 'user_349': 349, 'user_3636': 3636, 'user_346': 346, 'user_3639': 3639, 'user_108': 108, 'user_531': 531, 'user_3420': 3420, 'user_347': 347, 'user_3638': 3638, 'user_109': 109, 'user_530': 530, 'user_3421': 3421, 'user_352': 352, 'user_3603': 3603, 'user_110': 110, 'user_2051': 2051, 'user_353': 353, 'user_3602': 3602, 'user_111': 111, 'user_2050': 2050, 'user_112': 112, 'user_2053': 2053, 'user_1621': 1621, 'user_488': 488, 'user_1302': 1302, 'user_350': 350, 'user_3601': 3601, 'user_113': 113, 'user_2052': 2052, 'user_1620': 1620, 'user_489': 489, 'user_1303': 1303, 'user_351': 351, 'user_3600': 3600, 'user_356': 356, 'user_3607': 3607, 'user_114': 114, 'user_2055': 2055, 'user_357': 357, 'user_3606': 3606, 'user_115': 115, 'user_2054': 2054, 'user_354': 354, 'user_3605': 3605, 'user_116': 116, 'user_2057': 2057, 'user_355': 355, 'user_3604': 3604, 'user_117': 117, 'user_2056': 2056, 'user_118': 118, 'user_2059': 2059, 'user_482': 482, 'user_1308': 1308, 'user_1201': 1201, 'user_119': 119, 'user_2058': 2058, 'user_483': 483, 'user_1309': 1309, 'user_1200': 1200, 'user_1587': 1587, 'user_120': 120, 'user_559': 559, 'user_3408': 3408, 'user_1586': 1586, 'user_121': 121, 'user_558': 558, 'user_3409': 3409, 'user_269': 269, 'user_3653': 3653, 'user_1585': 1585, 'user_122': 122, 'user_268': 268, 'user_3652': 3652, 'user_1584': 1584, 'user_123': 123, 'user_1583': 1583, 'user_124': 124, 'user_1582': 1582, 'user_125': 125, 'user_1677': 1677, 'user_2203': 2203, 'user_1336': 1336, 'user_759': 759, 'user_2618': 2618, 'user_3994': 3994, 'user_1581': 1581, 'user_126': 126, 'user_1676': 1676, 'user_2202': 2202, 'user_1337': 1337, 'user_758': 758, 'user_2619': 2619, 'user_3995': 3995, 'user_1580': 1580, 'user_127': 127, 'user_263': 263, 'user_2155': 2155, 'user_3659': 3659, 'user_2454': 2454, 'user_1338': 1338, 'user_1712': 1712, 'user_1679': 1679, 'user_757': 757, 'user_2616': 2616, 'user_128': 128, 'user_551': 551, 'user_3400': 3400, 'user_262': 262, 'user_2154': 2154, 'user_3658': 3658, 'user_2455': 2455, 'user_1339': 1339, 'user_1713': 1713, 'user_1678': 1678, 'user_756': 756, 'user_2617': 2617, 'user_129': 129, 'user_550': 550, 'user_3401': 3401, 'user_1496': 1496, 'user_624': 624, 'user_2585': 2585, 'user_303': 303, 'user_145': 145, 'user_2066': 2066, 'user_2857': 2857, 'user_888': 888, 'user_981': 981, 'user_1080': 1080, 'user_629': 629, 'user_2588': 2588, 'user_4362': 4362, 'user_207': 207, 'user_148': 148, 'user_885': 885, 'user_3460': 3460, 'user_1081': 1081, 'user_628': 628, 'user_2589': 2589, 'user_4363': 4363, 'user_206': 206, 'user_149': 149, 'user_884': 884, 'user_3461': 3461, 'user_1098': 1098, 'user_613': 613, 'user_2590': 2590, 'user_312': 312, 'user_4215': 4215, 'user_2011': 2011, 'user_150': 150, 'user_3081': 3081, 'user_1099': 1099, 'user_612': 612, 'user_2591': 2591, 'user_313': 313, 'user_4214': 4214, 'user_2010': 2010, 'user_151': 151, 'user_3080': 3080, 'user_611': 611, 'user_2592': 2592, 'user_310': 310, 'user_4217': 4217, 'user_2013': 2013, 'user_152': 152, 'user_3083': 3083, 'user_610': 610, 'user_2593': 2593, 'user_311': 311, 'user_4216': 4216, 'user_2012': 2012, 'user_153': 153, 'user_3082': 3082, 'user_617': 617, 'user_2594': 2594, 'user_316': 316, 'user_4211': 4211, 'user_2015': 2015, 'user_154': 154, 'user_3085': 3085, 'user_2842': 2842, 'user_5043': 5043, 'user_998': 998, 'user_616': 616, 'user_2595': 2595, 'user_317': 317, 'user_4210': 4210, 'user_2014': 2014, 'user_155': 155, 'user_3084': 3084, 'user_2843': 2843, 'user_5042': 5042, 'user_999': 999, 'user_615': 615, 'user_2596': 2596, 'user_4378': 4378, 'user_314': 314, 'user_4213': 4213, 'user_2017': 2017, 'user_156': 156, 'user_3087': 3087, 'user_614': 614, 'user_2597': 2597, 'user_4379': 4379, 'user_315': 315, 'user_4212': 4212, 'user_2016': 2016, 'user_157': 157, 'user_3086': 3086, 'user_2019': 2019, 'user_158': 158, 'user_3089': 3089, 'user_994': 994, 'user_3470': 3470, 'user_2018': 2018, 'user_159': 159, 'user_3088': 3088, 'user_995': 995, 'user_3471': 3471, 'user_362': 362, 'user_3611': 3611, 'user_2047': 2047, 'user_160': 160, 'user_363': 363, 'user_3610': 3610, 'user_2046': 2046, 'user_161': 161, 'user_360': 360, 'user_3613': 3613, 'user_2045': 2045, 'user_162': 162, 'user_361': 361, 'user_3612': 3612, 'user_2044': 2044, 'user_163': 163, 'user_366': 366, 'user_3615': 3615, 'user_2043': 2043, 'user_164': 164, 'user_367': 367, 'user_3614': 3614, 'user_2042': 2042, 'user_165': 165, 'user_364': 364, 'user_3617': 3617, 'user_2041': 2041, 'user_166': 166, 'user_3778': 3778, 'user_365': 365, 'user_3616': 3616, 'user_2040': 2040, 'user_167': 167, 'user_3779': 3779, 'user_168': 168, 'user_3776': 3776, 'user_169': 169, 'user_3777': 3777, 'user_170': 170, 'user_2071': 2071, 'user_171': 171, 'user_2070': 2070, 'user_172': 172, 'user_2073': 2073, 'user_3768': 3768, 'user_173': 173, 'user_2072': 2072, 'user_3769': 3769, 'user_174': 174, 'user_2075': 2075, 'user_175': 175, 'user_2074': 2074, 'user_4138': 4138, 'user_868': 868, 'user_3531': 3531, 'user_1366': 1366, 'user_1858': 1858, 'user_2998': 2998, 'user_176': 176, 'user_2077': 2077, 'user_5854': 5854, 'user_1069': 1069, 'user_4139': 4139, 'user_869': 869, 'user_3530': 3530, 'user_1367': 1367, 'user_1859': 1859, 'user_2999': 2999, 'user_177': 177, 'user_2076': 2076, 'user_5855': 5855, 'user_1068': 1068, 'user_4136': 4136, 'user_866': 866, 'user_1368': 1368, 'user_1221': 1221, 'user_1856': 1856, 'user_2996': 2996, 'user_178': 178, 'user_2079': 2079, 'user_3762': 3762, 'user_1067': 1067, 'user_4137': 4137, 'user_867': 867, 'user_1369': 1369, 'user_1220': 1220, 'user_1857': 1857, 'user_2997': 2997, 'user_179': 179, 'user_2078': 2078, 'user_3763': 3763, 'user_1066': 1066, 'user_2405': 2405, 'user_294': 294, 'user_188': 188, 'user_2162': 2162, 'user_2404': 2404, 'user_295': 295, 'user_189': 189, 'user_2163': 2163, 'user_190': 190, 'user_191': 191, 'user_192': 192, 'user_589': 589, 'user_193': 193, 'user_588': 588, 'user_194': 194, 'user_3139': 3139, 'user_195': 195, 'user_3138': 3138, 'user_196': 196, 'user_4129': 4129, 'user_879': 879, 'user_197': 197, 'user_4128': 4128, 'user_878': 878, 'user_198': 198, 'user_3135': 3135, 'user_4127': 4127, 'user_583': 583, 'user_877': 877, 'user_199': 199, 'user_3134': 3134, 'user_4126': 4126, 'user_582': 582, 'user_876': 876, 'user_4365': 4365, 'user_309': 309, 'user_200': 200, 'user_1087': 1087, 'user_4364': 4364, 'user_308': 308, 'user_201': 201, 'user_1086': 1086, 'user_5313': 5313, 'user_1498': 1498, 'user_4361': 4361, 'user_204': 204, 'user_1083': 1083, 'user_5312': 5312, 'user_1499': 1499, 'user_4360': 4360, 'user_205': 205, 'user_1082': 1082, 'user_2481': 2481, 'user_210': 210, 'user_2480': 2480, 'user_211': 211, 'user_638': 638, 'user_2483': 2483, 'user_379': 379, 'user_212': 212, 'user_639': 639, 'user_2482': 2482, 'user_378': 378, 'user_213': 213, 'user_2485': 2485, 'user_214': 214, 'user_2484': 2484, 'user_215': 215, 'user_2487': 2487, 'user_4399': 4399, 'user_216': 216, 'user_2486': 2486, 'user_4398': 4398, 'user_217': 217, 'user_632': 632, 'user_2489': 2489, 'user_4397': 4397, 'user_373': 373, 'user_218': 218, 'user_633': 633, 'user_2488': 2488, 'user_4396': 4396, 'user_372': 372, 'user_219': 219, 'user_4385': 4385, 'user_220': 220, 'user_4384': 4384, 'user_221': 221, 'user_510': 510, 'user_3441': 3441, 'user_4387': 4387, 'user_222': 222, 'user_468': 468, 'user_511': 511, 'user_3440': 3440, 'user_4386': 4386, 'user_223': 223, 'user_469': 469, 'user_4381': 4381, 'user_224': 224, 'user_4380': 4380, 'user_225': 225, 'user_2499': 2499, 'user_4383': 4383, 'user_226': 226, 'user_2498': 2498, 'user_4382': 4382, 'user_227': 227, 'user_2497': 2497, 'user_228': 228, 'user_462': 462, 'user_2496': 2496, 'user_229': 229, 'user_463': 463, 'user_506': 506, 'user_3435': 3435, 'user_2461': 2461, 'user_230': 230, 'user_507': 507, 'user_3434': 3434, 'user_2460': 2460, 'user_231': 231, 'user_504': 504, 'user_3437': 3437, 'user_2463': 2463, 'user_232': 232, 'user_505': 505, 'user_3436': 3436, 'user_2462': 2462, 'user_233': 233, 'user_2906': 2906, 'user_788': 788, 'user_2667': 2667, 'user_502': 502, 'user_3431': 3431, 'user_2465': 2465, 'user_234': 234, 'user_2907': 2907, 'user_789': 789, 'user_2666': 2666, 'user_503': 503, 'user_3430': 3430, 'user_2464': 2464, 'user_235': 235, 'user_500': 500, 'user_3433': 3433, 'user_2467': 2467, 'user_4289': 4289, 'user_236': 236, 'user_478': 478, 'user_501': 501, 'user_3432': 3432, 'user_2466': 2466, 'user_4288': 4288, 'user_237': 237, 'user_479': 479, 'user_2469': 2469, 'user_4287': 4287, 'user_238': 238, 'user_476': 476, 'user_4012': 4012, 'user_2468': 2468, 'user_4286': 4286, 'user_239': 239, 'user_477': 477, 'user_4013': 4013, 'user_2473': 2473, 'user_4299': 4299, 'user_240': 240, 'user_446': 446, 'user_2472': 2472, 'user_4298': 4298, 'user_241': 241, 'user_447': 447, 'user_2471': 2471, 'user_242': 242, 'user_444': 444, 'user_4028': 4028, 'user_2470': 2470, 'user_243': 243, 'user_445': 445, 'user_4029': 4029, 'user_2477': 2477, 'user_244': 244, 'user_442': 442, 'user_2476': 2476, 'user_245': 245, 'user_443': 443, 'user_2475': 2475, 'user_246': 246, 'user_440': 440, 'user_2474': 2474, 'user_247': 247, 'user_441': 441, 'user_4291': 4291, 'user_248': 248, 'user_4290': 4290, 'user_249': 249, 'user_2441': 2441, 'user_250': 250, 'user_2440': 2440, 'user_251': 251, 'user_252': 252, 'user_3628': 3628, 'user_2443': 2443, 'user_253': 253, 'user_3629': 3629, 'user_2442': 2442, 'user_2447': 2447, 'user_256': 256, 'user_2446': 2446, 'user_257': 257, 'user_2457': 2457, 'user_260': 260, 'user_2156': 2156, 'user_2456': 2456, 'user_261': 261, 'user_2157': 2157, 'user_2453': 2453, 'user_264': 264, 'user_2152': 2152, 'user_2452': 2452, 'user_265': 265, 'user_2153': 2153, 'user_2451': 2451, 'user_266': 266, 'user_2150': 2150, 'user_2450': 2450, 'user_267': 267, 'user_2151': 2151, 'user_2421': 2421, 'user_4247': 4247, 'user_270': 270, 'user_2142': 2142, 'user_436': 436, 'user_3545': 3545, 'user_1293': 1293, 'user_2420': 2420, 'user_4246': 4246, 'user_271': 271, 'user_2143': 2143, 'user_437': 437, 'user_3544': 3544, 'user_1292': 1292, 'user_2423': 2423, 'user_4245': 4245, 'user_272': 272, 'user_2140': 2140, 'user_5138': 5138, 'user_434': 434, 'user_3547': 3547, 'user_1291': 1291, 'user_2799': 2799, 'user_2422': 2422, 'user_4244': 4244, 'user_273': 273, 'user_2141': 2141, 'user_5139': 5139, 'user_435': 435, 'user_3546': 3546, 'user_1290': 1290, 'user_2798': 2798, 'user_1019': 1019, 'user_2425': 2425, 'user_4243': 4243, 'user_274': 274, 'user_2146': 2146, 'user_432': 432, 'user_3541': 3541, 'user_1297': 1297, 'user_1018': 1018, 'user_2424': 2424, 'user_4242': 4242, 'user_275': 275, 'user_2147': 2147, 'user_433': 433, 'user_3540': 3540, 'user_1296': 1296, 'user_2427': 2427, 'user_4241': 4241, 'user_276': 276, 'user_2144': 2144, 'user_430': 430, 'user_3543': 3543, 'user_1295': 1295, 'user_2426': 2426, 'user_4240': 4240, 'user_277': 277, 'user_2145': 2145, 'user_431': 431, 'user_3542': 3542, 'user_1294': 1294, 'user_1015': 1015, 'user_2429': 2429, 'user_278': 278, 'user_1014': 1014, 'user_2428': 2428, 'user_279': 279, 'user_1007': 1007, 'user_2433': 2433, 'user_4259': 4259, 'user_280': 280, 'user_2172': 2172, 'user_1006': 1006, 'user_2432': 2432, 'user_4258': 4258, 'user_281': 281, 'user_2173': 2173, 'user_1005': 1005, 'user_2431': 2431, 'user_282': 282, 'user_2170': 2170, 'user_1004': 1004, 'user_2430': 2430, 'user_283': 283, 'user_2171': 2171, 'user_1003': 1003, 'user_2437': 2437, 'user_284': 284, 'user_2176': 2176, 'user_1002': 1002, 'user_2436': 2436, 'user_285': 285, 'user_2177': 2177, 'user_1001': 1001, 'user_2435': 2435, 'user_286': 286, 'user_2174': 2174, 'user_408': 408, 'user_3559': 3559, 'user_2783': 2783, 'user_1000': 1000, 'user_2434': 2434, 'user_287': 287, 'user_2175': 2175, 'user_409': 409, 'user_3558': 3558, 'user_2782': 2782, 'user_4251': 4251, 'user_288': 288, 'user_406': 406, 'user_3557': 3557, 'user_1285': 1285, 'user_4250': 4250, 'user_289': 289, 'user_407': 407, 'user_3556': 3556, 'user_1284': 1284, 'user_2401': 2401, 'user_290': 290, 'user_2166': 2166, 'user_2400': 2400, 'user_291': 291, 'user_2167': 2167, 'user_2403': 2403, 'user_4229': 4229, 'user_292': 292, 'user_2164': 2164, 'user_418': 418, 'user_3567': 3567, 'user_1275': 1275, 'user_2402': 2402, 'user_4228': 4228, 'user_293': 293, 'user_2165': 2165, 'user_419': 419, 'user_3566': 3566, 'user_1274': 1274, 'user_1092': 1092, 'user_619': 619, 'user_4374': 4374, 'user_318': 318, 'user_1093': 1093, 'user_618': 618, 'user_4375': 4375, 'user_319': 319, 'user_603': 603, 'user_2562': 2562, 'user_4344': 4344, 'user_320': 320, 'user_602': 602, 'user_2563': 2563, 'user_4345': 4345, 'user_321': 321, 'user_601': 601, 'user_708': 708, 'user_2560': 2560, 'user_4346': 4346, 'user_322': 322, 'user_600': 600, 'user_709': 709, 'user_2561': 2561, 'user_4347': 4347, 'user_323': 323, 'user_607': 607, 'user_2566': 2566, 'user_4340': 4340, 'user_324': 324, 'user_606': 606, 'user_2567': 2567, 'user_4341': 4341, 'user_325': 325, 'user_605': 605, 'user_2564': 2564, 'user_4342': 4342, 'user_326': 326, 'user_604': 604, 'user_2565': 2565, 'user_4343': 4343, 'user_327': 327, 'user_702': 702, 'user_328': 328, 'user_703': 703, 'user_329': 329, 'user_679': 679, 'user_716': 716, 'user_338': 338, 'user_678': 678, 'user_717': 717, 'user_339': 339, 'user_537': 537, 'user_3426': 3426, 'user_498': 498, 'user_340': 340, 'user_536': 536, 'user_3427': 3427, 'user_499': 499, 'user_341': 341, 'user_342': 342, 'user_343': 343, 'user_5352': 5352, 'user_1459': 1459, 'user_344': 344, 'user_5353': 5353, 'user_1458': 1458, 'user_345': 345, 'user_1629': 1629, 'user_480': 480, 'user_1203': 1203, 'user_358': 358, 'user_3609': 3609, 'user_1628': 1628, 'user_481': 481, 'user_1202': 1202, 'user_359': 359, 'user_3608': 3608, 'user_368': 368, 'user_369': 369, 'user_631': 631, 'user_4394': 4394, 'user_370': 370, 'user_630': 630, 'user_4395': 4395, 'user_371': 371, 'user_635': 635, 'user_4390': 4390, 'user_374': 374, 'user_634': 634, 'user_4391': 4391, 'user_375': 375, 'user_637': 637, 'user_4392': 4392, 'user_376': 376, 'user_636': 636, 'user_4393': 4393, 'user_377': 377, 'user_388': 388, 'user_4070': 4070, 'user_389': 389, 'user_4071': 4071, 'user_398': 398, 'user_3649': 3649, 'user_4060': 4060, 'user_399': 399, 'user_3648': 3648, 'user_4061': 4061, 'user_1009': 1009, 'user_400': 400, 'user_3551': 3551, 'user_1283': 1283, 'user_1008': 1008, 'user_401': 401, 'user_3550': 3550, 'user_1282': 1282, 'user_402': 402, 'user_3553': 3553, 'user_1281': 1281, 'user_2789': 2789, 'user_403': 403, 'user_3552': 3552, 'user_1280': 1280, 'user_2788': 2788, 'user_404': 404, 'user_3555': 3555, 'user_1287': 1287, 'user_405': 405, 'user_3554': 3554, 'user_1286': 1286, 'user_420': 420, 'user_421': 421, 'user_2826': 2826, 'user_938': 938, 'user_422': 422, 'user_2827': 2827, 'user_939': 939, 'user_423': 423, 'user_424': 424, 'user_425': 425, 'user_426': 426, 'user_427': 427, 'user_932': 932, 'user_428': 428, 'user_933': 933, 'user_429': 429, 'user_1013': 1013, 'user_2795': 2795, 'user_5134': 5134, 'user_438': 438, 'user_1012': 1012, 'user_2794': 2794, 'user_5135': 5135, 'user_439': 439, 'user_448': 448, 'user_4024': 4024, 'user_449': 449, 'user_4025': 4025, 'user_450': 450, 'user_451': 451, 'user_908': 908, 'user_452': 452, 'user_909': 909, 'user_453': 453, 'user_454': 454, 'user_4038': 4038, 'user_455': 455, 'user_4039': 4039, 'user_456': 456, 'user_457': 457, 'user_902': 902, 'user_458': 458, 'user_4034': 4034, 'user_903': 903, 'user_459': 459, 'user_4035': 4035, 'user_460': 460, 'user_461': 461, 'user_464': 464, 'user_465': 465, 'user_466': 466, 'user_467': 467, 'user_782': 782, 'user_508': 508, 'user_470': 470, 'user_4014': 4014, 'user_783': 783, 'user_509': 509, 'user_471': 471, 'user_4015': 4015, 'user_472': 472, 'user_4016': 4016, 'user_473': 473, 'user_4017': 4017, 'user_474': 474, 'user_4010': 4010, 'user_475': 475, 'user_4011': 4011, 'user_484': 484, 'user_1207': 1207, 'user_485': 485, 'user_1206': 1206, 'user_486': 486, 'user_1205': 1205, 'user_487': 487, 'user_1204': 1204, 'user_512': 512, 'user_3443': 3443, 'user_513': 513, 'user_3442': 3442, 'user_514': 514, 'user_3445': 3445, 'user_515': 515, 'user_3444': 3444, 'user_798': 798, 'user_2659': 2659, 'user_516': 516, 'user_3447': 3447, 'user_799': 799, 'user_2658': 2658, 'user_517': 517, 'user_3446': 3446, 'user_2914': 2914, 'user_796': 796, 'user_2657': 2657, 'user_518': 518, 'user_3449': 3449, 'user_2915': 2915, 'user_797': 797, 'user_2656': 2656, 'user_519': 519, 'user_3448': 3448, 'user_520': 520, 'user_3417': 3417, 'user_521': 521, 'user_3416': 3416, 'user_522': 522, 'user_3415': 3415, 'user_523': 523, 'user_3414': 3414, 'user_5028': 5028, 'user_524': 524, 'user_3413': 3413, 'user_5029': 5029, 'user_525': 525, 'user_3412': 3412, 'user_532': 532, 'user_3423': 3423, 'user_533': 533, 'user_3422': 3422, 'user_5038': 5038, 'user_534': 534, 'user_3425': 3425, 'user_5039': 5039, 'user_535': 535, 'user_3424': 3424, 'user_5475': 5475, 'user_3868': 3868, 'user_1592': 1592, 'user_540': 540, 'user_5474': 5474, 'user_3869': 3869, 'user_1593': 1593, 'user_541': 541, 'user_1723': 1723, 'user_2216': 2216, 'user_748': 748, 'user_1590': 1590, 'user_1169': 1169, 'user_542': 542, 'user_1722': 1722, 'user_2217': 2217, 'user_749': 749, 'user_1591': 1591, 'user_1168': 1168, 'user_543': 543, 'user_1596': 1596, 'user_544': 544, 'user_1597': 1597, 'user_545': 545, 'user_1594': 1594, 'user_546': 546, 'user_1595': 1595, 'user_547': 547, 'user_1729': 1729, 'user_742': 742, 'user_2625': 2625, 'user_1163': 1163, 'user_548': 548, 'user_1728': 1728, 'user_743': 743, 'user_2624': 2624, 'user_1162': 1162, 'user_549': 549, 'user_1711': 1711, 'user_754': 754, 'user_2615': 2615, 'user_3999': 3999, 'user_552': 552, 'user_3403': 3403, 'user_1710': 1710, 'user_755': 755, 'user_2614': 2614, 'user_3998': 3998, 'user_553': 553, 'user_3402': 3402, 'user_1717': 1717, 'user_2208': 2208, 'user_752': 752, 'user_2613': 2613, 'user_554': 554, 'user_3405': 3405, 'user_1716': 1716, 'user_2209': 2209, 'user_753': 753, 'user_2612': 2612, 'user_555': 555, 'user_3404': 3404, 'user_1715': 1715, 'user_750': 750, 'user_2611': 2611, 'user_1588': 1588, 'user_556': 556, 'user_3407': 3407, 'user_1714': 1714, 'user_751': 751, 'user_2610': 2610, 'user_1589': 1589, 'user_557': 557, 'user_3406': 3406, 'user_1741': 1741, 'user_726': 726, 'user_1147': 1147, 'user_560': 560, 'user_1740': 1740, 'user_727': 727, 'user_1146': 1146, 'user_561': 561, 'user_1743': 1743, 'user_724': 724, 'user_1145': 1145, 'user_562': 562, 'user_1742': 1742, 'user_725': 725, 'user_1144': 1144, 'user_563': 563, 'user_1745': 1745, 'user_722': 722, 'user_1143': 1143, 'user_564': 564, 'user_1744': 1744, 'user_723': 723, 'user_1142': 1142, 'user_565': 565, 'user_1747': 1747, 'user_669': 669, 'user_720': 720, 'user_2548': 2548, 'user_1141': 1141, 'user_566': 566, 'user_1746': 1746, 'user_668': 668, 'user_721': 721, 'user_2549': 2549, 'user_1140': 1140, 'user_567': 567, 'user_1749': 1749, 'user_667': 667, 'user_2546': 2546, 'user_568': 568, 'user_1748': 1748, 'user_666': 666, 'user_2547': 2547, 'user_569': 569, 'user_1179': 1179, 'user_570': 570, 'user_1178': 1178, 'user_571': 571, 'user_1735': 1735, 'user_738': 738, 'user_2639': 2639, 'user_572': 572, 'user_1734': 1734, 'user_739': 739, 'user_2638': 2638, 'user_573': 573, 'user_574': 574, 'user_575': 575, 'user_576': 576, 'user_577': 577, 'user_732': 732, 'user_2633': 2633, 'user_1171': 1171, 'user_578': 578, 'user_733': 733, 'user_2632': 2632, 'user_1170': 1170, 'user_579': 579, 'user_4124': 4124, 'user_580': 580, 'user_874': 874, 'user_4125': 4125, 'user_581': 581, 'user_875': 875, 'user_4120': 4120, 'user_584': 584, 'user_870': 870, 'user_4121': 4121, 'user_585': 585, 'user_871': 871, 'user_4122': 4122, 'user_586': 586, 'user_872': 872, 'user_4123': 4123, 'user_587': 587, 'user_873': 873, 'user_590': 590, 'user_925': 925, 'user_591': 591, 'user_924': 924, 'user_592': 592, 'user_927': 927, 'user_593': 593, 'user_926': 926, 'user_5098': 5098, 'user_594': 594, 'user_921': 921, 'user_5099': 5099, 'user_595': 595, 'user_920': 920, 'user_2839': 2839, 'user_596': 596, 'user_923': 923, 'user_2838': 2838, 'user_597': 597, 'user_922': 922, 'user_2837': 2837, 'user_5094': 5094, 'user_598': 598, 'user_2836': 2836, 'user_5095': 5095, 'user_599': 599, 'user_608': 608, 'user_701': 701, 'user_2569': 2569, 'user_609': 609, 'user_700': 700, 'user_2568': 2568, 'user_640': 640, 'user_2521': 2521, 'user_1933': 1933, 'user_641': 641, 'user_2520': 2520, 'user_1932': 1932, 'user_642': 642, 'user_2523': 2523, 'user_1931': 1931, 'user_1508': 1508, 'user_643': 643, 'user_2522': 2522, 'user_1930': 1930, 'user_1509': 1509, 'user_644': 644, 'user_2525': 2525, 'user_1937': 1937, 'user_645': 645, 'user_2524': 2524, 'user_1936': 1936, 'user_646': 646, 'user_2527': 2527, 'user_4309': 4309, 'user_1935': 1935, 'user_647': 647, 'user_2526': 2526, 'user_4308': 4308, 'user_1934': 1934, 'user_3355': 3355, 'user_1502': 1502, 'user_648': 648, 'user_2529': 2529, 'user_3354': 3354, 'user_1503': 1503, 'user_649': 649, 'user_2528': 2528, 'user_650': 650, 'user_2553': 2553, 'user_4335': 4335, 'user_1901': 1901, 'user_651': 651, 'user_2552': 2552, 'user_4334': 4334, 'user_1900': 1900, 'user_652': 652, 'user_2551': 2551, 'user_4337': 4337, 'user_1903': 1903, 'user_653': 653, 'user_2550': 2550, 'user_4336': 4336, 'user_1902': 1902, 'user_654': 654, 'user_2557': 2557, 'user_4331': 4331, 'user_1905': 1905, 'user_655': 655, 'user_2556': 2556, 'user_4330': 4330, 'user_1904': 1904, 'user_656': 656, 'user_2555': 2555, 'user_4333': 4333, 'user_1907': 1907, 'user_1518': 1518, 'user_657': 657, 'user_2554': 2554, 'user_4332': 4332, 'user_1906': 1906, 'user_1519': 1519, 'user_658': 658, 'user_1909': 1909, 'user_1516': 1516, 'user_659': 659, 'user_1908': 1908, 'user_1517': 1517, 'user_660': 660, 'user_729': 729, 'user_2541': 2541, 'user_661': 661, 'user_728': 728, 'user_2540': 2540, 'user_662': 662, 'user_2543': 2543, 'user_663': 663, 'user_2542': 2542, 'user_664': 664, 'user_2545': 2545, 'user_665': 665, 'user_2544': 2544, 'user_688': 688, 'user_689': 689, 'user_690': 690, 'user_2513': 2513, 'user_1941': 1941, 'user_691': 691, 'user_2512': 2512, 'user_1940': 1940, 'user_692': 692, 'user_779': 779, 'user_2511': 2511, 'user_2678': 2678, 'user_1943': 1943, 'user_693': 693, 'user_778': 778, 'user_2510': 2510, 'user_2679': 2679, 'user_1942': 1942, 'user_1945': 1945, 'user_2939': 2939, 'user_694': 694, 'user_2517': 2517, 'user_1944': 1944, 'user_2938': 2938, 'user_695': 695, 'user_2516': 2516, 'user_696': 696, 'user_2515': 2515, 'user_1947': 1947, 'user_697': 697, 'user_2514': 2514, 'user_1946': 1946, 'user_1949': 1949, 'user_2935': 2935, 'user_698': 698, 'user_773': 773, 'user_2672': 2672, 'user_1948': 1948, 'user_2934': 2934, 'user_699': 699, 'user_772': 772, 'user_2673': 2673, 'user_704': 704, 'user_705': 705, 'user_706': 706, 'user_707': 707, 'user_710': 710, 'user_2578': 2578, 'user_711': 711, 'user_2579': 2579, 'user_712': 712, 'user_713': 713, 'user_714': 714, 'user_715': 715, 'user_730': 730, 'user_2631': 2631, 'user_731': 731, 'user_2630': 2630, 'user_1739': 1739, 'user_734': 734, 'user_2635': 2635, 'user_1738': 1738, 'user_735': 735, 'user_2634': 2634, 'user_736': 736, 'user_2637': 2637, 'user_737': 737, 'user_2636': 2636, 'user_740': 740, 'user_2627': 2627, 'user_741': 741, 'user_2626': 2626, 'user_744': 744, 'user_2623': 2623, 'user_745': 745, 'user_2622': 2622, 'user_746': 746, 'user_2621': 2621, 'user_747': 747, 'user_2620': 2620, 'user_2922': 2922, 'user_760': 760, 'user_2508': 2508, 'user_2603': 2603, 'user_2923': 2923, 'user_761': 761, 'user_2509': 2509, 'user_2602': 2602, 'user_2920': 2920, 'user_762': 762, 'user_2601': 2601, 'user_2921': 2921, 'user_763': 763, 'user_2600': 2600, 'user_2926': 2926, 'user_764': 764, 'user_2607': 2607, 'user_2927': 2927, 'user_765': 765, 'user_2606': 2606, 'user_1958': 1958, 'user_2924': 2924, 'user_766': 766, 'user_2605': 2605, 'user_1959': 1959, 'user_2925': 2925, 'user_767': 767, 'user_2604': 2604, 'user_768': 768, 'user_2500': 2500, 'user_1956': 1956, 'user_769': 769, 'user_2501': 2501, 'user_1957': 1957, 'user_2936': 2936, 'user_770': 770, 'user_2518': 2518, 'user_2671': 2671, 'user_2937': 2937, 'user_771': 771, 'user_2519': 2519, 'user_2670': 2670, 'user_2932': 2932, 'user_774': 774, 'user_2675': 2675, 'user_2933': 2933, 'user_775': 775, 'user_2674': 2674, 'user_2930': 2930, 'user_776': 776, 'user_2677': 2677, 'user_2931': 2931, 'user_777': 777, 'user_2676': 2676, 'user_780': 780, 'user_781': 781, 'user_784': 784, 'user_785': 785, 'user_2908': 2908, 'user_786': 786, 'user_2669': 2669, 'user_2909': 2909, 'user_787': 787, 'user_2668': 2668, 'user_2912': 2912, 'user_790': 790, 'user_2651': 2651, 'user_2913': 2913, 'user_791': 791, 'user_2650': 2650, 'user_2910': 2910, 'user_792': 792, 'user_2653': 2653, 'user_2911': 2911, 'user_793': 793, 'user_2652': 2652, 'user_2916': 2916, 'user_794': 794, 'user_2655': 2655, 'user_2917': 2917, 'user_795': 795, 'user_2654': 2654, 'user_5144': 5144, 'user_4150': 4150, 'user_800': 800, 'user_3519': 3519, 'user_5145': 5145, 'user_4151': 4151, 'user_801': 801, 'user_3518': 3518, 'user_5146': 5146, 'user_4152': 4152, 'user_802': 802, 'user_1249': 1249, 'user_5147': 5147, 'user_4153': 4153, 'user_803': 803, 'user_1248': 1248, 'user_5140': 5140, 'user_4154': 4154, 'user_804': 804, 'user_5141': 5141, 'user_4155': 4155, 'user_805': 805, 'user_5142': 5142, 'user_4156': 4156, 'user_806': 806, 'user_5143': 5143, 'user_4157': 4157, 'user_807': 807, 'user_4158': 4158, 'user_808': 808, 'user_3511': 3511, 'user_1243': 1243, 'user_4159': 4159, 'user_809': 809, 'user_3510': 3510, 'user_1242': 1242, 'user_5154': 5154, 'user_4140': 4140, 'user_810': 810, 'user_5155': 5155, 'user_4141': 4141, 'user_811': 811, 'user_5156': 5156, 'user_4142': 4142, 'user_812': 812, 'user_5157': 5157, 'user_4143': 4143, 'user_813': 813, 'user_5150': 5150, 'user_4144': 4144, 'user_814': 814, 'user_1239': 1239, 'user_5151': 5151, 'user_4145': 4145, 'user_815': 815, 'user_1238': 1238, 'user_5152': 5152, 'user_4146': 4146, 'user_816': 816, 'user_3529': 3529, 'user_5153': 5153, 'user_4147': 4147, 'user_817': 817, 'user_3528': 3528, 'user_4148': 4148, 'user_818': 818, 'user_3527': 3527, 'user_1235': 1235, 'user_4149': 4149, 'user_819': 819, 'user_3526': 3526, 'user_1234': 1234, 'user_1810': 1810, 'user_3698': 3698, 'user_1021': 1021, 'user_5164': 5164, 'user_4170': 4170, 'user_820': 820, 'user_969': 969, 'user_1811': 1811, 'user_3699': 3699, 'user_1020': 1020, 'user_5165': 5165, 'user_4171': 4171, 'user_821': 821, 'user_968': 968, 'user_1812': 1812, 'user_1023': 1023, 'user_5166': 5166, 'user_4172': 4172, 'user_822': 822, 'user_1813': 1813, 'user_1022': 1022, 'user_5167': 5167, 'user_4173': 4173, 'user_823': 823, 'user_5160': 5160, 'user_4174': 4174, 'user_824': 824, 'user_5161': 5161, 'user_4175': 4175, 'user_825': 825, 'user_5162': 5162, 'user_4176': 4176, 'user_826': 826, 'user_5163': 5163, 'user_4177': 4177, 'user_827': 827, 'user_4178': 4178, 'user_828': 828, 'user_961': 961, 'user_4179': 4179, 'user_829': 829, 'user_960': 960, 'user_4160': 4160, 'user_830': 830, 'user_1255': 1255, 'user_4161': 4161, 'user_831': 831, 'user_1254': 1254, 'user_4162': 4162, 'user_832': 832, 'user_919': 919, 'user_1257': 1257, 'user_4163': 4163, 'user_833': 833, 'user_918': 918, 'user_1256': 1256, 'user_5178': 5178, 'user_4164': 4164, 'user_834': 834, 'user_1251': 1251, 'user_5179': 5179, 'user_4165': 4165, 'user_835': 835, 'user_1250': 1250, 'user_4166': 4166, 'user_836': 836, 'user_1253': 1253, 'user_4167': 4167, 'user_837': 837, 'user_1252': 1252, 'user_5174': 5174, 'user_4168': 4168, 'user_838': 838, 'user_913': 913, 'user_5175': 5175, 'user_4169': 4169, 'user_839': 839, 'user_912': 912, 'user_4110': 4110, 'user_840': 840, 'user_4111': 4111, 'user_841': 841, 'user_4112': 4112, 'user_842': 842, 'user_4113': 4113, 'user_843': 843, 'user_4114': 4114, 'user_844': 844, 'user_4115': 4115, 'user_845': 845, 'user_4116': 4116, 'user_846': 846, 'user_4117': 4117, 'user_847': 847, 'user_4118': 4118, 'user_848': 848, 'user_4119': 4119, 'user_849': 849, 'user_4100': 4100, 'user_850': 850, 'user_4101': 4101, 'user_851': 851, 'user_4102': 4102, 'user_852': 852, 'user_4103': 4103, 'user_853': 853, 'user_4104': 4104, 'user_854': 854, 'user_4105': 4105, 'user_855': 855, 'user_4106': 4106, 'user_856': 856, 'user_4107': 4107, 'user_857': 857, 'user_4108': 4108, 'user_858': 858, 'user_4109': 4109, 'user_859': 859, 'user_4130': 4130, 'user_860': 860, 'user_3539': 3539, 'user_1227': 1227, 'user_4131': 4131, 'user_861': 861, 'user_3538': 3538, 'user_1226': 1226, 'user_4132': 4132, 'user_862': 862, 'user_1225': 1225, 'user_4133': 4133, 'user_863': 863, 'user_1224': 1224, 'user_4134': 4134, 'user_864': 864, 'user_1223': 1223, 'user_4135': 4135, 'user_865': 865, 'user_1222': 1222, 'user_880': 880, 'user_989': 989, 'user_3465': 3465, 'user_881': 881, 'user_988': 988, 'user_3464': 3464, 'user_882': 882, 'user_3467': 3467, 'user_883': 883, 'user_3466': 3466, 'user_886': 886, 'user_3463': 3463, 'user_2859': 2859, 'user_887': 887, 'user_3462': 3462, 'user_2858': 2858, 'user_890': 890, 'user_891': 891, 'user_892': 892, 'user_3459': 3459, 'user_893': 893, 'user_3458': 3458, 'user_894': 894, 'user_895': 895, 'user_896': 896, 'user_897': 897, 'user_898': 898, 'user_3453': 3453, 'user_899': 899, 'user_3452': 3452, 'user_900': 900, 'user_901': 901, 'user_904': 904, 'user_905': 905, 'user_906': 906, 'user_907': 907, 'user_5177': 5177, 'user_910': 910, 'user_5176': 5176, 'user_911': 911, 'user_5173': 5173, 'user_914': 914, 'user_5172': 5172, 'user_915': 915, 'user_5171': 5171, 'user_916': 916, 'user_1258': 1258, 'user_5170': 5170, 'user_917': 917, 'user_1259': 1259, 'user_2832': 2832, 'user_5091': 5091, 'user_928': 928, 'user_2833': 2833, 'user_5090': 5090, 'user_929': 929, 'user_930': 930, 'user_931': 931, 'user_934': 934, 'user_935': 935, 'user_2828': 2828, 'user_936': 936, 'user_2829': 2829, 'user_937': 937, 'user_1181': 1181, 'user_2896': 2896, 'user_948': 948, 'user_1180': 1180, 'user_2897': 2897, 'user_949': 949, 'user_2882': 2882, 'user_958': 958, 'user_2883': 2883, 'user_959': 959, 'user_962': 962, 'user_963': 963, 'user_5169': 5169, 'user_964': 964, 'user_5168': 5168, 'user_965': 965, 'user_966': 966, 'user_967': 967, 'user_1197': 1197, 'user_970': 970, 'user_1196': 1196, 'user_971': 971, 'user_5928': 5928, 'user_1195': 1195, 'user_5119': 5119, 'user_972': 972, 'user_5929': 5929, 'user_1194': 1194, 'user_5118': 5118, 'user_973': 973, 'user_1193': 1193, 'user_974': 974, 'user_1192': 1192, 'user_975': 975, 'user_1191': 1191, 'user_976': 976, 'user_1190': 1190, 'user_977': 977, 'user_5113': 5113, 'user_978': 978, 'user_5112': 5112, 'user_979': 979, 'user_990': 990, 'user_3474': 3474, 'user_991': 991, 'user_3475': 3475, 'user_5049': 5049, 'user_992': 992, 'user_3476': 3476, 'user_2848': 2848, 'user_5048': 5048, 'user_993': 993, 'user_3477': 3477, 'user_2849': 2849, 'user_996': 996, 'user_3472': 3472, 'user_997': 997, 'user_3473': 3473, 'user_1010': 1010, 'user_1011': 1011, 'user_2149': 2149, 'user_1016': 1016, 'user_2148': 2148, 'user_1017': 1017, 'user_1815': 1815, 'user_1024': 1024, 'user_1814': 1814, 'user_1025': 1025, 'user_1439': 1439, 'user_1817': 1817, 'user_1026': 1026, 'user_1438': 1438, 'user_1816': 1816, 'user_1027': 1027, 'user_1437': 1437, 'user_1819': 1819, 'user_3691': 3691, 'user_1028': 1028, 'user_1436': 1436, 'user_1818': 1818, 'user_3690': 3690, 'user_1029': 1029, 'user_1409': 1409, 'user_3667': 3667, 'user_1030': 1030, 'user_1408': 1408, 'user_3666': 3666, 'user_1031': 1031, 'user_3665': 3665, 'user_1032': 1032, 'user_3664': 3664, 'user_1033': 1033, 'user_3663': 3663, 'user_1034': 1034, 'user_3662': 3662, 'user_1035': 1035, 'user_3661': 3661, 'user_4008': 4008, 'user_1036': 1036, 'user_3660': 3660, 'user_4009': 4009, 'user_1037': 1037, 'user_1401': 1401, 'user_4006': 4006, 'user_1038': 1038, 'user_1400': 1400, 'user_4007': 4007, 'user_1039': 1039, 'user_1831': 1831, 'user_1040': 1040, 'user_1830': 1830, 'user_1041': 1041, 'user_1833': 1833, 'user_1042': 1042, 'user_1832': 1832, 'user_1043': 1043, 'user_1835': 1835, 'user_2139': 2139, 'user_3789': 3789, 'user_1044': 1044, 'user_1834': 1834, 'user_2138': 2138, 'user_3788': 3788, 'user_1045': 1045, 'user_1837': 1837, 'user_1046': 1046, 'user_1836': 1836, 'user_1047': 1047, 'user_1839': 1839, 'user_2135': 2135, 'user_3785': 3785, 'user_1048': 1048, 'user_1838': 1838, 'user_2134': 2134, 'user_3784': 3784, 'user_1049': 1049, 'user_1429': 1429, 'user_1803': 1803, 'user_2107': 2107, 'user_1050': 1050, 'user_1428': 1428, 'user_1802': 1802, 'user_2106': 2106, 'user_1051': 1051, 'user_1801': 1801, 'user_2105': 2105, 'user_3689': 3689, 'user_1052': 1052, 'user_1800': 1800, 'user_2104': 2104, 'user_3688': 3688, 'user_1053': 1053, 'user_1807': 1807, 'user_2103': 2103, 'user_1054': 1054, 'user_1806': 1806, 'user_2102': 2102, 'user_1055': 1055, 'user_1805': 1805, 'user_2101': 2101, 'user_1056': 1056, 'user_1804': 1804, 'user_2100': 2100, 'user_1057': 1057, 'user_1421': 1421, 'user_3683': 3683, 'user_1058': 1058, 'user_1420': 1420, 'user_3682': 3682, 'user_1059': 1059, 'user_1851': 1851, 'user_2991': 2991, 'user_3765': 3765, 'user_1060': 1060, 'user_1850': 1850, 'user_2990': 2990, 'user_3764': 3764, 'user_1061': 1061, 'user_1853': 1853, 'user_2993': 2993, 'user_3767': 3767, 'user_1062': 1062, 'user_1852': 1852, 'user_2992': 2992, 'user_3766': 3766, 'user_1063': 1063, 'user_1855': 1855, 'user_2995': 2995, 'user_3761': 3761, 'user_5859': 5859, 'user_1064': 1064, 'user_1854': 1854, 'user_2994': 2994, 'user_3760': 3760, 'user_5858': 5858, 'user_1065': 1065, 'user_1827': 1827, 'user_1070': 1070, 'user_1826': 1826, 'user_1071': 1071, 'user_1825': 1825, 'user_2129': 2129, 'user_3799': 3799, 'user_1072': 1072, 'user_1824': 1824, 'user_2128': 2128, 'user_3798': 3798, 'user_1073': 1073, 'user_1823': 1823, 'user_1074': 1074, 'user_1822': 1822, 'user_1075': 1075, 'user_1821': 1821, 'user_1076': 1076, 'user_1820': 1820, 'user_1077': 1077, 'user_2123': 2123, 'user_3793': 3793, 'user_1078': 1078, 'user_2122': 2122, 'user_3792': 3792, 'user_1079': 1079, 'user_1090': 1090, 'user_2598': 2598, 'user_1091': 1091, 'user_2599': 2599, 'user_1094': 1094, 'user_1095': 1095, 'user_1096': 1096, 'user_1097': 1097, 'user_3887': 3887, 'user_1539': 1539, 'user_1100': 1100, 'user_2314': 2314, 'user_3498': 3498, 'user_3886': 3886, 'user_1538': 1538, 'user_1101': 1101, 'user_2315': 2315, 'user_3499': 3499, 'user_1102': 1102, 'user_2316': 2316, 'user_1103': 1103, 'user_2317': 2317, 'user_1104': 1104, 'user_2310': 2310, 'user_1105': 1105, 'user_2311': 2311, 'user_1106': 1106, 'user_2312': 2312, 'user_1107': 1107, 'user_2313': 2313, 'user_1531': 1531, 'user_1108': 1108, 'user_3490': 3490, 'user_1530': 1530, 'user_1109': 1109, 'user_3491': 3491, 'user_1110': 1110, 'user_2304': 2304, 'user_3488': 3488, 'user_1111': 1111, 'user_2305': 2305, 'user_3489': 3489, 'user_1112': 1112, 'user_2306': 2306, 'user_1113': 1113, 'user_2307': 2307, 'user_1114': 1114, 'user_2300': 2300, 'user_1115': 1115, 'user_2301': 2301, 'user_1116': 1116, 'user_2302': 2302, 'user_1117': 1117, 'user_2303': 2303, 'user_1118': 1118, 'user_3480': 3480, 'user_1119': 1119, 'user_3481': 3481, 'user_1120': 1120, 'user_2334': 2334, 'user_1121': 1121, 'user_2335': 2335, 'user_1122': 1122, 'user_2336': 2336, 'user_1123': 1123, 'user_2337': 2337, 'user_1124': 1124, 'user_2330': 2330, 'user_1125': 1125, 'user_2331': 2331, 'user_1126': 1126, 'user_2332': 2332, 'user_1127': 1127, 'user_2333': 2333, 'user_1128': 1128, 'user_1129': 1129, 'user_1130': 1130, 'user_1131': 1131, 'user_3893': 3893, 'user_1529': 1529, 'user_1132': 1132, 'user_3892': 3892, 'user_1528': 1528, 'user_1133': 1133, 'user_1134': 1134, 'user_1135': 1135, 'user_1136': 1136, 'user_1137': 1137, 'user_3899': 3899, 'user_1523': 1523, 'user_1138': 1138, 'user_3898': 3898, 'user_1522': 1522, 'user_1139': 1139, 'user_1148': 1148, 'user_1149': 1149, 'user_1150': 1150, 'user_1151': 1151, 'user_1152': 1152, 'user_1153': 1153, 'user_1154': 1154, 'user_1155': 1155, 'user_1156': 1156, 'user_1157': 1157, 'user_1158': 1158, 'user_1159': 1159, 'user_3863': 3863, 'user_1599': 1599, 'user_1160': 1160, 'user_3862': 3862, 'user_1598': 1598, 'user_1161': 1161, 'user_1164': 1164, 'user_1165': 1165, 'user_1166': 1166, 'user_1167': 1167, 'user_1172': 1172, 'user_1173': 1173, 'user_1174': 1174, 'user_1175': 1175, 'user_1176': 1176, 'user_1177': 1177, 'user_1182': 1182, 'user_1183': 1183, 'user_1184': 1184, 'user_1185': 1185, 'user_1186': 1186, 'user_1187': 1187, 'user_5925': 5925, 'user_1198': 1198, 'user_5924': 5924, 'user_1199': 1199, 'user_1301': 1301, 'user_1208': 1208, 'user_1622': 1622, 'user_1300': 1300, 'user_1209': 1209, 'user_1623': 1623, 'user_1210': 1210, 'user_1211': 1211, 'user_1212': 1212, 'user_1213': 1213, 'user_1214': 1214, 'user_1215': 1215, 'user_1379': 1379, 'user_1216': 1216, 'user_1638': 1638, 'user_1378': 1378, 'user_1217': 1217, 'user_1639': 1639, 'user_1377': 1377, 'user_1218': 1218, 'user_1636': 1636, 'user_1376': 1376, 'user_1219': 1219, 'user_1637': 1637, 'user_3536': 3536, 'user_1361': 1361, 'user_1228': 1228, 'user_3537': 3537, 'user_1360': 1360, 'user_1229': 1229, 'user_5159': 5159, 'user_3522': 3522, 'user_1230': 1230, 'user_5158': 5158, 'user_3523': 3523, 'user_1231': 1231, 'user_3520': 3520, 'user_1232': 1232, 'user_3521': 3521, 'user_1233': 1233, 'user_3524': 3524, 'user_1236': 1236, 'user_3525': 3525, 'user_1237': 1237, 'user_3512': 3512, 'user_1240': 1240, 'user_3513': 3513, 'user_1241': 1241, 'user_3516': 3516, 'user_1244': 1244, 'user_3517': 3517, 'user_1245': 1245, 'user_5149': 5149, 'user_3514': 3514, 'user_1246': 1246, 'user_5148': 5148, 'user_3515': 3515, 'user_1247': 1247, 'user_3574': 3574, 'user_4089': 4089, 'user_1262': 1262, 'user_3575': 3575, 'user_4088': 4088, 'user_1263': 1263, 'user_3572': 3572, 'user_1264': 1264, 'user_3573': 3573, 'user_1265': 1265, 'user_3570': 3570, 'user_1266': 1266, 'user_3571': 3571, 'user_1267': 1267, 'user_3560': 3560, 'user_1399': 1399, 'user_1272': 1272, 'user_3561': 3561, 'user_1398': 1398, 'user_1273': 1273, 'user_3564': 3564, 'user_1276': 1276, 'user_3565': 3565, 'user_1277': 1277, 'user_1288': 1288, 'user_2780': 2780, 'user_1289': 1289, 'user_2781': 2781, 'user_1298': 1298, 'user_2790': 2790, 'user_1299': 1299, 'user_2791': 2791, 'user_1304': 1304, 'user_1627': 1627, 'user_1305': 1305, 'user_1626': 1626, 'user_1306': 1306, 'user_1625': 1625, 'user_1307': 1307, 'user_1624': 1624, 'user_1318': 1318, 'user_1619': 1619, 'user_1319': 1319, 'user_1618': 1618, 'user_1671': 1671, 'user_2205': 2205, 'user_1330': 1330, 'user_1670': 1670, 'user_2204': 2204, 'user_1331': 1331, 'user_1718': 1718, 'user_1673': 1673, 'user_2207': 2207, 'user_1332': 1332, 'user_1719': 1719, 'user_1672': 1672, 'user_2206': 2206, 'user_1333': 1333, 'user_1675': 1675, 'user_2201': 2201, 'user_1334': 1334, 'user_1674': 1674, 'user_2200': 2200, 'user_1335': 1335, 'user_1340': 1340, 'user_1341': 1341, 'user_1342': 1342, 'user_1343': 1343, 'user_1344': 1344, 'user_1345': 1345, 'user_2299': 2299, 'user_1346': 1346, 'user_2298': 2298, 'user_1347': 1347, 'user_2297': 2297, 'user_1348': 1348, 'user_2296': 2296, 'user_1349': 1349, 'user_1350': 1350, 'user_1351': 1351, 'user_1352': 1352, 'user_1353': 1353, 'user_1354': 1354, 'user_1355': 1355, 'user_1356': 1356, 'user_1357': 1357, 'user_1358': 1358, 'user_1359': 1359, 'user_3535': 3535, 'user_1362': 1362, 'user_3534': 3534, 'user_1363': 1363, 'user_3533': 3533, 'user_1364': 1364, 'user_3532': 3532, 'user_1365': 1365, 'user_1370': 1370, 'user_1631': 1631, 'user_1371': 1371, 'user_1630': 1630, 'user_1372': 1372, 'user_1633': 1633, 'user_1373': 1373, 'user_1632': 1632, 'user_1374': 1374, 'user_1635': 1635, 'user_1375': 1375, 'user_1634': 1634, 'user_1380': 1380, 'user_1381': 1381, 'user_1382': 1382, 'user_1383': 1383, 'user_1384': 1384, 'user_1385': 1385, 'user_1849': 1849, 'user_2989': 2989, 'user_1386': 1386, 'user_1848': 1848, 'user_2988': 2988, 'user_1387': 1387, 'user_1847': 1847, 'user_2987': 2987, 'user_1388': 1388, 'user_1846': 1846, 'user_2986': 2986, 'user_1389': 1389, 'user_1402': 1402, 'user_1403': 1403, 'user_1404': 1404, 'user_1405': 1405, 'user_1406': 1406, 'user_1407': 1407, 'user_1418': 1418, 'user_1419': 1419, 'user_1422': 1422, 'user_1808': 1808, 'user_1423': 1423, 'user_1809': 1809, 'user_1424': 1424, 'user_1425': 1425, 'user_1426': 1426, 'user_1427': 1427, 'user_1430': 1430, 'user_1431': 1431, 'user_1432': 1432, 'user_1433': 1433, 'user_1434': 1434, 'user_1435': 1435, 'user_5369': 5369, 'user_1440': 1440, 'user_5368': 5368, 'user_1441': 1441, 'user_1442': 1442, 'user_1443': 1443, 'user_1446': 1446, 'user_1447': 1447, 'user_1450': 1450, 'user_1451': 1451, 'user_5359': 5359, 'user_1452': 1452, 'user_5358': 5358, 'user_1453': 1453, 'user_1456': 1456, 'user_1457': 1457, 'user_1468': 1468, 'user_1469': 1469, 'user_4806': 4806, 'user_3227': 3227, 'user_6017': 6017, 'user_1470': 1470, 'user_4807': 4807, 'user_3226': 3226, 'user_6016': 6016, 'user_1471': 1471, 'user_4804': 4804, 'user_3225': 3225, 'user_6015': 6015, 'user_1472': 1472, 'user_4805': 4805, 'user_3224': 3224, 'user_6014': 6014, 'user_1473': 1473, 'user_5669': 5669, 'user_4802': 4802, 'user_3223': 3223, 'user_6013': 6013, 'user_1474': 1474, 'user_5668': 5668, 'user_4803': 4803, 'user_3222': 3222, 'user_6012': 6012, 'user_1475': 1475, 'user_4800': 4800, 'user_3221': 3221, 'user_6011': 6011, 'user_1476': 1476, 'user_4801': 4801, 'user_3220': 3220, 'user_6010': 6010, 'user_1477': 1477, 'user_1478': 1478, 'user_1479': 1479, 'user_3279': 3279, 'user_1480': 1480, 'user_3278': 3278, 'user_1481': 1481, 'user_1482': 1482, 'user_1483': 1483, 'user_1798': 1798, 'user_1484': 1484, 'user_1799': 1799, 'user_1485': 1485, 'user_1486': 1486, 'user_1487': 1487, 'user_3271': 3271, 'user_1794': 1794, 'user_1488': 1488, 'user_3270': 3270, 'user_6040': 6040, 'user_1795': 1795, 'user_1489': 1489, 'user_4305': 4305, 'user_1939': 1939, 'user_5889': 5889, 'user_3357': 3357, 'user_1500': 1500, 'user_4304': 4304, 'user_1938': 1938, 'user_5888': 5888, 'user_3356': 3356, 'user_1501': 1501, 'user_5758': 5758, 'user_3352': 3352, 'user_1505': 1505, 'user_4718': 4718, 'user_3351': 3351, 'user_1506': 1506, 'user_4719': 4719, 'user_3350': 3350, 'user_1507': 1507, 'user_1510': 1510, 'user_1511': 1511, 'user_1512': 1512, 'user_1513': 1513, 'user_1514': 1514, 'user_1515': 1515, 'user_1520': 1520, 'user_1521': 1521, 'user_1524': 1524, 'user_1525': 1525, 'user_1526': 1526, 'user_1527': 1527, 'user_1532': 1532, 'user_1533': 1533, 'user_1534': 1534, 'user_1535': 1535, 'user_3888': 3888, 'user_1536': 1536, 'user_3889': 3889, 'user_1537': 1537, 'user_1540': 1540, 'user_1541': 1541, 'user_1542': 1542, 'user_1543': 1543, 'user_1544': 1544, 'user_1545': 1545, 'user_1546': 1546, 'user_1547': 1547, 'user_1548': 1548, 'user_1549': 1549, 'user_1550': 1550, 'user_1551': 1551, 'user_1552': 1552, 'user_1553': 1553, 'user_1554': 1554, 'user_1555': 1555, 'user_1556': 1556, 'user_1557': 1557, 'user_1558': 1558, 'user_1559': 1559, 'user_1919': 1919, 'user_1560': 1560, 'user_1918': 1918, 'user_1561': 1561, 'user_1562': 1562, 'user_1563': 1563, 'user_1564': 1564, 'user_1565': 1565, 'user_1566': 1566, 'user_1567': 1567, 'user_4325': 4325, 'user_1911': 1911, 'user_1568': 1568, 'user_4324': 4324, 'user_1910': 1910, 'user_1569': 1569, 'user_1570': 1570, 'user_1571': 1571, 'user_1572': 1572, 'user_1573': 1573, 'user_1574': 1574, 'user_1575': 1575, 'user_1576': 1576, 'user_1577': 1577, 'user_1578': 1578, 'user_1579': 1579, 'user_1701': 1701, 'user_1608': 1608, 'user_1700': 1700, 'user_1609': 1609, 'user_1640': 1640, 'user_2234': 2234, 'user_1641': 1641, 'user_2235': 2235, 'user_1642': 1642, 'user_2236': 2236, 'user_1643': 1643, 'user_2237': 2237, 'user_1644': 1644, 'user_2230': 2230, 'user_1645': 1645, 'user_2231': 2231, 'user_1658': 1658, 'user_1659': 1659, 'user_1668': 1668, 'user_3590': 3590, 'user_1669': 1669, 'user_3591': 3591, 'user_1680': 1680, 'user_2388': 2388, 'user_1681': 1681, 'user_2389': 2389, 'user_1682': 1682, 'user_1683': 1683, 'user_1684': 1684, 'user_1685': 1685, 'user_1686': 1686, 'user_1687': 1687, 'user_1688': 1688, 'user_2380': 2380, 'user_1689': 1689, 'user_2381': 2381, 'user_1690': 1690, 'user_2398': 2398, 'user_1691': 1691, 'user_2399': 2399, 'user_1692': 1692, 'user_1693': 1693, 'user_1694': 1694, 'user_1695': 1695, 'user_4189': 4189, 'user_1696': 1696, 'user_4188': 4188, 'user_1697': 1697, 'user_4187': 4187, 'user_1698': 1698, 'user_2390': 2390, 'user_4186': 4186, 'user_1699': 1699, 'user_2391': 2391, 'user_1702': 1702, 'user_1703': 1703, 'user_1704': 1704, 'user_1705': 1705, 'user_1720': 1720, 'user_2215': 2215, 'user_1721': 1721, 'user_2214': 2214, 'user_1724': 1724, 'user_2211': 2211, 'user_1725': 1725, 'user_2210': 2210, 'user_1726': 1726, 'user_2213': 2213, 'user_1727': 1727, 'user_2212': 2212, 'user_1730': 1730, 'user_1731': 1731, 'user_1732': 1732, 'user_1733': 1733, 'user_1736': 1736, 'user_1737': 1737, 'user_1750': 1750, 'user_2247': 2247, 'user_1751': 1751, 'user_2246': 2246, 'user_1752': 1752, 'user_2245': 2245, 'user_1753': 1753, 'user_2244': 2244, 'user_1756': 1756, 'user_2241': 2241, 'user_1757': 1757, 'user_2240': 2240, 'user_1760': 1760, 'user_1761': 1761, 'user_1764': 1764, 'user_2259': 2259, 'user_1765': 1765, 'user_2258': 2258, 'user_1766': 1766, 'user_1767': 1767, 'user_4896': 4896, 'user_3255': 3255, 'user_1770': 1770, 'user_4897': 4897, 'user_3254': 3254, 'user_1771': 1771, 'user_4894': 4894, 'user_3257': 3257, 'user_1772': 1772, 'user_2269': 2269, 'user_4895': 4895, 'user_3256': 3256, 'user_1773': 1773, 'user_2268': 2268, 'user_4892': 4892, 'user_3251': 3251, 'user_1774': 1774, 'user_4893': 4893, 'user_3250': 3250, 'user_1775': 1775, 'user_4890': 4890, 'user_3253': 3253, 'user_1776': 1776, 'user_4891': 4891, 'user_3252': 3252, 'user_1777': 1777, 'user_1778': 1778, 'user_2263': 2263, 'user_1779': 1779, 'user_2262': 2262, 'user_1780': 1780, 'user_2275': 2275, 'user_1781': 1781, 'user_2274': 2274, 'user_1782': 1782, 'user_2277': 2277, 'user_1783': 1783, 'user_2276': 2276, 'user_1784': 1784, 'user_2271': 2271, 'user_1785': 1785, 'user_2270': 2270, 'user_3249': 3249, 'user_1786': 1786, 'user_2273': 2273, 'user_3248': 3248, 'user_1787': 1787, 'user_2272': 2272, 'user_3247': 3247, 'user_1788': 1788, 'user_3246': 3246, 'user_1789': 1789, 'user_3275': 3275, 'user_1790': 1790, 'user_3274': 3274, 'user_1791': 1791, 'user_3277': 3277, 'user_1792': 1792, 'user_3276': 3276, 'user_1793': 1793, 'user_3273': 3273, 'user_1796': 1796, 'user_3272': 3272, 'user_1797': 1797, 'user_1828': 1828, 'user_1829': 1829, 'user_1840': 1840, 'user_2980': 2980, 'user_1841': 1841, 'user_2981': 2981, 'user_1842': 1842, 'user_2982': 2982, 'user_1843': 1843, 'user_2983': 2983, 'user_1844': 1844, 'user_2984': 2984, 'user_1845': 1845, 'user_2985': 2985, 'user_1860': 1860, 'user_1861': 1861, 'user_1862': 1862, 'user_1863': 1863, 'user_1864': 1864, 'user_1865': 1865, 'user_1866': 1866, 'user_1867': 1867, 'user_1868': 1868, 'user_1869': 1869, 'user_1870': 1870, 'user_1871': 1871, 'user_1872': 1872, 'user_1873': 1873, 'user_1874': 1874, 'user_1875': 1875, 'user_1876': 1876, 'user_1877': 1877, 'user_1878': 1878, 'user_1879': 1879, 'user_1880': 1880, 'user_2940': 2940, 'user_1881': 1881, 'user_2941': 2941, 'user_1882': 1882, 'user_2942': 2942, 'user_1883': 1883, 'user_2943': 2943, 'user_1884': 1884, 'user_2944': 2944, 'user_1885': 1885, 'user_2945': 2945, 'user_1886': 1886, 'user_2946': 2946, 'user_1887': 1887, 'user_2947': 2947, 'user_1888': 1888, 'user_2948': 2948, 'user_1889': 1889, 'user_2949': 2949, 'user_1890': 1890, 'user_2950': 2950, 'user_1891': 1891, 'user_2951': 2951, 'user_1892': 1892, 'user_2952': 2952, 'user_1893': 1893, 'user_2953': 2953, 'user_1894': 1894, 'user_2954': 2954, 'user_1895': 1895, 'user_2955': 2955, 'user_1896': 1896, 'user_2956': 2956, 'user_1897': 1897, 'user_2957': 2957, 'user_1898': 1898, 'user_2958': 2958, 'user_1899': 1899, 'user_2959': 2959, 'user_4326': 4326, 'user_1912': 1912, 'user_4327': 4327, 'user_1913': 1913, 'user_4320': 4320, 'user_1914': 1914, 'user_4321': 4321, 'user_1915': 1915, 'user_4322': 4322, 'user_1916': 1916, 'user_4323': 4323, 'user_1917': 1917, 'user_4314': 4314, 'user_1920': 1920, 'user_4315': 4315, 'user_1921': 1921, 'user_4316': 4316, 'user_1922': 1922, 'user_4317': 4317, 'user_1923': 1923, 'user_4310': 4310, 'user_1924': 1924, 'user_4311': 4311, 'user_1925': 1925, 'user_2538': 2538, 'user_4312': 4312, 'user_1926': 1926, 'user_2539': 2539, 'user_4313': 4313, 'user_1927': 1927, 'user_2536': 2536, 'user_1928': 1928, 'user_2537': 2537, 'user_1929': 1929, 'user_2506': 2506, 'user_1950': 1950, 'user_2507': 2507, 'user_1951': 1951, 'user_2504': 2504, 'user_1952': 1952, 'user_2505': 2505, 'user_1953': 1953, 'user_1954': 1954, 'user_2928': 2928, 'user_2502': 2502, 'user_2609': 2609, 'user_1955': 1955, 'user_2929': 2929, 'user_2503': 2503, 'user_2608': 2608, 'user_1960': 1960, 'user_1961': 1961, 'user_1962': 1962, 'user_1963': 1963, 'user_1964': 1964, 'user_1965': 1965, 'user_1966': 1966, 'user_1967': 1967, 'user_1968': 1968, 'user_1969': 1969, 'user_1978': 1978, 'user_1979': 1979, 'user_1980': 1980, 'user_1981': 1981, 'user_1982': 1982, 'user_1983': 1983, 'user_1984': 1984, 'user_1985': 1985, 'user_1986': 1986, 'user_1987': 1987, 'user_1988': 1988, 'user_1989': 1989, 'user_1990': 1990, 'user_1991': 1991, 'user_1992': 1992, 'user_1993': 1993, 'user_1994': 1994, 'user_1995': 1995, 'user_1996': 1996, 'user_1997': 1997, 'user_1998': 1998, 'user_1999': 1999, 'user_4204': 4204, 'user_2000': 2000, 'user_3090': 3090, 'user_4205': 4205, 'user_2001': 2001, 'user_3091': 3091, 'user_4206': 4206, 'user_2002': 2002, 'user_3092': 3092, 'user_4207': 4207, 'user_2003': 2003, 'user_3093': 3093, 'user_4200': 4200, 'user_2004': 2004, 'user_3094': 3094, 'user_4201': 4201, 'user_2005': 2005, 'user_3095': 3095, 'user_4202': 4202, 'user_2006': 2006, 'user_3096': 3096, 'user_4203': 4203, 'user_2007': 2007, 'user_3097': 3097, 'user_2008': 2008, 'user_3098': 3098, 'user_2009': 2009, 'user_3099': 3099, 'user_2030': 2030, 'user_2031': 2031, 'user_2418': 2418, 'user_2032': 2032, 'user_2119': 2119, 'user_2419': 2419, 'user_2033': 2033, 'user_2118': 2118, 'user_4238': 4238, 'user_2034': 2034, 'user_4239': 4239, 'user_2035': 2035, 'user_2036': 2036, 'user_2037': 2037, 'user_2412': 2412, 'user_4234': 4234, 'user_2038': 2038, 'user_2113': 2113, 'user_2413': 2413, 'user_4235': 4235, 'user_2039': 2039, 'user_2112': 2112, 'user_2048': 2048, 'user_3771': 3771, 'user_2049': 2049, 'user_3770': 3770, 'user_2068': 2068, 'user_2069': 2069, 'user_2080': 2080, 'user_2189': 2189, 'user_3010': 3010, 'user_3739': 3739, 'user_2081': 2081, 'user_2188': 2188, 'user_3011': 3011, 'user_3738': 3738, 'user_2082': 2082, 'user_3012': 3012, 'user_2083': 2083, 'user_3013': 3013, 'user_2084': 2084, 'user_3014': 3014, 'user_2085': 2085, 'user_3015': 3015, 'user_2086': 2086, 'user_3016': 3016, 'user_2087': 2087, 'user_3017': 3017, 'user_2088': 2088, 'user_2181': 2181, 'user_3018': 3018, 'user_3731': 3731, 'user_2089': 2089, 'user_2180': 2180, 'user_3019': 3019, 'user_3730': 3730, 'user_5837': 5837, 'user_3321': 3321, 'user_2090': 2090, 'user_3000': 3000, 'user_5836': 5836, 'user_3320': 3320, 'user_2091': 2091, 'user_3001': 3001, 'user_5835': 5835, 'user_3323': 3323, 'user_2092': 2092, 'user_3002': 3002, 'user_5834': 5834, 'user_3322': 3322, 'user_2093': 2093, 'user_3003': 3003, 'user_5833': 5833, 'user_3325': 3325, 'user_2094': 2094, 'user_3004': 3004, 'user_5832': 5832, 'user_3324': 3324, 'user_2095': 2095, 'user_3005': 3005, 'user_2096': 2096, 'user_3006': 3006, 'user_3709': 3709, 'user_5831': 5831, 'user_3327': 3327, 'user_2097': 2097, 'user_3007': 3007, 'user_3708': 3708, 'user_5830': 5830, 'user_3326': 3326, 'user_2098': 2098, 'user_3008': 3008, 'user_3707': 3707, 'user_3329': 3329, 'user_2099': 2099, 'user_3009': 3009, 'user_3706': 3706, 'user_3328': 3328, 'user_2108': 2108, 'user_3684': 3684, 'user_2109': 2109, 'user_3685': 3685, 'user_2411': 2411, 'user_4237': 4237, 'user_2110': 2110, 'user_2410': 2410, 'user_4236': 4236, 'user_2111': 2111, 'user_2415': 2415, 'user_4233': 4233, 'user_2114': 2114, 'user_2414': 2414, 'user_4232': 4232, 'user_2115': 2115, 'user_2417': 2417, 'user_4231': 4231, 'user_2116': 2116, 'user_2416': 2416, 'user_4230': 4230, 'user_2117': 2117, 'user_2120': 2120, 'user_3790': 3790, 'user_2121': 2121, 'user_3791': 3791, 'user_2124': 2124, 'user_3794': 3794, 'user_2125': 2125, 'user_3795': 3795, 'user_2126': 2126, 'user_3796': 3796, 'user_2127': 2127, 'user_3797': 3797, 'user_2130': 2130, 'user_3780': 3780, 'user_2131': 2131, 'user_3781': 3781, 'user_2132': 2132, 'user_3782': 3782, 'user_2133': 2133, 'user_3783': 3783, 'user_2136': 2136, 'user_3786': 3786, 'user_2137': 2137, 'user_3787': 3787, 'user_2158': 2158, 'user_3654': 3654, 'user_2459': 2459, 'user_2159': 2159, 'user_3655': 3655, 'user_2458': 2458, 'user_2439': 2439, 'user_4253': 4253, 'user_2178': 2178, 'user_2438': 2438, 'user_4252': 4252, 'user_2179': 2179, 'user_2182': 2182, 'user_3732': 3732, 'user_2183': 2183, 'user_3733': 3733, 'user_2184': 2184, 'user_3734': 3734, 'user_2185': 2185, 'user_3735': 3735, 'user_2186': 2186, 'user_3736': 3736, 'user_2187': 2187, 'user_3737': 3737, 'user_2190': 2190, 'user_3720': 3720, 'user_2191': 2191, 'user_3721': 3721, 'user_2192': 2192, 'user_3722': 3722, 'user_2193': 2193, 'user_3723': 3723, 'user_2194': 2194, 'user_3724': 3724, 'user_2195': 2195, 'user_3725': 3725, 'user_2196': 2196, 'user_3726': 3726, 'user_2197': 2197, 'user_3727': 3727, 'user_2198': 2198, 'user_3728': 3728, 'user_2199': 2199, 'user_3729': 3729, 'user_2218': 2218, 'user_2219': 2219, 'user_2228': 2228, 'user_2229': 2229, 'user_2260': 2260, 'user_2261': 2261, 'user_2264': 2264, 'user_2265': 2265, 'user_3258': 3258, 'user_2266': 2266, 'user_3259': 3259, 'user_2267': 2267, 'user_3242': 3242, 'user_2278': 2278, 'user_3243': 3243, 'user_2279': 2279, 'user_2280': 2280, 'user_2281': 2281, 'user_4099': 4099, 'user_2282': 2282, 'user_4098': 4098, 'user_2283': 2283, 'user_2284': 2284, 'user_3508': 3508, 'user_2285': 2285, 'user_3509': 3509, 'user_2286': 2286, 'user_2287': 2287, 'user_2288': 2288, 'user_3504': 3504, 'user_4093': 4093, 'user_2289': 2289, 'user_3505': 3505, 'user_4092': 4092, 'user_2290': 2290, 'user_2291': 2291, 'user_2292': 2292, 'user_2293': 2293, 'user_2294': 2294, 'user_2295': 2295, 'user_2308': 2308, 'user_3484': 3484, 'user_2309': 2309, 'user_3485': 3485, 'user_2318': 2318, 'user_3494': 3494, 'user_2319': 2319, 'user_3495': 3495, 'user_2320': 2320, 'user_2321': 2321, 'user_2322': 2322, 'user_2323': 2323, 'user_2324': 2324, 'user_2325': 2325, 'user_2326': 2326, 'user_2327': 2327, 'user_2328': 2328, 'user_2329': 2329, 'user_2338': 2338, 'user_2339': 2339, 'user_2340': 2340, 'user_2341': 2341, 'user_4999': 4999, 'user_4564': 4564, 'user_3198': 3198, 'user_2342': 2342, 'user_4998': 4998, 'user_4565': 4565, 'user_3199': 3199, 'user_2343': 2343, 'user_2344': 2344, 'user_2345': 2345, 'user_2346': 2346, 'user_2347': 2347, 'user_4993': 4993, 'user_4427': 4427, 'user_3192': 3192, 'user_2348': 2348, 'user_4992': 4992, 'user_4426': 4426, 'user_3193': 3193, 'user_2349': 2349, 'user_2350': 2350, 'user_2351': 2351, 'user_2352': 2352, 'user_2353': 2353, 'user_2354': 2354, 'user_2355': 2355, 'user_3188': 3188, 'user_2356': 2356, 'user_3189': 3189, 'user_2357': 2357, 'user_4572': 4572, 'user_3186': 3186, 'user_2358': 2358, 'user_4573': 4573, 'user_3187': 3187, 'user_2359': 2359, 'user_2360': 2360, 'user_2361': 2361, 'user_2362': 2362, 'user_2363': 2363, 'user_2364': 2364, 'user_2365': 2365, 'user_2366': 2366, 'user_2367': 2367, 'user_2368': 2368, 'user_2369': 2369, 'user_2370': 2370, 'user_2371': 2371, 'user_2372': 2372, 'user_2373': 2373, 'user_2374': 2374, 'user_2375': 2375, 'user_2376': 2376, 'user_2377': 2377, 'user_2378': 2378, 'user_2379': 2379, 'user_2382': 2382, 'user_2383': 2383, 'user_2384': 2384, 'user_2385': 2385, 'user_2386': 2386, 'user_2387': 2387, 'user_4185': 4185, 'user_2392': 2392, 'user_4184': 4184, 'user_2393': 2393, 'user_4183': 4183, 'user_2394': 2394, 'user_4182': 4182, 'user_2395': 2395, 'user_4181': 4181, 'user_2396': 2396, 'user_4180': 4180, 'user_2397': 2397, 'user_2478': 2478, 'user_2479': 2479, 'user_2490': 2490, 'user_2491': 2491, 'user_2492': 2492, 'user_2493': 2493, 'user_2494': 2494, 'user_2495': 2495, 'user_2530': 2530, 'user_2531': 2531, 'user_2532': 2532, 'user_2533': 2533, 'user_2534': 2534, 'user_2535': 2535, 'user_2558': 2558, 'user_2559': 2559, 'user_2628': 2628, 'user_2629': 2629, 'user_2961': 2961, 'user_2640': 2640, 'user_2960': 2960, 'user_2641': 2641, 'user_2963': 2963, 'user_2642': 2642, 'user_2962': 2962, 'user_2643': 2643, 'user_2644': 2644, 'user_3948': 3948, 'user_2965': 2965, 'user_2645': 2645, 'user_3949': 3949, 'user_2964': 2964, 'user_2967': 2967, 'user_2646': 2646, 'user_2966': 2966, 'user_2647': 2647, 'user_2648': 2648, 'user_3944': 3944, 'user_2969': 2969, 'user_2649': 2649, 'user_3945': 3945, 'user_2968': 2968, 'user_2901': 2901, 'user_2660': 2660, 'user_2900': 2900, 'user_2661': 2661, 'user_2903': 2903, 'user_2662': 2662, 'user_2902': 2902, 'user_2663': 2663, 'user_2905': 2905, 'user_2664': 2664, 'user_2904': 2904, 'user_2665': 2665, 'user_2680': 2680, 'user_2681': 2681, 'user_2682': 2682, 'user_2683': 2683, 'user_2684': 2684, 'user_2685': 2685, 'user_2686': 2686, 'user_2687': 2687, 'user_2688': 2688, 'user_2689': 2689, 'user_2690': 2690, 'user_2691': 2691, 'user_2692': 2692, 'user_2693': 2693, 'user_2694': 2694, 'user_2695': 2695, 'user_2696': 2696, 'user_2697': 2697, 'user_2698': 2698, 'user_2699': 2699, 'user_2700': 2700, 'user_2701': 2701, 'user_2702': 2702, 'user_2703': 2703, 'user_2704': 2704, 'user_2705': 2705, 'user_2706': 2706, 'user_2707': 2707, 'user_2708': 2708, 'user_2709': 2709, 'user_2710': 2710, 'user_2711': 2711, 'user_2712': 2712, 'user_2713': 2713, 'user_2714': 2714, 'user_2715': 2715, 'user_2716': 2716, 'user_2717': 2717, 'user_2718': 2718, 'user_2719': 2719, 'user_2720': 2720, 'user_2721': 2721, 'user_2722': 2722, 'user_2723': 2723, 'user_2724': 2724, 'user_2725': 2725, 'user_2726': 2726, 'user_2727': 2727, 'user_2728': 2728, 'user_2729': 2729, 'user_2730': 2730, 'user_2731': 2731, 'user_2732': 2732, 'user_2733': 2733, 'user_2734': 2734, 'user_2735': 2735, 'user_2736': 2736, 'user_2737': 2737, 'user_2738': 2738, 'user_2739': 2739, 'user_2740': 2740, 'user_2741': 2741, 'user_2742': 2742, 'user_2743': 2743, 'user_2744': 2744, 'user_2745': 2745, 'user_2746': 2746, 'user_2747': 2747, 'user_2748': 2748, 'user_2749': 2749, 'user_2750': 2750, 'user_2751': 2751, 'user_2752': 2752, 'user_2753': 2753, 'user_2754': 2754, 'user_2755': 2755, 'user_2756': 2756, 'user_2757': 2757, 'user_2758': 2758, 'user_2759': 2759, 'user_2760': 2760, 'user_2761': 2761, 'user_2762': 2762, 'user_2763': 2763, 'user_2764': 2764, 'user_2765': 2765, 'user_2766': 2766, 'user_2767': 2767, 'user_2768': 2768, 'user_2769': 2769, 'user_2770': 2770, 'user_2771': 2771, 'user_2772': 2772, 'user_2773': 2773, 'user_2774': 2774, 'user_3878': 3878, 'user_2775': 2775, 'user_3879': 3879, 'user_2776': 2776, 'user_2777': 2777, 'user_2778': 2778, 'user_3874': 3874, 'user_2779': 2779, 'user_3875': 3875, 'user_2784': 2784, 'user_2785': 2785, 'user_2786': 2786, 'user_2787': 2787, 'user_2792': 2792, 'user_2793': 2793, 'user_5137': 5137, 'user_3548': 3548, 'user_2796': 2796, 'user_5136': 5136, 'user_3549': 3549, 'user_2797': 2797, 'user_2800': 2800, 'user_2801': 2801, 'user_2802': 2802, 'user_2803': 2803, 'user_2804': 2804, 'user_2805': 2805, 'user_2806': 2806, 'user_2807': 2807, 'user_2808': 2808, 'user_2809': 2809, 'user_2810': 2810, 'user_2811': 2811, 'user_2812': 2812, 'user_2813': 2813, 'user_2814': 2814, 'user_2815': 2815, 'user_2816': 2816, 'user_2817': 2817, 'user_2818': 2818, 'user_2819': 2819, 'user_2820': 2820, 'user_2821': 2821, 'user_2822': 2822, 'user_2823': 2823, 'user_2824': 2824, 'user_2825': 2825, 'user_2830': 2830, 'user_2831': 2831, 'user_2834': 2834, 'user_2835': 2835, 'user_2840': 2840, 'user_2841': 2841, 'user_2844': 2844, 'user_2845': 2845, 'user_5047': 5047, 'user_3478': 3478, 'user_2846': 2846, 'user_5046': 5046, 'user_3479': 3479, 'user_2847': 2847, 'user_2860': 2860, 'user_2861': 2861, 'user_2862': 2862, 'user_2863': 2863, 'user_2864': 2864, 'user_2865': 2865, 'user_2866': 2866, 'user_2867': 2867, 'user_2868': 2868, 'user_2869': 2869, 'user_2870': 2870, 'user_2871': 2871, 'user_2872': 2872, 'user_2873': 2873, 'user_2874': 2874, 'user_2875': 2875, 'user_2876': 2876, 'user_2877': 2877, 'user_2878': 2878, 'user_2879': 2879, 'user_2880': 2880, 'user_2881': 2881, 'user_2884': 2884, 'user_2885': 2885, 'user_2886': 2886, 'user_2887': 2887, 'user_2890': 2890, 'user_2891': 2891, 'user_2892': 2892, 'user_2893': 2893, 'user_2894': 2894, 'user_2895': 2895, 'user_2918': 2918, 'user_2919': 2919, 'user_2970': 2970, 'user_2971': 2971, 'user_3939': 3939, 'user_2972': 2972, 'user_3938': 3938, 'user_2973': 2973, 'user_2974': 2974, 'user_2975': 2975, 'user_2976': 2976, 'user_2977': 2977, 'user_3933': 3933, 'user_2978': 2978, 'user_3932': 3932, 'user_2979': 2979, 'user_3038': 3038, 'user_3039': 3039, 'user_3361': 3361, 'user_3040': 3040, 'user_3360': 3360, 'user_3041': 3041, 'user_3363': 3363, 'user_3042': 3042, 'user_3362': 3362, 'user_3043': 3043, 'user_3365': 3365, 'user_3044': 3044, 'user_3364': 3364, 'user_3045': 3045, 'user_3367': 3367, 'user_3046': 3046, 'user_3366': 3366, 'user_3047': 3047, 'user_3369': 3369, 'user_3048': 3048, 'user_3368': 3368, 'user_3049': 3049, 'user_3317': 3317, 'user_3050': 3050, 'user_3316': 3316, 'user_3051': 3051, 'user_3315': 3315, 'user_3052': 3052, 'user_3314': 3314, 'user_3053': 3053, 'user_3313': 3313, 'user_3054': 3054, 'user_3312': 3312, 'user_3055': 3055, 'user_3311': 3311, 'user_3056': 3056, 'user_3310': 3310, 'user_3057': 3057, 'user_3058': 3058, 'user_3059': 3059, 'user_5787': 5787, 'user_3301': 3301, 'user_3060': 3060, 'user_5786': 5786, 'user_3300': 3300, 'user_3061': 3061, 'user_5785': 5785, 'user_4698': 4698, 'user_3303': 3303, 'user_3062': 3062, 'user_5784': 5784, 'user_4699': 4699, 'user_3302': 3302, 'user_3063': 3063, 'user_5783': 5783, 'user_3305': 3305, 'user_3064': 3064, 'user_5782': 5782, 'user_3304': 3304, 'user_3065': 3065, 'user_5781': 5781, 'user_3307': 3307, 'user_3066': 3066, 'user_5780': 5780, 'user_3306': 3306, 'user_3067': 3067, 'user_4692': 4692, 'user_3309': 3309, 'user_3068': 3068, 'user_4693': 4693, 'user_3308': 3308, 'user_3069': 3069, 'user_3070': 3070, 'user_3719': 3719, 'user_5821': 5821, 'user_4686': 4686, 'user_3333': 3333, 'user_3071': 3071, 'user_3718': 3718, 'user_5820': 5820, 'user_4687': 4687, 'user_3332': 3332, 'user_5823': 5823, 'user_4684': 4684, 'user_3331': 3331, 'user_3072': 3072, 'user_5822': 5822, 'user_4685': 4685, 'user_3330': 3330, 'user_3073': 3073, 'user_5825': 5825, 'user_4682': 4682, 'user_3337': 3337, 'user_3074': 3074, 'user_5824': 5824, 'user_4683': 4683, 'user_3336': 3336, 'user_3075': 3075, 'user_5827': 5827, 'user_4680': 4680, 'user_3335': 3335, 'user_3076': 3076, 'user_5826': 5826, 'user_4681': 4681, 'user_3334': 3334, 'user_3077': 3077, 'user_3078': 3078, 'user_3711': 3711, 'user_3079': 3079, 'user_3710': 3710, 'user_4923': 4923, 'user_3100': 3100, 'user_4922': 4922, 'user_3101': 3101, 'user_4921': 4921, 'user_3102': 3102, 'user_4920': 4920, 'user_3103': 3103, 'user_4927': 4927, 'user_3104': 3104, 'user_4926': 4926, 'user_3105': 3105, 'user_4925': 4925, 'user_3106': 3106, 'user_4924': 4924, 'user_3107': 3107, 'user_3108': 3108, 'user_3109': 3109, 'user_4911': 4911, 'user_3110': 3110, 'user_4910': 4910, 'user_3111': 3111, 'user_4913': 4913, 'user_3112': 3112, 'user_4912': 4912, 'user_3113': 3113, 'user_4915': 4915, 'user_3114': 3114, 'user_4914': 4914, 'user_3115': 3115, 'user_4917': 4917, 'user_3116': 3116, 'user_4916': 4916, 'user_3117': 3117, 'user_4919': 4919, 'user_3118': 3118, 'user_4918': 4918, 'user_3119': 3119, 'user_3120': 3120, 'user_3121': 3121, 'user_3122': 3122, 'user_3123': 3123, 'user_3124': 3124, 'user_3125': 3125, 'user_3126': 3126, 'user_3127': 3127, 'user_3128': 3128, 'user_3129': 3129, 'user_3130': 3130, 'user_3131': 3131, 'user_3132': 3132, 'user_3133': 3133, 'user_3136': 3136, 'user_3137': 3137, 'user_3140': 3140, 'user_3141': 3141, 'user_3142': 3142, 'user_3143': 3143, 'user_3144': 3144, 'user_3145': 3145, 'user_3146': 3146, 'user_3147': 3147, 'user_3148': 3148, 'user_3149': 3149, 'user_3150': 3150, 'user_3151': 3151, 'user_3152': 3152, 'user_3153': 3153, 'user_3154': 3154, 'user_3155': 3155, 'user_3156': 3156, 'user_3157': 3157, 'user_3158': 3158, 'user_3159': 3159, 'user_3160': 3160, 'user_3161': 3161, 'user_3162': 3162, 'user_3163': 3163, 'user_3164': 3164, 'user_3165': 3165, 'user_3166': 3166, 'user_3167': 3167, 'user_3168': 3168, 'user_3169': 3169, 'user_3170': 3170, 'user_3171': 3171, 'user_3172': 3172, 'user_3173': 3173, 'user_3174': 3174, 'user_3175': 3175, 'user_3176': 3176, 'user_3177': 3177, 'user_3178': 3178, 'user_3179': 3179, 'user_4574': 4574, 'user_3180': 3180, 'user_4575': 4575, 'user_3181': 3181, 'user_4576': 4576, 'user_3182': 3182, 'user_4577': 4577, 'user_3183': 3183, 'user_4570': 4570, 'user_3184': 3184, 'user_4571': 4571, 'user_3185': 3185, 'user_4991': 4991, 'user_4425': 4425, 'user_3190': 3190, 'user_4990': 4990, 'user_4424': 4424, 'user_3191': 3191, 'user_4995': 4995, 'user_4568': 4568, 'user_4421': 4421, 'user_3194': 3194, 'user_4994': 4994, 'user_4569': 4569, 'user_4420': 4420, 'user_3195': 3195, 'user_4997': 4997, 'user_4423': 4423, 'user_3196': 3196, 'user_4996': 4996, 'user_4422': 4422, 'user_3197': 3197, 'user_5686': 5686, 'user_4861': 4861, 'user_3200': 3200, 'user_5687': 5687, 'user_4860': 4860, 'user_3201': 3201, 'user_5684': 5684, 'user_4863': 4863, 'user_3202': 3202, 'user_5685': 5685, 'user_4862': 4862, 'user_3203': 3203, 'user_5682': 5682, 'user_4865': 4865, 'user_3204': 3204, 'user_5683': 5683, 'user_4864': 4864, 'user_3205': 3205, 'user_5680': 5680, 'user_4867': 4867, 'user_3206': 3206, 'user_5681': 5681, 'user_4866': 4866, 'user_3207': 3207, 'user_4869': 4869, 'user_3208': 3208, 'user_4868': 4868, 'user_3209': 3209, 'user_4853': 4853, 'user_4787': 4787, 'user_3210': 3210, 'user_4852': 4852, 'user_4786': 4786, 'user_3211': 3211, 'user_4851': 4851, 'user_4785': 4785, 'user_3212': 3212, 'user_4850': 4850, 'user_4784': 4784, 'user_3213': 3213, 'user_4857': 4857, 'user_4783': 4783, 'user_3214': 3214, 'user_4856': 4856, 'user_4782': 4782, 'user_3215': 3215, 'user_4855': 4855, 'user_4781': 4781, 'user_3216': 3216, 'user_4854': 4854, 'user_4780': 4780, 'user_3217': 3217, 'user_3218': 3218, 'user_3219': 3219, 'user_5662': 5662, 'user_4809': 4809, 'user_3228': 3228, 'user_5663': 5663, 'user_4808': 4808, 'user_3229': 3229, 'user_4877': 4877, 'user_3230': 3230, 'user_4876': 4876, 'user_3231': 3231, 'user_4875': 4875, 'user_3232': 3232, 'user_4874': 4874, 'user_3233': 3233, 'user_4873': 4873, 'user_3234': 3234, 'user_4872': 4872, 'user_3235': 3235, 'user_5678': 5678, 'user_4871': 4871, 'user_3236': 3236, 'user_5679': 5679, 'user_4870': 4870, 'user_3237': 3237, 'user_5676': 5676, 'user_3238': 3238, 'user_5677': 5677, 'user_3239': 3239, 'user_3240': 3240, 'user_3241': 3241, 'user_3244': 3244, 'user_3245': 3245, 'user_4841': 4841, 'user_3260': 3260, 'user_4840': 4840, 'user_3261': 3261, 'user_4843': 4843, 'user_3262': 3262, 'user_4842': 4842, 'user_3263': 3263, 'user_4845': 4845, 'user_4799': 4799, 'user_3264': 3264, 'user_4844': 4844, 'user_4798': 4798, 'user_3265': 3265, 'user_4847': 4847, 'user_3266': 3266, 'user_4846': 4846, 'user_3267': 3267, 'user_4849': 4849, 'user_4795': 4795, 'user_3268': 3268, 'user_4848': 4848, 'user_4794': 4794, 'user_3269': 3269, 'user_5606': 5606, 'user_3280': 3280, 'user_5607': 5607, 'user_3281': 3281, 'user_5604': 5604, 'user_3282': 3282, 'user_5605': 5605, 'user_3283': 3283, 'user_5602': 5602, 'user_3284': 3284, 'user_5603': 5603, 'user_3285': 3285, 'user_5600': 5600, 'user_3286': 3286, 'user_5601': 5601, 'user_3287': 3287, 'user_3288': 3288, 'user_3289': 3289, 'user_3290': 3290, 'user_3291': 3291, 'user_5618': 5618, 'user_4419': 4419, 'user_3292': 3292, 'user_5619': 5619, 'user_4418': 4418, 'user_3293': 3293, 'user_3294': 3294, 'user_3295': 3295, 'user_3296': 3296, 'user_3297': 3297, 'user_5612': 5612, 'user_4413': 4413, 'user_3298': 3298, 'user_5613': 5613, 'user_4412': 4412, 'user_3299': 3299, 'user_3318': 3318, 'user_3319': 3319, 'user_3712': 3712, 'user_3338': 3338, 'user_3713': 3713, 'user_3339': 3339, 'user_5892': 5892, 'user_3340': 3340, 'user_5893': 5893, 'user_3341': 3341, 'user_5890': 5890, 'user_3342': 3342, 'user_5891': 5891, 'user_3343': 3343, 'user_5896': 5896, 'user_3344': 3344, 'user_5897': 5897, 'user_3345': 3345, 'user_5894': 5894, 'user_5748': 5748, 'user_4769': 4769, 'user_3346': 3346, 'user_5895': 5895, 'user_5749': 5749, 'user_4768': 4768, 'user_3347': 3347, 'user_5746': 5746, 'user_4767': 4767, 'user_3348': 3348, 'user_5747': 5747, 'user_4766': 4766, 'user_3349': 3349, 'user_5886': 5886, 'user_5752': 5752, 'user_4711': 4711, 'user_3358': 3358, 'user_5887': 5887, 'user_5753': 5753, 'user_4710': 4710, 'user_3359': 3359, 'user_4779': 4779, 'user_3370': 3370, 'user_4778': 4778, 'user_3371': 3371, 'user_3372': 3372, 'user_3373': 3373, 'user_3374': 3374, 'user_3375': 3375, 'user_3376': 3376, 'user_3377': 3377, 'user_4771': 4771, 'user_3378': 3378, 'user_4770': 4770, 'user_3379': 3379, 'user_5706': 5706, 'user_4727': 4727, 'user_3380': 3380, 'user_5707': 5707, 'user_4726': 4726, 'user_3381': 3381, 'user_5704': 5704, 'user_4725': 4725, 'user_3382': 3382, 'user_5705': 5705, 'user_4724': 4724, 'user_3383': 3383, 'user_5702': 5702, 'user_4723': 4723, 'user_3384': 3384, 'user_5703': 5703, 'user_4722': 4722, 'user_3385': 3385, 'user_5700': 5700, 'user_4721': 4721, 'user_3386': 3386, 'user_5701': 5701, 'user_4720': 4720, 'user_3387': 3387, 'user_3388': 3388, 'user_3389': 3389, 'user_3390': 3390, 'user_3391': 3391, 'user_5718': 5718, 'user_3392': 3392, 'user_5719': 5719, 'user_3393': 3393, 'user_4889': 4889, 'user_3394': 3394, 'user_4888': 4888, 'user_3395': 3395, 'user_3396': 3396, 'user_3397': 3397, 'user_5712': 5712, 'user_4885': 4885, 'user_3398': 3398, 'user_5713': 5713, 'user_4884': 4884, 'user_3399': 3399, 'user_5023': 5023, 'user_3418': 3418, 'user_5022': 5022, 'user_3419': 3419, 'user_3438': 3438, 'user_3439': 3439, 'user_3450': 3450, 'user_3451': 3451, 'user_3454': 3454, 'user_3455': 3455, 'user_3456': 3456, 'user_3457': 3457, 'user_3482': 3482, 'user_3483': 3483, 'user_3486': 3486, 'user_3487': 3487, 'user_3492': 3492, 'user_3493': 3493, 'user_3496': 3496, 'user_3497': 3497, 'user_4097': 4097, 'user_3500': 3500, 'user_4096': 4096, 'user_3501': 3501, 'user_3502': 3502, 'user_4095': 4095, 'user_3503': 3503, 'user_4094': 4094, 'user_3506': 3506, 'user_4091': 4091, 'user_3507': 3507, 'user_4090': 4090, 'user_3588': 3588, 'user_3589': 3589, 'user_3594': 3594, 'user_3595': 3595, 'user_3596': 3596, 'user_3597': 3597, 'user_3618': 3618, 'user_3619': 3619, 'user_3620': 3620, 'user_3621': 3621, 'user_3624': 3624, 'user_3625': 3625, 'user_3626': 3626, 'user_3627': 3627, 'user_3630': 3630, 'user_3631': 3631, 'user_3632': 3632, 'user_3633': 3633, 'user_3634': 3634, 'user_3635': 3635, 'user_3650': 3650, 'user_3651': 3651, 'user_3656': 3656, 'user_3657': 3657, 'user_3668': 3668, 'user_4001': 4001, 'user_3669': 3669, 'user_4000': 4000, 'user_3678': 3678, 'user_4077': 4077, 'user_3679': 3679, 'user_4076': 4076, 'user_3680': 3680, 'user_3681': 3681, 'user_3686': 3686, 'user_3687': 3687, 'user_3692': 3692, 'user_3693': 3693, 'user_3694': 3694, 'user_3695': 3695, 'user_3696': 3696, 'user_3697': 3697, 'user_3700': 3700, 'user_3701': 3701, 'user_3702': 3702, 'user_3703': 3703, 'user_3704': 3704, 'user_3705': 3705, 'user_3714': 3714, 'user_3715': 3715, 'user_3716': 3716, 'user_3717': 3717, 'user_3740': 3740, 'user_3741': 3741, 'user_3742': 3742, 'user_3743': 3743, 'user_3744': 3744, 'user_3745': 3745, 'user_3746': 3746, 'user_3747': 3747, 'user_3748': 3748, 'user_3749': 3749, 'user_3750': 3750, 'user_3751': 3751, 'user_3752': 3752, 'user_3753': 3753, 'user_3754': 3754, 'user_3755': 3755, 'user_3756': 3756, 'user_3757': 3757, 'user_3758': 3758, 'user_3759': 3759, 'user_3772': 3772, 'user_3773': 3773, 'user_3774': 3774, 'user_3775': 3775, 'user_3800': 3800, 'user_3801': 3801, 'user_3802': 3802, 'user_3803': 3803, 'user_3804': 3804, 'user_3805': 3805, 'user_3806': 3806, 'user_3807': 3807, 'user_3808': 3808, 'user_3809': 3809, 'user_3810': 3810, 'user_3811': 3811, 'user_3812': 3812, 'user_3813': 3813, 'user_3814': 3814, 'user_3815': 3815, 'user_3816': 3816, 'user_3817': 3817, 'user_3818': 3818, 'user_3819': 3819, 'user_3820': 3820, 'user_3821': 3821, 'user_3822': 3822, 'user_3823': 3823, 'user_3824': 3824, 'user_3825': 3825, 'user_3826': 3826, 'user_3827': 3827, 'user_3828': 3828, 'user_3829': 3829, 'user_3830': 3830, 'user_3831': 3831, 'user_3832': 3832, 'user_3833': 3833, 'user_4668': 4668, 'user_3834': 3834, 'user_4669': 4669, 'user_3835': 3835, 'user_5409': 5409, 'user_3836': 3836, 'user_5408': 5408, 'user_3837': 3837, 'user_5407': 5407, 'user_4664': 4664, 'user_3838': 3838, 'user_5406': 5406, 'user_4665': 4665, 'user_3839': 3839, 'user_3840': 3840, 'user_3841': 3841, 'user_3842': 3842, 'user_3843': 3843, 'user_3844': 3844, 'user_3845': 3845, 'user_3846': 3846, 'user_3847': 3847, 'user_3848': 3848, 'user_3849': 3849, 'user_3850': 3850, 'user_3851': 3851, 'user_5469': 5469, 'user_3852': 3852, 'user_5468': 5468, 'user_3853': 3853, 'user_3854': 3854, 'user_3855': 3855, 'user_3856': 3856, 'user_3857': 3857, 'user_5463': 5463, 'user_3858': 3858, 'user_5462': 5462, 'user_3859': 3859, 'user_3860': 3860, 'user_3861': 3861, 'user_5479': 5479, 'user_3864': 3864, 'user_5478': 5478, 'user_3865': 3865, 'user_3866': 3866, 'user_3867': 3867, 'user_3870': 3870, 'user_3871': 3871, 'user_3872': 3872, 'user_3873': 3873, 'user_3876': 3876, 'user_3877': 3877, 'user_3880': 3880, 'user_3881': 3881, 'user_3882': 3882, 'user_3883': 3883, 'user_3884': 3884, 'user_3885': 3885, 'user_3890': 3890, 'user_3891': 3891, 'user_3894': 3894, 'user_3895': 3895, 'user_3896': 3896, 'user_3897': 3897, 'user_5256': 5256, 'user_3900': 3900, 'user_5257': 5257, 'user_3901': 3901, 'user_5254': 5254, 'user_3902': 3902, 'user_5255': 5255, 'user_3903': 3903, 'user_5252': 5252, 'user_3904': 3904, 'user_5253': 5253, 'user_3905': 3905, 'user_5250': 5250, 'user_3906': 3906, 'user_5251': 5251, 'user_3907': 3907, 'user_3908': 3908, 'user_3909': 3909, 'user_5242': 5242, 'user_3910': 3910, 'user_5243': 5243, 'user_3911': 3911, 'user_5240': 5240, 'user_3912': 3912, 'user_5241': 5241, 'user_3913': 3913, 'user_5246': 5246, 'user_3914': 3914, 'user_5247': 5247, 'user_3915': 3915, 'user_5244': 5244, 'user_3916': 3916, 'user_5245': 5245, 'user_3917': 3917, 'user_3918': 3918, 'user_3919': 3919, 'user_3920': 3920, 'user_3921': 3921, 'user_3922': 3922, 'user_3923': 3923, 'user_3924': 3924, 'user_3925': 3925, 'user_3926': 3926, 'user_3927': 3927, 'user_3928': 3928, 'user_3929': 3929, 'user_3930': 3930, 'user_3931': 3931, 'user_3934': 3934, 'user_3935': 3935, 'user_3936': 3936, 'user_3937': 3937, 'user_3940': 3940, 'user_3941': 3941, 'user_3942': 3942, 'user_3943': 3943, 'user_3946': 3946, 'user_3947': 3947, 'user_5282': 5282, 'user_3950': 3950, 'user_5283': 5283, 'user_3951': 3951, 'user_5280': 5280, 'user_3952': 3952, 'user_5281': 5281, 'user_3953': 3953, 'user_5589': 5589, 'user_5286': 5286, 'user_3954': 3954, 'user_5588': 5588, 'user_5287': 5287, 'user_3955': 3955, 'user_5284': 5284, 'user_3956': 3956, 'user_5285': 5285, 'user_3957': 3957, 'user_5585': 5585, 'user_3958': 3958, 'user_5584': 5584, 'user_3959': 3959, 'user_3960': 3960, 'user_3961': 3961, 'user_5599': 5599, 'user_3962': 3962, 'user_5598': 5598, 'user_3963': 3963, 'user_3964': 3964, 'user_3965': 3965, 'user_3966': 3966, 'user_3967': 3967, 'user_5593': 5593, 'user_3968': 3968, 'user_5592': 5592, 'user_3969': 3969, 'user_3970': 3970, 'user_3971': 3971, 'user_3972': 3972, 'user_3973': 3973, 'user_3974': 3974, 'user_3975': 3975, 'user_3976': 3976, 'user_3977': 3977, 'user_3978': 3978, 'user_3979': 3979, 'user_3980': 3980, 'user_3981': 3981, 'user_3982': 3982, 'user_3983': 3983, 'user_3984': 3984, 'user_3985': 3985, 'user_3986': 3986, 'user_3987': 3987, 'user_3988': 3988, 'user_3989': 3989, 'user_3990': 3990, 'user_3991': 3991, 'user_3992': 3992, 'user_3993': 3993, 'user_3996': 3996, 'user_3997': 3997, 'user_4002': 4002, 'user_4003': 4003, 'user_4004': 4004, 'user_4005': 4005, 'user_4018': 4018, 'user_4019': 4019, 'user_4020': 4020, 'user_4021': 4021, 'user_4022': 4022, 'user_4023': 4023, 'user_4026': 4026, 'user_4027': 4027, 'user_4030': 4030, 'user_4031': 4031, 'user_4032': 4032, 'user_4033': 4033, 'user_4036': 4036, 'user_4037': 4037, 'user_4040': 4040, 'user_4041': 4041, 'user_4042': 4042, 'user_4043': 4043, 'user_4044': 4044, 'user_4045': 4045, 'user_4046': 4046, 'user_4047': 4047, 'user_4048': 4048, 'user_4049': 4049, 'user_4050': 4050, 'user_4051': 4051, 'user_4052': 4052, 'user_4053': 4053, 'user_4054': 4054, 'user_4055': 4055, 'user_4056': 4056, 'user_4057': 4057, 'user_4058': 4058, 'user_4059': 4059, 'user_4062': 4062, 'user_4063': 4063, 'user_4064': 4064, 'user_4065': 4065, 'user_4066': 4066, 'user_4067': 4067, 'user_4072': 4072, 'user_4073': 4073, 'user_4074': 4074, 'user_4075': 4075, 'user_4190': 4190, 'user_4191': 4191, 'user_4192': 4192, 'user_4193': 4193, 'user_4194': 4194, 'user_4195': 4195, 'user_4196': 4196, 'user_4197': 4197, 'user_4198': 4198, 'user_4199': 4199, 'user_4208': 4208, 'user_4209': 4209, 'user_4218': 4218, 'user_4219': 4219, 'user_4248': 4248, 'user_4249': 4249, 'user_4254': 4254, 'user_4255': 4255, 'user_4256': 4256, 'user_4257': 4257, 'user_4260': 4260, 'user_4261': 4261, 'user_4262': 4262, 'user_4263': 4263, 'user_4264': 4264, 'user_4265': 4265, 'user_4266': 4266, 'user_4267': 4267, 'user_4268': 4268, 'user_4269': 4269, 'user_4270': 4270, 'user_4271': 4271, 'user_4272': 4272, 'user_4273': 4273, 'user_4274': 4274, 'user_4275': 4275, 'user_4276': 4276, 'user_4277': 4277, 'user_4278': 4278, 'user_4279': 4279, 'user_4280': 4280, 'user_4281': 4281, 'user_4282': 4282, 'user_4283': 4283, 'user_4284': 4284, 'user_4285': 4285, 'user_4292': 4292, 'user_4293': 4293, 'user_4294': 4294, 'user_4295': 4295, 'user_4296': 4296, 'user_4297': 4297, 'user_4300': 4300, 'user_4301': 4301, 'user_4302': 4302, 'user_4303': 4303, 'user_4306': 4306, 'user_4307': 4307, 'user_4318': 4318, 'user_4319': 4319, 'user_4328': 4328, 'user_4329': 4329, 'user_4338': 4338, 'user_4339': 4339, 'user_4348': 4348, 'user_4349': 4349, 'user_4350': 4350, 'user_4351': 4351, 'user_4352': 4352, 'user_4353': 4353, 'user_4354': 4354, 'user_4355': 4355, 'user_4356': 4356, 'user_4357': 4357, 'user_4358': 4358, 'user_4359': 4359, 'user_4370': 4370, 'user_4371': 4371, 'user_4372': 4372, 'user_4373': 4373, 'user_4376': 4376, 'user_4377': 4377, 'user_4388': 4388, 'user_4389': 4389, 'user_5623': 5623, 'user_4400': 4400, 'user_5622': 5622, 'user_4401': 4401, 'user_5621': 5621, 'user_4402': 4402, 'user_5620': 5620, 'user_4403': 4403, 'user_5627': 5627, 'user_4404': 4404, 'user_5626': 5626, 'user_4405': 4405, 'user_5625': 5625, 'user_4406': 4406, 'user_5624': 5624, 'user_4407': 4407, 'user_4408': 4408, 'user_4409': 4409, 'user_5611': 5611, 'user_4410': 4410, 'user_5610': 5610, 'user_4411': 4411, 'user_5615': 5615, 'user_4414': 4414, 'user_5614': 5614, 'user_4415': 4415, 'user_5617': 5617, 'user_4416': 4416, 'user_5616': 5616, 'user_4417': 4417, 'user_4561': 4561, 'user_4428': 4428, 'user_4560': 4560, 'user_4429': 4429, 'user_4984': 4984, 'user_4430': 4430, 'user_4985': 4985, 'user_4431': 4431, 'user_4986': 4986, 'user_4432': 4432, 'user_4987': 4987, 'user_4433': 4433, 'user_4980': 4980, 'user_4434': 4434, 'user_4981': 4981, 'user_4435': 4435, 'user_4982': 4982, 'user_4559': 4559, 'user_4436': 4436, 'user_4983': 4983, 'user_4558': 4558, 'user_4437': 4437, 'user_4557': 4557, 'user_4438': 4438, 'user_4556': 4556, 'user_4439': 4439, 'user_4549': 4549, 'user_4440': 4440, 'user_4548': 4548, 'user_4441': 4441, 'user_4442': 4442, 'user_4443': 4443, 'user_4978': 4978, 'user_4444': 4444, 'user_4979': 4979, 'user_4445': 4445, 'user_4446': 4446, 'user_4447': 4447, 'user_4974': 4974, 'user_4541': 4541, 'user_4448': 4448, 'user_4975': 4975, 'user_4540': 4540, 'user_4449': 4449, 'user_4964': 4964, 'user_4450': 4450, 'user_4965': 4965, 'user_4451': 4451, 'user_4966': 4966, 'user_4452': 4452, 'user_4967': 4967, 'user_4453': 4453, 'user_4960': 4960, 'user_4454': 4454, 'user_4961': 4961, 'user_4455': 4455, 'user_4962': 4962, 'user_4456': 4456, 'user_4963': 4963, 'user_4457': 4457, 'user_4458': 4458, 'user_4459': 4459, 'user_4460': 4460, 'user_4461': 4461, 'user_4462': 4462, 'user_4463': 4463, 'user_4464': 4464, 'user_4465': 4465, 'user_4466': 4466, 'user_4467': 4467, 'user_4468': 4468, 'user_4469': 4469, 'user_4470': 4470, 'user_4471': 4471, 'user_4472': 4472, 'user_4473': 4473, 'user_4474': 4474, 'user_4475': 4475, 'user_4476': 4476, 'user_4477': 4477, 'user_4478': 4478, 'user_4479': 4479, 'user_4589': 4589, 'user_4480': 4480, 'user_4588': 4588, 'user_4481': 4481, 'user_4482': 4482, 'user_4483': 4483, 'user_4484': 4484, 'user_4485': 4485, 'user_4486': 4486, 'user_4487': 4487, 'user_4581': 4581, 'user_4488': 4488, 'user_4580': 4580, 'user_4489': 4489, 'user_5691': 5691, 'user_4490': 4490, 'user_5690': 5690, 'user_4491': 4491, 'user_5693': 5693, 'user_4492': 4492, 'user_5692': 5692, 'user_4493': 4493, 'user_5695': 5695, 'user_4494': 4494, 'user_5694': 5694, 'user_4495': 4495, 'user_5697': 5697, 'user_4496': 4496, 'user_5696': 5696, 'user_4497': 4497, 'user_5699': 5699, 'user_4498': 4498, 'user_5698': 5698, 'user_4499': 4499, 'user_4500': 4500, 'user_4501': 4501, 'user_4502': 4502, 'user_4503': 4503, 'user_4504': 4504, 'user_4505': 4505, 'user_4506': 4506, 'user_4507': 4507, 'user_4508': 4508, 'user_4509': 4509, 'user_4510': 4510, 'user_4511': 4511, 'user_4512': 4512, 'user_4513': 4513, 'user_4514': 4514, 'user_4515': 4515, 'user_4516': 4516, 'user_4517': 4517, 'user_4518': 4518, 'user_4519': 4519, 'user_4520': 4520, 'user_4521': 4521, 'user_4522': 4522, 'user_4523': 4523, 'user_4524': 4524, 'user_4525': 4525, 'user_5648': 5648, 'user_4526': 4526, 'user_5649': 5649, 'user_4527': 4527, 'user_5646': 5646, 'user_4528': 4528, 'user_5647': 5647, 'user_4529': 4529, 'user_4530': 4530, 'user_4531': 4531, 'user_5658': 5658, 'user_4532': 4532, 'user_5659': 5659, 'user_4533': 4533, 'user_4534': 4534, 'user_4535': 4535, 'user_4536': 4536, 'user_4537': 4537, 'user_5652': 5652, 'user_4538': 4538, 'user_5653': 5653, 'user_4539': 4539, 'user_4977': 4977, 'user_4542': 4542, 'user_4976': 4976, 'user_4543': 4543, 'user_4971': 4971, 'user_4544': 4544, 'user_4970': 4970, 'user_4545': 4545, 'user_4973': 4973, 'user_4546': 4546, 'user_4972': 4972, 'user_4547': 4547, 'user_4550': 4550, 'user_4551': 4551, 'user_4989': 4989, 'user_4552': 4552, 'user_4988': 4988, 'user_4553': 4553, 'user_4554': 4554, 'user_4555': 4555, 'user_4562': 4562, 'user_4563': 4563, 'user_4566': 4566, 'user_4567': 4567, 'user_4578': 4578, 'user_4579': 4579, 'user_4582': 4582, 'user_4583': 4583, 'user_4584': 4584, 'user_4585': 4585, 'user_4586': 4586, 'user_4587': 4587, 'user_4590': 4590, 'user_4591': 4591, 'user_4592': 4592, 'user_4593': 4593, 'user_4594': 4594, 'user_4595': 4595, 'user_4596': 4596, 'user_4597': 4597, 'user_4598': 4598, 'user_4599': 4599, 'user_4600': 4600, 'user_4601': 4601, 'user_5999': 5999, 'user_4602': 4602, 'user_5998': 5998, 'user_4603': 4603, 'user_4604': 4604, 'user_4605': 4605, 'user_4606': 4606, 'user_4607': 4607, 'user_5993': 5993, 'user_4608': 4608, 'user_5992': 5992, 'user_4609': 4609, 'user_5411': 5411, 'user_4610': 4610, 'user_5410': 5410, 'user_4611': 4611, 'user_5413': 5413, 'user_4612': 4612, 'user_5412': 5412, 'user_4613': 4613, 'user_5415': 5415, 'user_4614': 4614, 'user_5414': 5414, 'user_4615': 4615, 'user_5417': 5417, 'user_4616': 4616, 'user_5416': 5416, 'user_4617': 4617, 'user_5419': 5419, 'user_4618': 4618, 'user_5418': 5418, 'user_4619': 4619, 'user_4620': 4620, 'user_4621': 4621, 'user_4622': 4622, 'user_4623': 4623, 'user_4624': 4624, 'user_4625': 4625, 'user_4626': 4626, 'user_4627': 4627, 'user_4628': 4628, 'user_4629': 4629, 'user_5985': 5985, 'user_4630': 4630, 'user_5984': 5984, 'user_4631': 4631, 'user_5987': 5987, 'user_4632': 4632, 'user_5986': 5986, 'user_4633': 4633, 'user_5981': 5981, 'user_4634': 4634, 'user_5980': 5980, 'user_4635': 4635, 'user_5983': 5983, 'user_4636': 4636, 'user_5982': 5982, 'user_4637': 4637, 'user_4638': 4638, 'user_4639': 4639, 'user_5427': 5427, 'user_4640': 4640, 'user_5426': 5426, 'user_4641': 4641, 'user_5425': 5425, 'user_4642': 4642, 'user_5424': 5424, 'user_4643': 4643, 'user_5423': 5423, 'user_4644': 4644, 'user_5422': 5422, 'user_4645': 4645, 'user_5869': 5869, 'user_5421': 5421, 'user_4646': 4646, 'user_5868': 5868, 'user_5420': 5420, 'user_4647': 4647, 'user_5867': 5867, 'user_4648': 4648, 'user_5866': 5866, 'user_4649': 4649, 'user_5819': 5819, 'user_5451': 5451, 'user_4650': 4650, 'user_5818': 5818, 'user_5450': 5450, 'user_4651': 4651, 'user_5453': 5453, 'user_4652': 4652, 'user_5452': 5452, 'user_4653': 4653, 'user_5455': 5455, 'user_4654': 4654, 'user_5454': 5454, 'user_4655': 4655, 'user_5457': 5457, 'user_4656': 4656, 'user_5456': 5456, 'user_4657': 4657, 'user_5811': 5811, 'user_5459': 5459, 'user_4658': 4658, 'user_5810': 5810, 'user_5458': 5458, 'user_4659': 4659, 'user_5403': 5403, 'user_4660': 4660, 'user_5402': 5402, 'user_4661': 4661, 'user_5401': 5401, 'user_4662': 4662, 'user_5400': 5400, 'user_4663': 4663, 'user_5405': 5405, 'user_4666': 4666, 'user_5404': 5404, 'user_4667': 4667, 'user_5879': 5879, 'user_5431': 5431, 'user_4670': 4670, 'user_5878': 5878, 'user_5430': 5430, 'user_4671': 4671, 'user_5433': 5433, 'user_4672': 4672, 'user_5432': 5432, 'user_4673': 4673, 'user_5435': 5435, 'user_4674': 4674, 'user_5434': 5434, 'user_4675': 4675, 'user_5437': 5437, 'user_4676': 4676, 'user_5436': 5436, 'user_4677': 4677, 'user_5871': 5871, 'user_5439': 5439, 'user_4678': 4678, 'user_5870': 5870, 'user_5438': 5438, 'user_4679': 4679, 'user_4688': 4688, 'user_4689': 4689, 'user_4690': 4690, 'user_4691': 4691, 'user_5789': 5789, 'user_4694': 4694, 'user_5788': 5788, 'user_4695': 4695, 'user_4696': 4696, 'user_4697': 4697, 'user_5761': 5761, 'user_4700': 4700, 'user_5760': 5760, 'user_4701': 4701, 'user_5763': 5763, 'user_4702': 4702, 'user_5762': 5762, 'user_4703': 4703, 'user_5765': 5765, 'user_4704': 4704, 'user_5764': 5764, 'user_4705': 4705, 'user_5767': 5767, 'user_4706': 4706, 'user_5766': 5766, 'user_4707': 4707, 'user_5769': 5769, 'user_4708': 4708, 'user_5768': 5768, 'user_4709': 4709, 'user_5885': 5885, 'user_5751': 5751, 'user_4712': 4712, 'user_5884': 5884, 'user_5750': 5750, 'user_4713': 4713, 'user_5883': 5883, 'user_5757': 5757, 'user_4714': 4714, 'user_5882': 5882, 'user_5756': 5756, 'user_4715': 4715, 'user_5881': 5881, 'user_5755': 5755, 'user_4716': 4716, 'user_5880': 5880, 'user_5754': 5754, 'user_4717': 4717, 'user_5709': 5709, 'user_4728': 4728, 'user_5708': 5708, 'user_4729': 4729, 'user_5777': 5777, 'user_4730': 4730, 'user_5776': 5776, 'user_4731': 4731, 'user_5775': 5775, 'user_4732': 4732, 'user_5774': 5774, 'user_4733': 4733, 'user_5773': 5773, 'user_4734': 4734, 'user_5772': 5772, 'user_4735': 4735, 'user_5771': 5771, 'user_4736': 4736, 'user_5770': 5770, 'user_4737': 4737, 'user_4738': 4738, 'user_4739': 4739, 'user_4740': 4740, 'user_4741': 4741, 'user_4742': 4742, 'user_4743': 4743, 'user_4744': 4744, 'user_4745': 4745, 'user_4746': 4746, 'user_4747': 4747, 'user_4748': 4748, 'user_4749': 4749, 'user_5793': 5793, 'user_4750': 4750, 'user_5792': 5792, 'user_4751': 4751, 'user_5791': 5791, 'user_4752': 4752, 'user_5790': 5790, 'user_4753': 4753, 'user_5797': 5797, 'user_4754': 4754, 'user_5796': 5796, 'user_4755': 4755, 'user_5795': 5795, 'user_4756': 4756, 'user_5794': 5794, 'user_4757': 4757, 'user_4758': 4758, 'user_4759': 4759, 'user_5741': 5741, 'user_4760': 4760, 'user_5740': 5740, 'user_4761': 4761, 'user_5743': 5743, 'user_4762': 4762, 'user_5742': 5742, 'user_4763': 4763, 'user_5899': 5899, 'user_5745': 5745, 'user_4764': 4764, 'user_5898': 5898, 'user_5744': 5744, 'user_4765': 4765, 'user_4772': 4772, 'user_4773': 4773, 'user_4774': 4774, 'user_4775': 4775, 'user_4776': 4776, 'user_4777': 4777, 'user_4788': 4788, 'user_4789': 4789, 'user_4790': 4790, 'user_4791': 4791, 'user_4792': 4792, 'user_4793': 4793, 'user_4796': 4796, 'user_4797': 4797, 'user_4810': 4810, 'user_4811': 4811, 'user_4812': 4812, 'user_4813': 4813, 'user_4814': 4814, 'user_4815': 4815, 'user_4816': 4816, 'user_4817': 4817, 'user_4818': 4818, 'user_4819': 4819, 'user_4820': 4820, 'user_4821': 4821, 'user_4822': 4822, 'user_4823': 4823, 'user_4824': 4824, 'user_4825': 4825, 'user_4826': 4826, 'user_4827': 4827, 'user_4828': 4828, 'user_4829': 4829, 'user_4830': 4830, 'user_4831': 4831, 'user_4832': 4832, 'user_4833': 4833, 'user_4834': 4834, 'user_4835': 4835, 'user_4836': 4836, 'user_4837': 4837, 'user_4838': 4838, 'user_4839': 4839, 'user_4858': 4858, 'user_4859': 4859, 'user_5671': 5671, 'user_4878': 4878, 'user_5670': 5670, 'user_4879': 4879, 'user_5717': 5717, 'user_4880': 4880, 'user_5716': 5716, 'user_4881': 4881, 'user_5715': 5715, 'user_4882': 4882, 'user_5714': 5714, 'user_4883': 4883, 'user_5711': 5711, 'user_4886': 4886, 'user_5710': 5710, 'user_4887': 4887, 'user_4898': 4898, 'user_4899': 4899, 'user_4900': 4900, 'user_4901': 4901, 'user_4902': 4902, 'user_4903': 4903, 'user_4904': 4904, 'user_4905': 4905, 'user_4906': 4906, 'user_4907': 4907, 'user_4908': 4908, 'user_4909': 4909, 'user_4928': 4928, 'user_4929': 4929, 'user_4930': 4930, 'user_4931': 4931, 'user_4932': 4932, 'user_4933': 4933, 'user_4934': 4934, 'user_4935': 4935, 'user_4936': 4936, 'user_4937': 4937, 'user_4938': 4938, 'user_4939': 4939, 'user_4940': 4940, 'user_4941': 4941, 'user_4942': 4942, 'user_4943': 4943, 'user_4944': 4944, 'user_4945': 4945, 'user_4946': 4946, 'user_4947': 4947, 'user_4948': 4948, 'user_4949': 4949, 'user_4950': 4950, 'user_4951': 4951, 'user_4952': 4952, 'user_4953': 4953, 'user_4954': 4954, 'user_4955': 4955, 'user_4956': 4956, 'user_4957': 4957, 'user_4958': 4958, 'user_4959': 4959, 'user_4968': 4968, 'user_4969': 4969, 'user_5000': 5000, 'user_5001': 5001, 'user_5002': 5002, 'user_5003': 5003, 'user_5004': 5004, 'user_5005': 5005, 'user_5006': 5006, 'user_5007': 5007, 'user_5008': 5008, 'user_5009': 5009, 'user_5010': 5010, 'user_5011': 5011, 'user_5012': 5012, 'user_5013': 5013, 'user_5014': 5014, 'user_5015': 5015, 'user_5016': 5016, 'user_5017': 5017, 'user_5018': 5018, 'user_5019': 5019, 'user_5020': 5020, 'user_5021': 5021, 'user_5026': 5026, 'user_5027': 5027, 'user_5030': 5030, 'user_5031': 5031, 'user_5032': 5032, 'user_5033': 5033, 'user_5036': 5036, 'user_5037': 5037, 'user_5040': 5040, 'user_5041': 5041, 'user_5044': 5044, 'user_5045': 5045, 'user_5050': 5050, 'user_5051': 5051, 'user_5052': 5052, 'user_5053': 5053, 'user_5054': 5054, 'user_5055': 5055, 'user_5056': 5056, 'user_5057': 5057, 'user_5058': 5058, 'user_5059': 5059, 'user_5060': 5060, 'user_5061': 5061, 'user_5062': 5062, 'user_5063': 5063, 'user_5064': 5064, 'user_5065': 5065, 'user_5066': 5066, 'user_5067': 5067, 'user_5068': 5068, 'user_5069': 5069, 'user_5070': 5070, 'user_5071': 5071, 'user_5072': 5072, 'user_5073': 5073, 'user_5074': 5074, 'user_5075': 5075, 'user_5076': 5076, 'user_5077': 5077, 'user_5078': 5078, 'user_5079': 5079, 'user_5080': 5080, 'user_5081': 5081, 'user_5082': 5082, 'user_5083': 5083, 'user_5398': 5398, 'user_5084': 5084, 'user_5399': 5399, 'user_5085': 5085, 'user_5086': 5086, 'user_5087': 5087, 'user_5394': 5394, 'user_5088': 5088, 'user_5395': 5395, 'user_5089': 5089, 'user_5092': 5092, 'user_5093': 5093, 'user_5096': 5096, 'user_5097': 5097, 'user_5108': 5108, 'user_5109': 5109, 'user_5110': 5110, 'user_5111': 5111, 'user_5114': 5114, 'user_5115': 5115, 'user_5116': 5116, 'user_5117': 5117, 'user_5120': 5120, 'user_5121': 5121, 'user_5122': 5122, 'user_5123': 5123, 'user_5124': 5124, 'user_5125': 5125, 'user_5126': 5126, 'user_5127': 5127, 'user_5128': 5128, 'user_5129': 5129, 'user_5130': 5130, 'user_5131': 5131, 'user_5132': 5132, 'user_5133': 5133, 'user_5180': 5180, 'user_5181': 5181, 'user_5182': 5182, 'user_5183': 5183, 'user_5184': 5184, 'user_5185': 5185, 'user_5186': 5186, 'user_5187': 5187, 'user_5188': 5188, 'user_5189': 5189, 'user_5190': 5190, 'user_5191': 5191, 'user_5192': 5192, 'user_5193': 5193, 'user_5194': 5194, 'user_5195': 5195, 'user_5196': 5196, 'user_5197': 5197, 'user_5198': 5198, 'user_5199': 5199, 'user_5200': 5200, 'user_5201': 5201, 'user_5202': 5202, 'user_5203': 5203, 'user_5204': 5204, 'user_5205': 5205, 'user_5206': 5206, 'user_5207': 5207, 'user_5208': 5208, 'user_5209': 5209, 'user_5210': 5210, 'user_5211': 5211, 'user_5212': 5212, 'user_5213': 5213, 'user_5214': 5214, 'user_5215': 5215, 'user_5216': 5216, 'user_5217': 5217, 'user_5218': 5218, 'user_5219': 5219, 'user_5220': 5220, 'user_5221': 5221, 'user_5529': 5529, 'user_5222': 5222, 'user_5528': 5528, 'user_5223': 5223, 'user_5224': 5224, 'user_5225': 5225, 'user_5226': 5226, 'user_5227': 5227, 'user_5523': 5523, 'user_5228': 5228, 'user_5522': 5522, 'user_5229': 5229, 'user_5559': 5559, 'user_5230': 5230, 'user_5558': 5558, 'user_5231': 5231, 'user_5232': 5232, 'user_5233': 5233, 'user_5234': 5234, 'user_5235': 5235, 'user_5236': 5236, 'user_5237': 5237, 'user_5551': 5551, 'user_5238': 5238, 'user_5550': 5550, 'user_5239': 5239, 'user_5248': 5248, 'user_5249': 5249, 'user_5258': 5258, 'user_5259': 5259, 'user_5260': 5260, 'user_5261': 5261, 'user_5262': 5262, 'user_5263': 5263, 'user_5264': 5264, 'user_5265': 5265, 'user_5266': 5266, 'user_5267': 5267, 'user_5268': 5268, 'user_5269': 5269, 'user_5270': 5270, 'user_5271': 5271, 'user_5272': 5272, 'user_5273': 5273, 'user_5274': 5274, 'user_5275': 5275, 'user_5276': 5276, 'user_5277': 5277, 'user_5278': 5278, 'user_5279': 5279, 'user_5587': 5587, 'user_5288': 5288, 'user_5586': 5586, 'user_5289': 5289, 'user_5290': 5290, 'user_5291': 5291, 'user_5292': 5292, 'user_5293': 5293, 'user_5294': 5294, 'user_5295': 5295, 'user_5296': 5296, 'user_5297': 5297, 'user_5298': 5298, 'user_5299': 5299, 'user_5300': 5300, 'user_5301': 5301, 'user_5302': 5302, 'user_5303': 5303, 'user_5304': 5304, 'user_5305': 5305, 'user_5306': 5306, 'user_5307': 5307, 'user_5308': 5308, 'user_5309': 5309, 'user_5310': 5310, 'user_5311': 5311, 'user_5314': 5314, 'user_5315': 5315, 'user_5316': 5316, 'user_5317': 5317, 'user_5320': 5320, 'user_5321': 5321, 'user_5322': 5322, 'user_5323': 5323, 'user_5324': 5324, 'user_5325': 5325, 'user_5326': 5326, 'user_5327': 5327, 'user_5328': 5328, 'user_5329': 5329, 'user_5330': 5330, 'user_5331': 5331, 'user_5332': 5332, 'user_5333': 5333, 'user_5334': 5334, 'user_5335': 5335, 'user_5336': 5336, 'user_5337': 5337, 'user_5338': 5338, 'user_5339': 5339, 'user_5340': 5340, 'user_5341': 5341, 'user_5342': 5342, 'user_5343': 5343, 'user_5344': 5344, 'user_5345': 5345, 'user_5346': 5346, 'user_5347': 5347, 'user_5348': 5348, 'user_5349': 5349, 'user_5350': 5350, 'user_5351': 5351, 'user_5354': 5354, 'user_5355': 5355, 'user_5356': 5356, 'user_5357': 5357, 'user_5362': 5362, 'user_5363': 5363, 'user_5364': 5364, 'user_5365': 5365, 'user_5366': 5366, 'user_5367': 5367, 'user_5370': 5370, 'user_5371': 5371, 'user_5372': 5372, 'user_5373': 5373, 'user_5374': 5374, 'user_5375': 5375, 'user_5376': 5376, 'user_5377': 5377, 'user_5378': 5378, 'user_5379': 5379, 'user_5380': 5380, 'user_5381': 5381, 'user_5382': 5382, 'user_5383': 5383, 'user_5384': 5384, 'user_5385': 5385, 'user_5386': 5386, 'user_5387': 5387, 'user_5388': 5388, 'user_5389': 5389, 'user_5390': 5390, 'user_5391': 5391, 'user_5392': 5392, 'user_5393': 5393, 'user_5396': 5396, 'user_5397': 5397, 'user_5860': 5860, 'user_5428': 5428, 'user_5861': 5861, 'user_5429': 5429, 'user_5440': 5440, 'user_5441': 5441, 'user_5442': 5442, 'user_5443': 5443, 'user_5444': 5444, 'user_5445': 5445, 'user_5446': 5446, 'user_5447': 5447, 'user_5448': 5448, 'user_5449': 5449, 'user_5460': 5460, 'user_5461': 5461, 'user_5464': 5464, 'user_5465': 5465, 'user_5466': 5466, 'user_5467': 5467, 'user_5470': 5470, 'user_5471': 5471, 'user_5472': 5472, 'user_5473': 5473, 'user_5476': 5476, 'user_5477': 5477, 'user_5974': 5974, 'user_5480': 5480, 'user_5975': 5975, 'user_5481': 5481, 'user_5976': 5976, 'user_5482': 5482, 'user_5977': 5977, 'user_5483': 5483, 'user_5970': 5970, 'user_5484': 5484, 'user_5971': 5971, 'user_5485': 5485, 'user_5972': 5972, 'user_5486': 5486, 'user_5973': 5973, 'user_5487': 5487, 'user_5488': 5488, 'user_5489': 5489, 'user_5490': 5490, 'user_5491': 5491, 'user_5492': 5492, 'user_5493': 5493, 'user_5494': 5494, 'user_5495': 5495, 'user_5496': 5496, 'user_5497': 5497, 'user_5498': 5498, 'user_5499': 5499, 'user_5500': 5500, 'user_5501': 5501, 'user_5502': 5502, 'user_5503': 5503, 'user_5504': 5504, 'user_5505': 5505, 'user_5506': 5506, 'user_5507': 5507, 'user_5508': 5508, 'user_5509': 5509, 'user_5510': 5510, 'user_5511': 5511, 'user_5512': 5512, 'user_5513': 5513, 'user_5514': 5514, 'user_5515': 5515, 'user_5516': 5516, 'user_5517': 5517, 'user_5518': 5518, 'user_5519': 5519, 'user_5520': 5520, 'user_5521': 5521, 'user_5524': 5524, 'user_5525': 5525, 'user_5526': 5526, 'user_5527': 5527, 'user_5530': 5530, 'user_5531': 5531, 'user_5532': 5532, 'user_5533': 5533, 'user_5534': 5534, 'user_5535': 5535, 'user_5536': 5536, 'user_5537': 5537, 'user_5538': 5538, 'user_5539': 5539, 'user_5540': 5540, 'user_5541': 5541, 'user_5542': 5542, 'user_5543': 5543, 'user_5544': 5544, 'user_5545': 5545, 'user_5546': 5546, 'user_5547': 5547, 'user_5548': 5548, 'user_5549': 5549, 'user_5552': 5552, 'user_5553': 5553, 'user_5554': 5554, 'user_5555': 5555, 'user_5556': 5556, 'user_5557': 5557, 'user_5560': 5560, 'user_5561': 5561, 'user_5562': 5562, 'user_5563': 5563, 'user_5564': 5564, 'user_5565': 5565, 'user_5566': 5566, 'user_5567': 5567, 'user_5568': 5568, 'user_5569': 5569, 'user_5570': 5570, 'user_5571': 5571, 'user_5572': 5572, 'user_5573': 5573, 'user_5574': 5574, 'user_5575': 5575, 'user_5576': 5576, 'user_5577': 5577, 'user_5578': 5578, 'user_5579': 5579, 'user_5580': 5580, 'user_5581': 5581, 'user_5582': 5582, 'user_5583': 5583, 'user_5590': 5590, 'user_5591': 5591, 'user_5594': 5594, 'user_5595': 5595, 'user_5596': 5596, 'user_5597': 5597, 'user_5608': 5608, 'user_5609': 5609, 'user_5628': 5628, 'user_5629': 5629, 'user_5630': 5630, 'user_5631': 5631, 'user_5632': 5632, 'user_5633': 5633, 'user_5634': 5634, 'user_5635': 5635, 'user_5636': 5636, 'user_5637': 5637, 'user_5638': 5638, 'user_5639': 5639, 'user_5640': 5640, 'user_5641': 5641, 'user_5642': 5642, 'user_5643': 5643, 'user_5644': 5644, 'user_5645': 5645, 'user_5650': 5650, 'user_5651': 5651, 'user_5654': 5654, 'user_5655': 5655, 'user_5656': 5656, 'user_5657': 5657, 'user_5660': 5660, 'user_5661': 5661, 'user_5664': 5664, 'user_5665': 5665, 'user_5666': 5666, 'user_5667': 5667, 'user_5672': 5672, 'user_5673': 5673, 'user_5674': 5674, 'user_5675': 5675, 'user_5688': 5688, 'user_5689': 5689, 'user_5720': 5720, 'user_5721': 5721, 'user_5722': 5722, 'user_5723': 5723, 'user_5724': 5724, 'user_5725': 5725, 'user_5726': 5726, 'user_5727': 5727, 'user_5728': 5728, 'user_5729': 5729, 'user_5730': 5730, 'user_5731': 5731, 'user_5732': 5732, 'user_5733': 5733, 'user_5734': 5734, 'user_5735': 5735, 'user_5736': 5736, 'user_5737': 5737, 'user_5738': 5738, 'user_5739': 5739, 'user_5778': 5778, 'user_5779': 5779, 'user_5798': 5798, 'user_5799': 5799, 'user_5800': 5800, 'user_5801': 5801, 'user_5802': 5802, 'user_5803': 5803, 'user_5804': 5804, 'user_5805': 5805, 'user_5806': 5806, 'user_5807': 5807, 'user_5808': 5808, 'user_5809': 5809, 'user_5812': 5812, 'user_5813': 5813, 'user_5814': 5814, 'user_5815': 5815, 'user_5816': 5816, 'user_5817': 5817, 'user_5828': 5828, 'user_5829': 5829, 'user_5838': 5838, 'user_5839': 5839, 'user_5840': 5840, 'user_5841': 5841, 'user_5842': 5842, 'user_5843': 5843, 'user_5844': 5844, 'user_5845': 5845, 'user_5846': 5846, 'user_5847': 5847, 'user_5848': 5848, 'user_5849': 5849, 'user_5850': 5850, 'user_5851': 5851, 'user_5852': 5852, 'user_5853': 5853, 'user_5856': 5856, 'user_5857': 5857, 'user_5862': 5862, 'user_5863': 5863, 'user_5864': 5864, 'user_5865': 5865, 'user_5872': 5872, 'user_5873': 5873, 'user_5874': 5874, 'user_5875': 5875, 'user_5876': 5876, 'user_5877': 5877, 'user_5900': 5900, 'user_5901': 5901, 'user_5902': 5902, 'user_5903': 5903, 'user_5904': 5904, 'user_5905': 5905, 'user_5906': 5906, 'user_5907': 5907, 'user_5908': 5908, 'user_5909': 5909, 'user_5910': 5910, 'user_5911': 5911, 'user_5912': 5912, 'user_5913': 5913, 'user_5914': 5914, 'user_5915': 5915, 'user_5916': 5916, 'user_5917': 5917, 'user_5918': 5918, 'user_5919': 5919, 'user_5920': 5920, 'user_5921': 5921, 'user_5922': 5922, 'user_5923': 5923, 'user_5926': 5926, 'user_5927': 5927, 'user_5930': 5930, 'user_5931': 5931, 'user_5932': 5932, 'user_5933': 5933, 'user_5934': 5934, 'user_5935': 5935, 'user_5936': 5936, 'user_5937': 5937, 'user_5938': 5938, 'user_5939': 5939, 'user_5940': 5940, 'user_5941': 5941, 'user_5942': 5942, 'user_5943': 5943, 'user_5944': 5944, 'user_5945': 5945, 'user_5946': 5946, 'user_5947': 5947, 'user_5948': 5948, 'user_5949': 5949, 'user_5950': 5950, 'user_5951': 5951, 'user_5952': 5952, 'user_5953': 5953, 'user_5954': 5954, 'user_5955': 5955, 'user_5956': 5956, 'user_5957': 5957, 'user_5958': 5958, 'user_5959': 5959, 'user_5960': 5960, 'user_5961': 5961, 'user_5962': 5962, 'user_5963': 5963, 'user_5964': 5964, 'user_5965': 5965, 'user_5966': 5966, 'user_5967': 5967, 'user_5968': 5968, 'user_5969': 5969, 'user_5978': 5978, 'user_5979': 5979, 'user_5988': 5988, 'user_5989': 5989, 'user_5990': 5990, 'user_5991': 5991, 'user_5994': 5994, 'user_5995': 5995, 'user_5996': 5996, 'user_5997': 5997, 'user_6000': 6000, 'user_6001': 6001, 'user_6002': 6002, 'user_6003': 6003, 'user_6004': 6004, 'user_6005': 6005, 'user_6006': 6006, 'user_6007': 6007, 'user_6008': 6008, 'user_6009': 6009, 'user_6018': 6018, 'user_6019': 6019, 'user_6020': 6020, 'user_6021': 6021, 'user_6022': 6022, 'user_6023': 6023, 'user_6024': 6024, 'user_6025': 6025, 'user_6026': 6026, 'user_6027': 6027, 'user_6028': 6028, 'user_6029': 6029, 'user_6030': 6030, 'user_6031': 6031, 'user_6032': 6032, 'user_6033': 6033, 'user_6034': 6034, 'user_6035': 6035, 'user_6036': 6036, 'user_6037': 6037, 'user_6038': 6038, 'user_6039': 6039}\n"
     ]
    }
   ],
   "source": [
    "# Creating Vocabulary\n",
    "# Genarting a list of unique movie ids\n",
    "movie_ids = movies.movie_id.unique()\n",
    "\n",
    "# Counter is used to feed movies to movive_vocab\n",
    "movie_counter = Counter(movie_ids)\n",
    "\n",
    "# Genarting vocabulary\n",
    "movie_vocab = vocab(movie_counter, specials=['<unk>'])\n",
    "\n",
    "# For indexing input ids\n",
    "movie_vocab_stoi = movie_vocab.get_stoi()\n",
    "\n",
    "# Movie to title mapping dictionary\n",
    "movie_title_dict = dict(zip(movies.movie_id, movies.title))\n",
    "\n",
    "# Similarly generating a vocabulary for user ids\n",
    "user_ids = ratings.user_id.unique()\n",
    "user_counter = Counter(user_ids)\n",
    "user_vocab = vocab(user_counter, specials=['<unk>'])\n",
    "user_vocab_stoi = user_vocab.get_stoi()\n",
    "print(user_vocab_stoi)"
   ]
  },
  {
   "cell_type": "code",
   "execution_count": 5,
   "metadata": {},
   "outputs": [],
   "source": [
    "# Group ratings by user_id in order of increasing unix_timestamp.\n",
    "ratings_group = ratings.sort_values(by=[\"unix_timestamp\"]).groupby(\"user_id\")\n",
    "\n",
    "ratings_data = pd.DataFrame(\n",
    "    data={\n",
    "        \"user_id\": list(ratings_group.groups.keys()),\n",
    "        \"movie_ids\": list(ratings_group.movie_id.apply(list)),\n",
    "        \"timestamps\": list(ratings_group.unix_timestamp.apply(list)),\n",
    "    }\n",
    ")\n",
    "\n",
    "# Sequence length, min history count and window slide size\n",
    "sequence_length = 4\n",
    "min_history = 1\n",
    "step_size = 2\n",
    "\n",
    "# Creating sequences from lists with sliding window\n",
    "def create_sequences(values, window_size, step_size, min_history):\n",
    "  sequences = []\n",
    "  start_index = 0\n",
    "  while len(values[start_index:]) > min_history:\n",
    "    seq = values[start_index : start_index + window_size]\n",
    "    sequences.append(seq)\n",
    "    start_index += step_size\n",
    "  return sequences\n",
    "\n",
    "ratings_data.movie_ids = ratings_data.movie_ids.apply(\n",
    "    lambda ids: create_sequences(ids, sequence_length, step_size, min_history)\n",
    ")\n",
    "\n",
    "del ratings_data[\"timestamps\"]\n",
    "\n",
    "# Sub-sequences are exploded.\n",
    "# Since there might be more than one sequence for each user.\n",
    "ratings_data_transformed = ratings_data[[\"user_id\", \"movie_ids\"]].explode(\n",
    "    \"movie_ids\", ignore_index=True\n",
    ")\n",
    "\n",
    "ratings_data_transformed.rename(\n",
    "    columns={\"movie_ids\": \"sequence_movie_ids\"},\n",
    "    inplace=True,\n",
    ")"
   ]
  },
  {
   "cell_type": "code",
   "execution_count": 6,
   "metadata": {},
   "outputs": [
    {
     "name": "stdout",
     "output_type": "stream",
     "text": [
      "         user_id                                sequence_movie_ids\n",
      "0         user_1  [movie_3186, movie_1721, movie_1270, movie_1022]\n",
      "1         user_1  [movie_1270, movie_1022, movie_2340, movie_1836]\n",
      "2         user_1  [movie_2340, movie_1836, movie_3408, movie_1207]\n",
      "3         user_1   [movie_3408, movie_1207, movie_2804, movie_260]\n",
      "4         user_1    [movie_2804, movie_260, movie_720, movie_1193]\n",
      "...          ...                                               ...\n",
      "498618  user_999   [movie_2676, movie_2540, movie_1363, movie_765]\n",
      "498619  user_999   [movie_1363, movie_765, movie_3565, movie_1410]\n",
      "498620  user_999  [movie_3565, movie_1410, movie_2269, movie_2504]\n",
      "498621  user_999    [movie_2269, movie_2504, movie_455, movie_193]\n",
      "498622  user_999                            [movie_455, movie_193]\n",
      "\n",
      "[498623 rows x 2 columns]\n"
     ]
    }
   ],
   "source": [
    "print(ratings_data_transformed)"
   ]
  },
  {
   "cell_type": "code",
   "execution_count": 31,
   "metadata": {},
   "outputs": [],
   "source": [
    "# Random indexing\n",
    "np.random.seed(24)\n",
    "random_range = np.random.rand(len(ratings_data_transformed.index))\n",
    "random_selection_1 = random_range <= 0.7\n",
    "random_selection_2 = (0.7<random_range) & (random_range<0.85)\n",
    "random_selection_3 = 0.85 < random_range\n",
    "\n",
    "# Split train data\n",
    "df_train_data = ratings_data_transformed[random_selection_1]\n",
    "train_data_raw = df_train_data[[\"user_id\", \"sequence_movie_ids\"]].values\n",
    "\n",
    "# Split validation data\n",
    "df_val_data = ratings_data_transformed[random_selection_2]\n",
    "val_data_raw = df_val_data[[\"user_id\", \"sequence_movie_ids\"]].values\n",
    "\n",
    "# Split validation data\n",
    "df_test_data = ratings_data_transformed[random_selection_3]\n",
    "test_data_raw = df_test_data[[\"user_id\", \"sequence_movie_ids\"]].values"
   ]
  },
  {
   "cell_type": "code",
   "execution_count": null,
   "metadata": {},
   "outputs": [],
   "source": [
    "# Pytorch Dataset for user interactions\n",
    "class MovieSeqDataset(Dataset):\n",
    "    # Initialize dataset\n",
    "    def __init__(self, data, movie_vocab_stoi, user_vocab_stoi):\n",
    "        self.data = data\n",
    "        self.movie_vocab_stoi = movie_vocab_stoi\n",
    "        self.user_vocab_stoi = user_vocab_stoi\n",
    "\n",
    "\n",
    "    def __len__(self):\n",
    "        return len(self.data)\n",
    "\n",
    "    # Fetch data from the dataset\n",
    "    def __getitem__(self, idx):\n",
    "        user, movie_sequence = self.data[idx]\n",
    "        # Directly index into the vocabularies\n",
    "        movie_data = [self.movie_vocab_stoi[item] for item in movie_sequence]\n",
    "        user_data = self.user_vocab_stoi[user]\n",
    "        return torch.tensor(movie_data), torch.tensor(user_data)\n",
    "\n",
    "\n",
    "# Collate function and padding\n",
    "def collate_batch(batch):\n",
    "    movie_list = [item[0] for item in batch]\n",
    "    user_list = [item[1] for item in batch]\n",
    "    return pad_sequence(movie_list, padding_value=movie_vocab_stoi['<unk>'], batch_first=True), torch.stack(user_list)\n",
    "\n",
    "\n",
    "BATCH_SIZE = 256\n",
    "# Create instances of your Dataset for each set\n",
    "train_dataset = MovieSeqDataset(train_data_raw, movie_vocab_stoi, user_vocab_stoi)\n",
    "val_dataset = MovieSeqDataset(val_data_raw, movie_vocab_stoi, user_vocab_stoi)\n",
    "test_dataset = MovieSeqDataset(test_data_raw, movie_vocab_stoi, user_vocab_stoi)\n",
    "# Create DataLoaders\n",
    "train_iter = DataLoader(train_dataset, batch_size=BATCH_SIZE,\n",
    "                        shuffle=True, collate_fn=collate_batch)\n",
    "val_iter = DataLoader(val_dataset, batch_size=BATCH_SIZE,\n",
    "                      shuffle=False, collate_fn=collate_batch)\n",
    "test_iter = DataLoader(test_dataset, batch_size=BATCH_SIZE,\n",
    "                      shuffle=False, collate_fn=collate_batch)"
   ]
  },
  {
   "cell_type": "code",
   "execution_count": 10,
   "metadata": {},
   "outputs": [
    {
     "name": "stdout",
     "output_type": "stream",
     "text": [
      "<__main__.MovieSeqDataset object at 0x000001CFEBC923B0>\n"
     ]
    }
   ],
   "source": [
    "print(train_dataset)"
   ]
  },
  {
   "cell_type": "code",
   "execution_count": null,
   "metadata": {},
   "outputs": [
    {
     "name": "stdout",
     "output_type": "stream",
     "text": [
      "['user_1' list(['movie_3186', 'movie_1721', 'movie_1270', 'movie_1022'])]\n",
      "['movie_3186', 'movie_1721', 'movie_1270', 'movie_1022']\n",
      "[3118, 1673, 1251, 1010] 1\n"
     ]
    }
   ],
   "source": [
    "user, movie_sequence = train_data_raw[0]\n",
    "# Directly index into the vocabularies\n",
    "print(train_data_raw[0])\n",
    "print(movie_sequence)\n",
    "movie_data = [movie_vocab_stoi[item] for item in movie_sequence] # movie number\n",
    "user_data = user_vocab_stoi[user] # user number\n",
    "print(movie_data, user_data)"
   ]
  },
  {
   "cell_type": "markdown",
   "metadata": {},
   "source": [
    "## Model definition"
   ]
  },
  {
   "cell_type": "code",
   "execution_count": 12,
   "metadata": {},
   "outputs": [],
   "source": [
    "class PositionalEncoding(nn.Module):\n",
    "\n",
    "    def __init__(self, d_model: int, dropout: float = 0.1, max_len: int = 5000):\n",
    "        super().__init__()\n",
    "        self.dropout = nn.Dropout(p=dropout)\n",
    "\n",
    "        position = torch.arange(max_len).unsqueeze(1)\n",
    "\n",
    "        # `div_term` is used in the calculation of the sinusoidal values.\n",
    "        div_term = torch.exp(torch.arange(0, d_model, 2) * (-math.log(10000.0) / d_model))\n",
    "        \n",
    "        # Initializing positional encoding matrix with zeros.\n",
    "        pe = torch.zeros(max_len, 1, d_model)\n",
    "\n",
    "        # Calculating the positional encodings.\n",
    "        pe[:, 0, 0::2] = torch.sin(position * div_term)\n",
    "        pe[:, 0, 1::2] = torch.cos(position * div_term)\n",
    "        self.register_buffer('pe', pe)\n",
    "\n",
    "    def forward(self, x: Tensor) -> Tensor:\n",
    "        \"\"\"\n",
    "        Arguments:\n",
    "            x: Tensor, shape ``[seq_len, batch_size, embedding_dim]``\n",
    "        \"\"\"\n",
    "        x = x + self.pe[:x.size(0)]\n",
    "        return self.dropout(x)"
   ]
  },
  {
   "cell_type": "code",
   "execution_count": 13,
   "metadata": {},
   "outputs": [],
   "source": [
    "class TransformerModel(nn.Module):\n",
    "    def __init__(self, ntoken: int, nuser: int, d_model: int, nhead: int, d_hid: int,\n",
    "                 nlayers: int, dropout: float = 0.5):\n",
    "        super().__init__()\n",
    "        self.model_type = 'Transformer'\n",
    "        # positional encoder\n",
    "        self.pos_encoder = PositionalEncoding(d_model, dropout)\n",
    "\n",
    "        # Multihead attention mechanism.\n",
    "        encoder_layers = TransformerEncoderLayer(d_model, nhead, d_hid, dropout)\n",
    "        self.transformer_encoder = TransformerEncoder(encoder_layers, nlayers)\n",
    "\n",
    "        # Embedding layers\n",
    "        self.movie_embedding = nn.Embedding(ntoken, d_model)\n",
    "        self.user_embedding = nn.Embedding(nuser, d_model)\n",
    "\n",
    "        # Defining the size of the input to the model.\n",
    "        self.d_model = d_model\n",
    "\n",
    "        # Linear layer to map the output tomovie vocabulary.\n",
    "        self.linear = nn.Linear(2*d_model, ntoken)\n",
    "\n",
    "        self.init_weights()\n",
    "\n",
    "    def init_weights(self) -> None:\n",
    "        # Initializing the weights of the embedding and linear layers.\n",
    "        initrange = 0.1\n",
    "        self.movie_embedding.weight.data.uniform_(-initrange, initrange)\n",
    "        self.user_embedding.weight.data.uniform_(-initrange, initrange)\n",
    "        self.linear.bias.data.zero_()\n",
    "        self.linear.weight.data.uniform_(-initrange, initrange)\n",
    "\n",
    "    def forward(self, src: Tensor, user: Tensor, src_mask: Tensor = None) -> Tensor:\n",
    "        # Embedding movie ids and userid\n",
    "        movie_embed = self.movie_embedding(src) * math.sqrt(self.d_model)\n",
    "        user_embed = self.user_embedding(user) * math.sqrt(self.d_model)\n",
    "\n",
    "        # positional encoding\n",
    "        movie_embed = self.pos_encoder(movie_embed)\n",
    "\n",
    "        # generating output with final layers\n",
    "        output = self.transformer_encoder(movie_embed, src_mask)\n",
    "\n",
    "        # Expand user_embed tensor along the sequence length dimension\n",
    "        user_embed = user_embed.expand(-1, output.size(1), -1)\n",
    "\n",
    "        # Concatenate user embeddings with transformer output\n",
    "        output = torch.cat((output, user_embed), dim=-1)\n",
    "\n",
    "        output = self.linear(output)\n",
    "        return output"
   ]
  },
  {
   "cell_type": "code",
   "execution_count": 14,
   "metadata": {},
   "outputs": [
    {
     "name": "stderr",
     "output_type": "stream",
     "text": [
      "c:\\ProgramData\\anaconda3\\lib\\site-packages\\torch\\nn\\modules\\transformer.py:306: UserWarning: enable_nested_tensor is True, but self.use_nested_tensor is False because encoder_layer.self_attn.batch_first was not True(use batch_first for better inference performance)\n",
      "  warnings.warn(f\"enable_nested_tensor is True, but self.use_nested_tensor is False because {why_not_sparsity_fast_path}\")\n",
      "C:\\Users\\bao'bao'mao\\AppData\\Roaming\\Python\\Python310\\site-packages\\transformers\\utils\\generic.py:441: UserWarning: torch.utils._pytree._register_pytree_node is deprecated. Please use torch.utils._pytree.register_pytree_node instead.\n",
      "  _torch_pytree._register_pytree_node(\n"
     ]
    }
   ],
   "source": [
    "ntokens = len(movie_vocab)  # size of vocabulary\n",
    "nusers = len(user_vocab)\n",
    "emsize = 128  # embedding dimension\n",
    "d_hid = 128  # dimension of the feedforward network model\n",
    "nlayers = 2  # number of ``nn.TransformerEncoderLayer``\n",
    "nhead = 2  # number of heads in ``nn.MultiheadAttention``\n",
    "dropout = 0.2  # dropout probability\n",
    "\n",
    "device = torch.device('cuda' if torch.cuda.is_available() else 'cpu')\n",
    "model = TransformerModel(ntokens, nusers, emsize, nhead, d_hid, nlayers, dropout).to(device)\n",
    "\n",
    "criterion = nn.CrossEntropyLoss()\n",
    "lr = 1.0  # learning rate\n",
    "optimizer = torch.optim.SGD(model.parameters(), lr=lr)\n",
    "scheduler = torch.optim.lr_scheduler.StepLR(optimizer, 1.0, gamma=0.95)"
   ]
  },
  {
   "cell_type": "markdown",
   "metadata": {},
   "source": [
    "## Train and Evaluation"
   ]
  },
  {
   "cell_type": "code",
   "execution_count": null,
   "metadata": {},
   "outputs": [],
   "source": [
    "def train(model: nn.Module, train_iter, epoch) -> None:\n",
    "    # Switch to training mode\n",
    "    model.train()\n",
    "    total_loss = 0.\n",
    "    log_interval = 200\n",
    "    start_time = time.time()\n",
    "\n",
    "    for i, (movie_data, user_data) in enumerate(train_iter):\n",
    "        # Load movie sequence and user id\n",
    "        movie_data, user_data = movie_data.to(device), user_data.to(device)\n",
    "        user_data = user_data.reshape(-1, 1)\n",
    "\n",
    "        # Split movie sequence to inputs and targets\n",
    "        inputs, targets = movie_data[:, :-1], movie_data[:, 1:]\n",
    "        targets_flat = targets.reshape(-1)\n",
    "\n",
    "        # Predict movies\n",
    "        output = model(inputs, user_data)\n",
    "        output_flat = output.reshape(-1, ntokens)\n",
    "        \n",
    "        # Backpropogation process\n",
    "        loss = criterion(output_flat, targets_flat)\n",
    "        optimizer.zero_grad()\n",
    "        loss.backward()\n",
    "        torch.nn.utils.clip_grad_norm_(model.parameters(), 0.5)\n",
    "        optimizer.step()\n",
    "        \n",
    "        total_loss += loss.item()\n",
    "        # Results\n",
    "        if i % log_interval == 0 and i > 0:\n",
    "            lr = scheduler.get_last_lr()[0]\n",
    "            ms_per_batch = (time.time() - start_time) * 1000 / log_interval\n",
    "            cur_loss = total_loss / log_interval\n",
    "            ppl = math.exp(cur_loss)\n",
    "            print(f'| epoch {epoch:3d} '\n",
    "                  f'lr {lr:02.2f} | ms/batch {ms_per_batch:5.2f} | '\n",
    "                  f'loss {cur_loss:5.2f} | ppl {ppl:8.2f}')\n",
    "            total_loss = 0\n",
    "            start_time = time.time()\n",
    "\n",
    "    return total_loss / (len(train_iter) - 1)"
   ]
  },
  {
   "cell_type": "code",
   "execution_count": 16,
   "metadata": {},
   "outputs": [],
   "source": [
    "def evaluate(model: nn.Module, eval_data: Tensor) -> float:\n",
    "    # Switch the model to evaluation mode.\n",
    "    # This is necessary for layers like dropout,\n",
    "    model.eval() \n",
    "    total_loss = 0.\n",
    "\n",
    "    with torch.no_grad():\n",
    "        for i, (movie_data, user_data) in enumerate(eval_data):\n",
    "            # Load movie sequence and user id\n",
    "            movie_data, user_data = movie_data.to(device), user_data.to(device)\n",
    "            user_data = user_data.reshape(-1, 1)\n",
    "            # Split movie sequence to inputs and targets\n",
    "            inputs, targets = movie_data[:, :-1], movie_data[:, 1:]\n",
    "            targets_flat = targets.reshape(-1)\n",
    "            # Predict movies\n",
    "            output = model(inputs, user_data)\n",
    "            output_flat = output.reshape(-1, ntokens)\n",
    "            # Calculate loss\n",
    "            loss = criterion(output_flat, targets_flat)\n",
    "            total_loss += loss.item()\n",
    "    return total_loss / (len(eval_data) - 1)"
   ]
  },
  {
   "cell_type": "code",
   "execution_count": null,
   "metadata": {},
   "outputs": [
    {
     "name": "stdout",
     "output_type": "stream",
     "text": [
      "| epoch   1 lr 1.00 | ms/batch 336.28 | loss  7.79 | ppl  2424.37\n",
      "| epoch   1 lr 1.00 | ms/batch 324.77 | loss  7.62 | ppl  2035.09\n",
      "| epoch   1 lr 1.00 | ms/batch 277.46 | loss  7.58 | ppl  1965.57\n",
      "| epoch   1 lr 1.00 | ms/batch 461.14 | loss  7.56 | ppl  1920.73\n",
      "| epoch   1 lr 1.00 | ms/batch 375.02 | loss  7.53 | ppl  1865.82\n",
      "| epoch   1 lr 1.00 | ms/batch 335.00 | loss  7.48 | ppl  1768.08\n",
      "| epoch   1 lr 1.00 | ms/batch 320.46 | loss  7.33 | ppl  1527.12\n",
      "| epoch   1 lr 1.00 | ms/batch 291.65 | loss  7.15 | ppl  1276.87\n",
      "-----------------------------------------------------------------------------------------\n",
      "| end of epoch   1 | time: 595.08s | valid loss  7.02 | valid ppl  1123.98\n",
      "-----------------------------------------------------------------------------------------\n",
      "| epoch   2 lr 0.95 | ms/batch 294.22 | loss  6.92 | ppl  1010.02\n",
      "| epoch   2 lr 0.95 | ms/batch 287.45 | loss  6.78 | ppl   877.52\n",
      "| epoch   2 lr 0.95 | ms/batch 286.34 | loss  6.70 | ppl   815.94\n",
      "| epoch   2 lr 0.95 | ms/batch 337.83 | loss  6.66 | ppl   777.85\n",
      "| epoch   2 lr 0.95 | ms/batch 320.96 | loss  6.60 | ppl   735.95\n",
      "| epoch   2 lr 0.95 | ms/batch 295.96 | loss  6.57 | ppl   710.80\n",
      "| epoch   2 lr 0.95 | ms/batch 298.84 | loss  6.53 | ppl   686.53\n",
      "| epoch   2 lr 0.95 | ms/batch 349.99 | loss  6.49 | ppl   660.10\n",
      "-----------------------------------------------------------------------------------------\n",
      "| end of epoch   2 | time: 561.24s | valid loss  6.52 | valid ppl   677.01\n",
      "-----------------------------------------------------------------------------------------\n",
      "| epoch   3 lr 0.90 | ms/batch 337.77 | loss  6.38 | ppl   591.28\n",
      "| epoch   3 lr 0.90 | ms/batch 297.91 | loss  6.34 | ppl   567.27\n",
      "| epoch   3 lr 0.90 | ms/batch 299.11 | loss  6.33 | ppl   559.86\n",
      "| epoch   3 lr 0.90 | ms/batch 350.89 | loss  6.30 | ppl   544.74\n",
      "| epoch   3 lr 0.90 | ms/batch 736.95 | loss  6.30 | ppl   543.88\n",
      "| epoch   3 lr 0.90 | ms/batch 628.37 | loss  6.30 | ppl   542.20\n",
      "| epoch   3 lr 0.90 | ms/batch 428.56 | loss  6.27 | ppl   526.00\n",
      "| epoch   3 lr 0.90 | ms/batch 358.11 | loss  6.26 | ppl   522.00\n",
      "-----------------------------------------------------------------------------------------\n",
      "| end of epoch   3 | time: 747.74s | valid loss  6.37 | valid ppl   582.51\n",
      "-----------------------------------------------------------------------------------------\n",
      "| epoch   4 lr 0.86 | ms/batch 406.99 | loss  6.17 | ppl   478.84\n",
      "| epoch   4 lr 0.86 | ms/batch 326.15 | loss  6.14 | ppl   462.05\n",
      "| epoch   4 lr 0.86 | ms/batch 297.72 | loss  6.13 | ppl   458.35\n",
      "| epoch   4 lr 0.86 | ms/batch 358.29 | loss  6.13 | ppl   460.89\n",
      "| epoch   4 lr 0.86 | ms/batch 1129.88 | loss  6.12 | ppl   456.65\n",
      "| epoch   4 lr 0.86 | ms/batch 563.82 | loss  6.13 | ppl   459.20\n",
      "| epoch   4 lr 0.86 | ms/batch 495.85 | loss  6.13 | ppl   459.76\n",
      "| epoch   4 lr 0.86 | ms/batch 610.98 | loss  6.12 | ppl   455.46\n",
      "-----------------------------------------------------------------------------------------\n",
      "| end of epoch   4 | time: 965.02s | valid loss  6.30 | valid ppl   543.90\n",
      "-----------------------------------------------------------------------------------------\n",
      "| epoch   5 lr 0.81 | ms/batch 655.31 | loss  6.01 | ppl   407.37\n",
      "| epoch   5 lr 0.81 | ms/batch 510.39 | loss  6.00 | ppl   403.54\n",
      "| epoch   5 lr 0.81 | ms/batch 959.34 | loss  6.02 | ppl   410.26\n",
      "| epoch   5 lr 0.81 | ms/batch 971.17 | loss  6.01 | ppl   405.84\n",
      "| epoch   5 lr 0.81 | ms/batch 858.27 | loss  6.02 | ppl   409.76\n",
      "| epoch   5 lr 0.81 | ms/batch 704.82 | loss  6.01 | ppl   407.98\n",
      "| epoch   5 lr 0.81 | ms/batch 908.65 | loss  6.01 | ppl   408.61\n",
      "| epoch   5 lr 0.81 | ms/batch 1387.27 | loss  6.01 | ppl   408.25\n",
      "-----------------------------------------------------------------------------------------\n",
      "| end of epoch   5 | time: 1661.37s | valid loss  6.26 | valid ppl   524.48\n",
      "-----------------------------------------------------------------------------------------\n",
      "| epoch   6 lr 0.77 | ms/batch 1266.60 | loss  5.92 | ppl   372.95\n",
      "| epoch   6 lr 0.77 | ms/batch 1404.31 | loss  5.88 | ppl   358.48\n",
      "| epoch   6 lr 0.77 | ms/batch 2040.89 | loss  5.91 | ppl   369.35\n",
      "| epoch   6 lr 0.77 | ms/batch 524.12 | loss  5.91 | ppl   369.09\n",
      "| epoch   6 lr 0.77 | ms/batch 487.37 | loss  5.92 | ppl   371.94\n",
      "| epoch   6 lr 0.77 | ms/batch 452.99 | loss  5.93 | ppl   374.60\n",
      "| epoch   6 lr 0.77 | ms/batch 433.71 | loss  5.93 | ppl   374.36\n",
      "| epoch   6 lr 0.77 | ms/batch 557.34 | loss  5.93 | ppl   374.60\n",
      "-----------------------------------------------------------------------------------------\n",
      "| end of epoch   6 | time: 1518.72s | valid loss  6.24 | valid ppl   513.29\n",
      "-----------------------------------------------------------------------------------------\n",
      "| epoch   7 lr 0.74 | ms/batch 529.86 | loss  5.83 | ppl   339.36\n",
      "| epoch   7 lr 0.74 | ms/batch 513.75 | loss  5.82 | ppl   336.31\n",
      "| epoch   7 lr 0.74 | ms/batch 833.05 | loss  5.82 | ppl   336.40\n",
      "| epoch   7 lr 0.74 | ms/batch 981.26 | loss  5.83 | ppl   341.63\n",
      "| epoch   7 lr 0.74 | ms/batch 1537.42 | loss  5.85 | ppl   346.11\n",
      "| epoch   7 lr 0.74 | ms/batch 1150.77 | loss  5.85 | ppl   345.70\n",
      "| epoch   7 lr 0.74 | ms/batch 917.91 | loss  5.85 | ppl   347.03\n",
      "| epoch   7 lr 0.74 | ms/batch 913.44 | loss  5.86 | ppl   351.42\n",
      "-----------------------------------------------------------------------------------------\n",
      "| end of epoch   7 | time: 1653.83s | valid loss  6.23 | valid ppl   508.04\n",
      "-----------------------------------------------------------------------------------------\n",
      "| epoch   8 lr 0.70 | ms/batch 923.39 | loss  5.76 | ppl   316.57\n",
      "| epoch   8 lr 0.70 | ms/batch 960.94 | loss  5.73 | ppl   309.35\n",
      "| epoch   8 lr 0.70 | ms/batch 913.73 | loss  5.76 | ppl   317.98\n",
      "| epoch   8 lr 0.70 | ms/batch 922.70 | loss  5.77 | ppl   320.28\n",
      "| epoch   8 lr 0.70 | ms/batch 897.47 | loss  5.78 | ppl   322.91\n",
      "| epoch   8 lr 0.70 | ms/batch 926.94 | loss  5.79 | ppl   327.40\n",
      "| epoch   8 lr 0.70 | ms/batch 954.08 | loss  5.79 | ppl   327.43\n",
      "| epoch   8 lr 0.70 | ms/batch 901.02 | loss  5.80 | ppl   329.83\n",
      "-----------------------------------------------------------------------------------------\n",
      "| end of epoch   8 | time: 1655.47s | valid loss  6.22 | valid ppl   504.49\n",
      "-----------------------------------------------------------------------------------------\n",
      "| epoch   9 lr 0.66 | ms/batch 909.26 | loss  5.70 | ppl   299.05\n",
      "| epoch   9 lr 0.66 | ms/batch 890.31 | loss  5.68 | ppl   293.02\n",
      "| epoch   9 lr 0.66 | ms/batch 968.93 | loss  5.70 | ppl   297.98\n",
      "| epoch   9 lr 0.66 | ms/batch 885.65 | loss  5.72 | ppl   305.04\n",
      "| epoch   9 lr 0.66 | ms/batch 927.44 | loss  5.72 | ppl   305.87\n",
      "| epoch   9 lr 0.66 | ms/batch 1021.14 | loss  5.73 | ppl   307.74\n",
      "| epoch   9 lr 0.66 | ms/batch 1635.82 | loss  5.73 | ppl   309.03\n",
      "| epoch   9 lr 0.66 | ms/batch 953.98 | loss  5.75 | ppl   313.68\n",
      "-----------------------------------------------------------------------------------------\n",
      "| end of epoch   9 | time: 1813.59s | valid loss  6.22 | valid ppl   503.81\n",
      "-----------------------------------------------------------------------------------------\n",
      "| epoch  10 lr 0.63 | ms/batch 936.14 | loss  5.64 | ppl   282.60\n",
      "| epoch  10 lr 0.63 | ms/batch 953.83 | loss  5.63 | ppl   279.53\n",
      "| epoch  10 lr 0.63 | ms/batch 962.34 | loss  5.65 | ppl   284.49\n",
      "| epoch  10 lr 0.63 | ms/batch 913.59 | loss  5.66 | ppl   288.53\n",
      "| epoch  10 lr 0.63 | ms/batch 1034.61 | loss  5.67 | ppl   290.78\n",
      "| epoch  10 lr 0.63 | ms/batch 1040.36 | loss  5.69 | ppl   295.10\n",
      "| epoch  10 lr 0.63 | ms/batch 1757.33 | loss  5.69 | ppl   296.23\n",
      "| epoch  10 lr 0.63 | ms/batch 1002.00 | loss  5.70 | ppl   297.72\n",
      "-----------------------------------------------------------------------------------------\n",
      "| end of epoch  10 | time: 1822.49s | valid loss  6.22 | valid ppl   503.14\n",
      "-----------------------------------------------------------------------------------------\n"
     ]
    }
   ],
   "source": [
    "best_val_loss = float('inf')\n",
    "epochs = 10\n",
    "train_loss_lst = []\n",
    "val_loss_lst = []\n",
    "\n",
    "with TemporaryDirectory() as tempdir:\n",
    "    best_model_params_path = os.path.join(tempdir, \"best_model_params.pt\")\n",
    "\n",
    "    for epoch in range(1, epochs + 1):\n",
    "        epoch_start_time = time.time()\n",
    "\n",
    "        # Training\n",
    "        train_loss = train(model, train_iter, epoch)\n",
    "\n",
    "        # Evaluation\n",
    "        val_loss = evaluate(model, val_iter)\n",
    "\n",
    "        # Compute the perplexity of the validation loss\n",
    "        val_ppl = math.exp(val_loss)\n",
    "        elapsed = time.time() - epoch_start_time\n",
    "\n",
    "        # Results\n",
    "        print('-' * 89)\n",
    "        print(f'| end of epoch {epoch:3d} | time: {elapsed:5.2f}s | '\n",
    "            f'valid loss {val_loss:5.2f} | valid ppl {val_ppl:8.2f}')\n",
    "        print('-' * 89)\n",
    "        train_loss_lst.append(train_loss)\n",
    "        val_loss_lst.append(val_loss)\n",
    "\n",
    "        # Save best model\n",
    "        if val_loss < best_val_loss:\n",
    "            best_val_loss = val_loss\n",
    "            torch.save(model.state_dict(), best_model_params_path)\n",
    "\n",
    "        scheduler.step()\n",
    "    model.load_state_dict(torch.load(best_model_params_path)) # load best model states\n",
    "\n",
    "# save model \n",
    "torch.save(model.state_dict(), 'Parameter')\n",
    "\n",
    "# load model\n",
    "# model = TransformerModel(ntokens, nusers, emsize, nhead, d_hid, nlayers, dropout).to(device)\n",
    "# model.load_state_dict(torch.load('Parameter'))\n",
    "# model.eval()"
   ]
  },
  {
   "cell_type": "code",
   "execution_count": 36,
   "metadata": {},
   "outputs": [],
   "source": [
    "train_loss_lst = [7.15, 6.49, 6.26, 6.12, 6.01, 5.93, 5.86, 5.80, 5.75, 5.70]\n",
    "val_loss_lst = [7.02, 6.52, 6.37, 6.3, 6.26, 6.24, 6.23, 6.22, 6.22, 6.22]"
   ]
  },
  {
   "cell_type": "code",
   "execution_count": 39,
   "metadata": {},
   "outputs": [
    {
     "data": {
      "image/png": "[encoded data removed]",
      "text/plain": [
       "<Figure size 640x480 with 1 Axes>"
      ]
     },
     "metadata": {},
     "output_type": "display_data"
    }
   ],
   "source": [
    "import matplotlib.pyplot as plt\n",
    "plt.figure()\n",
    "plt.plot(train_loss_lst, label='Train loss')\n",
    "plt.plot(val_loss_lst, label='Test loss')\n",
    "plt.xlabel('Epoch')\n",
    "plt.xticks(np.arange(1,10))\n",
    "plt.ylabel('Loss')\n",
    "plt.title('Loss Curve')\n",
    "plt.legend()\n",
    "plt.show()"
   ]
  },
  {
   "cell_type": "markdown",
   "metadata": {},
   "source": [
    "## Result and Comparasion"
   ]
  },
  {
   "cell_type": "code",
   "execution_count": null,
   "metadata": {},
   "outputs": [],
   "source": [
    "def get_popular_movies(df_ratings):\n",
    "  # Calculate the number of ratings for each movie\n",
    "  rating_counts = df_ratings['movie_id'].value_counts().reset_index()\n",
    "  rating_counts.columns = ['movie_id', 'rating_count']\n",
    "\n",
    "  # Get the most frequently rated movies\n",
    "  min_ratings_threshold = rating_counts['rating_count'].quantile(0.95)\n",
    "\n",
    "  # Filter movies based on the minimum number of ratings\n",
    "  popular_movies = ratings.merge(rating_counts, on='movie_id')\n",
    "  popular_movies = popular_movies[popular_movies['rating_count'] >= min_ratings_threshold]\n",
    "\n",
    "  # Calculate the average rating for each movie\n",
    "  average_ratings = popular_movies.groupby('movie_id')['rating'].mean().reset_index()\n",
    "\n",
    "  # Get the top 10 rated movies\n",
    "  top_10_movies = list(average_ratings.sort_values('rating', ascending=False).head(10).movie_id.values)\n",
    "  return top_10_movies"
   ]
  },
  {
   "cell_type": "code",
   "execution_count": null,
   "metadata": {},
   "outputs": [],
   "source": [
    "top_10_movies = get_popular_movies(ratings)"
   ]
  },
  {
   "cell_type": "code",
   "execution_count": null,
   "metadata": {},
   "outputs": [],
   "source": [
    "# Movie id decoder\n",
    "movie_vocab_itos = movie_vocab.get_itos()\n",
    "\n",
    "# A placeholders to store results of recommendations\n",
    "transformer_reco_results = list()\n",
    "popular_reco_results = list()\n",
    "\n",
    "# Get top 10 movies\n",
    "k = 10\n",
    "# Iterate over the validation data\n",
    "for i, (movie_data, user_data) in enumerate(test_iter): \n",
    "    # Feed the input and get the outputs\n",
    "    movie_data, user_data = movie_data.to(device), user_data.to(device)\n",
    "    user_data = user_data.reshape(-1, 1)\n",
    "    inputs, targets = movie_data[:, :-1], movie_data[:, 1:]\n",
    "    output = model(inputs, user_data)\n",
    "    output_flat = output.reshape(-1, ntokens)\n",
    "    targets_flat = targets.reshape(-1)\n",
    "\n",
    "    # Reshape the output_flat to get top predictions\n",
    "    outputs = output_flat.reshape(output_flat.shape[0] // inputs.shape[1],\n",
    "                                  inputs.shape[1],\n",
    "                                  output_flat.shape[1])[: , -1, :]\n",
    "    # k + inputs.shape[1] = 13 movies obtained\n",
    "    # In order to prevent to recommend already watched movies\n",
    "    values, indices = outputs.topk(k + inputs.shape[1], dim=-1)\n",
    "\n",
    "    for sub_sequence, sub_indice_org in zip(movie_data, indices):\n",
    "        sub_indice_org = sub_indice_org.cpu().detach().numpy()\n",
    "        sub_sequence = sub_sequence.cpu().detach().numpy()\n",
    "\n",
    "        # Generate mask array to eliminate already watched movies \n",
    "        mask = np.isin(sub_indice_org, sub_sequence[:-1], invert=True)\n",
    "\n",
    "        # After masking get top k movies\n",
    "        sub_indice = sub_indice_org[mask][:k]\n",
    "\n",
    "        # Generate results array\n",
    "        transformer_reco_result = np.isin(sub_indice, sub_sequence[-1]).astype(int)\n",
    "\n",
    "        # Decode movie to search in popular movies\n",
    "        target_movie_decoded = movie_vocab_itos[sub_sequence[-1]]\n",
    "        popular_reco_result = np.isin(top_10_movies, target_movie_decoded).astype(int)\n",
    "\n",
    "        transformer_reco_results.append(transformer_reco_result)\n",
    "        popular_reco_results.append(popular_reco_result)"
   ]
  },
  {
   "cell_type": "code",
   "execution_count": null,
   "metadata": {},
   "outputs": [],
   "source": [
    "from sklearn.metrics import ndcg_score\n",
    "\n",
    "# Since we have already sorted our recommendations\n",
    "# An array that represent our recommendation scores is used.\n",
    "representative_array = [[i for i in range(k, 0, -1)]] * len(transformer_reco_results)\n",
    "\n",
    "trans_score, popular_score = [], []\n",
    "for k in range(1,10):\n",
    "  transformer_result = ndcg_score(transformer_reco_results,\n",
    "                                  representative_array, k=k)\n",
    "  popular_result = ndcg_score(popular_reco_results,\n",
    "                              representative_array, k=k)\n",
    "  \n",
    "  trans_score.append(transformer_result)\n",
    "  popular_score.append(popular_result)\n",
    "  print(f\"Transformer NDCG result at top {k}: {round(transformer_result, 4)}\")\n",
    "  print(f\"Popular recommendation NDCG result at top {k}: {round(popular_result, 4)}\\n\\n\")\n",
    "\n",
    "import matplotlib.pyplot as plt\n",
    "plt.figure()\n",
    "plt.plot(trans_score)\n",
    "plt.plot(popular_result)\n",
    "plt.xlabel('K')\n",
    "plt.xticks(np.arange(1,10))\n",
    "plt.ylabel('NDCG @ K')\n",
    "plt.title('NDCG score comparison')\n",
    "plt.show()"
   ]
  }
 ],
 "metadata": {
  "kernelspec": {
   "display_name": "base",
   "language": "python",
   "name": "python3"
  },
  "language_info": {
   "codemirror_mode": {
    "name": "ipython",
    "version": 3
   },
   "file_extension": ".py",
   "mimetype": "text/x-python",
   "name": "python",
   "nbconvert_exporter": "python",
   "pygments_lexer": "ipython3",
   "version": "3.10.9"
  }
 },
 "nbformat": 4,
 "nbformat_minor": 2
}
