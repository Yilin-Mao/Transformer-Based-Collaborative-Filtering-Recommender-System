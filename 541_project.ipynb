{
 "cells": [
  {
   "cell_type": "markdown",
   "metadata": {},
   "source": [
    "# NCF (packed)"
   ]
  },
  {
   "cell_type": "code",
   "execution_count": 87,
   "metadata": {},
   "outputs": [
    {
     "name": "stdout",
     "output_type": "stream",
     "text": [
      "WARNING:tensorflow:From C:\\Users\\bao'bao'mao\\AppData\\Roaming\\Python\\Python310\\site-packages\\keras\\src\\losses.py:2976: The name tf.losses.sparse_softmax_cross_entropy is deprecated. Please use tf.compat.v1.losses.sparse_softmax_cross_entropy instead.\n",
      "\n",
      "WARNING:tensorflow:From C:\\Users\\bao'bao'mao\\AppData\\Roaming\\Python\\Python310\\site-packages\\libreco\\tfops\\version.py:4: The name tf.disable_v2_behavior is deprecated. Please use tf.compat.v1.disable_v2_behavior instead.\n",
      "\n",
      "WARNING:tensorflow:From C:\\Users\\bao'bao'mao\\AppData\\Roaming\\Python\\Python310\\site-packages\\tensorflow\\python\\compat\\v2_compat.py:108: disable_resource_variables (from tensorflow.python.ops.variable_scope) is deprecated and will be removed in a future version.\n",
      "Instructions for updating:\n",
      "non-resource variables are not supported in the long term\n"
     ]
    }
   ],
   "source": [
    "import numpy as np\n",
    "import pandas as pd\n",
    "from libreco.data import random_split, DatasetPure\n",
    "from libreco.algorithms import NCF  # pure data, \n",
    "from libreco.evaluation import evaluate"
   ]
  },
  {
   "cell_type": "code",
   "execution_count": 88,
   "metadata": {},
   "outputs": [],
   "source": [
    "# data extract and split\n",
    "data = pd.read_csv(\"ratings.csv\")\n",
    "data.columns = [\"user\", \"item\", \"label\", \"time\"]\n",
    "\n",
    "train_data, eval_data, test_data = random_split(data, multi_ratios=[0.8, 0.1, 0.1])"
   ]
  },
  {
   "cell_type": "code",
   "execution_count": 89,
   "metadata": {},
   "outputs": [],
   "source": [
    "# make data compatible with libreco\n",
    "train_data, data_info= DatasetPure.build_trainset(train_data)\n",
    "eval_data = DatasetPure.build_evalset(eval_data)\n",
    "test_data = DatasetPure.build_testset(test_data)"
   ]
  },
  {
   "cell_type": "code",
   "execution_count": 90,
   "metadata": {},
   "outputs": [],
   "source": [
    "ncf = NCF(\n",
    "    task=\"rating\",\n",
    "    data_info=data_info,\n",
    "    loss_type=\"cross_entropy\",\n",
    "    embed_size=16,\n",
    "    n_epochs=10,\n",
    "    lr=1e-3,\n",
    "    batch_size=2048,\n",
    "    num_neg=1,\n",
    ")"
   ]
  },
  {
   "cell_type": "code",
   "execution_count": 91,
   "metadata": {},
   "outputs": [
    {
     "name": "stdout",
     "output_type": "stream",
     "text": [
      "Training start time: \u001b[35m2024-12-07 21:31:19\u001b[0m\n"
     ]
    },
    {
     "name": "stderr",
     "output_type": "stream",
     "text": [
      "C:\\Users\\bao'bao'mao\\AppData\\Roaming\\Python\\Python310\\site-packages\\libreco\\layers\\dense.py:31: UserWarning: `tf.layers.batch_normalization` is deprecated and will be removed in a future version. Please use `tf.keras.layers.BatchNormalization` instead. In particular, `tf.control_dependencies(tf.GraphKeys.UPDATE_OPS)` should not be used (consult the `tf.keras.layers.BatchNormalization` documentation).\n",
      "  net = tf.layers.batch_normalization(net, training=is_training)\n"
     ]
    },
    {
     "name": "stdout",
     "output_type": "stream",
     "text": [
      "WARNING:tensorflow:From C:\\Users\\bao'bao'mao\\AppData\\Roaming\\Python\\Python310\\site-packages\\keras\\src\\utils\\version_utils.py:76: The name tf.executing_eagerly_outside_functions is deprecated. Please use tf.compat.v1.executing_eagerly_outside_functions instead.\n",
      "\n"
     ]
    },
    {
     "name": "stderr",
     "output_type": "stream",
     "text": [
      "2024-12-07 21:31:20,661 - WARNING - From C:\\Users\\bao'bao'mao\\AppData\\Roaming\\Python\\Python310\\site-packages\\keras\\src\\utils\\version_utils.py:76: The name tf.executing_eagerly_outside_functions is deprecated. Please use tf.compat.v1.executing_eagerly_outside_functions instead.\n",
      "\n"
     ]
    },
    {
     "name": "stdout",
     "output_type": "stream",
     "text": [
      "WARNING:tensorflow:From C:\\Users\\bao'bao'mao\\AppData\\Roaming\\Python\\Python310\\site-packages\\keras\\src\\layers\\normalization\\batch_normalization.py:883: _colocate_with (from tensorflow.python.framework.ops) is deprecated and will be removed in a future version.\n",
      "Instructions for updating:\n",
      "Colocations handled automatically by placer.\n"
     ]
    },
    {
     "name": "stderr",
     "output_type": "stream",
     "text": [
      "2024-12-07 21:31:20,835 - WARNING - From C:\\Users\\bao'bao'mao\\AppData\\Roaming\\Python\\Python310\\site-packages\\keras\\src\\layers\\normalization\\batch_normalization.py:883: _colocate_with (from tensorflow.python.framework.ops) is deprecated and will be removed in a future version.\n",
      "Instructions for updating:\n",
      "Colocations handled automatically by placer.\n",
      "C:\\Users\\bao'bao'mao\\AppData\\Roaming\\Python\\Python310\\site-packages\\libreco\\layers\\dense.py:39: UserWarning: `tf.layers.batch_normalization` is deprecated and will be removed in a future version. Please use `tf.keras.layers.BatchNormalization` instead. In particular, `tf.control_dependencies(tf.GraphKeys.UPDATE_OPS)` should not be used (consult the `tf.keras.layers.BatchNormalization` documentation).\n",
      "  net = tf.layers.batch_normalization(net, training=is_training)\n"
     ]
    },
    {
     "name": "stdout",
     "output_type": "stream",
     "text": [
      "WARNING:tensorflow:From C:\\Users\\bao'bao'mao\\AppData\\Roaming\\Python\\Python310\\site-packages\\libreco\\training\\tf_trainer.py:120: The name tf.train.AdamOptimizer is deprecated. Please use tf.compat.v1.train.AdamOptimizer instead.\n",
      "\n"
     ]
    },
    {
     "name": "stderr",
     "output_type": "stream",
     "text": [
      "2024-12-07 21:31:22,284 - WARNING - From C:\\Users\\bao'bao'mao\\AppData\\Roaming\\Python\\Python310\\site-packages\\libreco\\training\\tf_trainer.py:120: The name tf.train.AdamOptimizer is deprecated. Please use tf.compat.v1.train.AdamOptimizer instead.\n",
      "\n",
      "train: 100%|██████████| 79/79 [00:03<00:00, 20.09it/s]\n"
     ]
    },
    {
     "name": "stdout",
     "output_type": "stream",
     "text": [
      "Epoch 1 elapsed: 3.946s\n",
      "\t \u001b[32mtrain_loss: 8.3543\u001b[0m\n"
     ]
    },
    {
     "name": "stderr",
     "output_type": "stream",
     "text": [
      "eval_pointwise: 100%|██████████| 2/2 [00:00<00:00,  5.44it/s]\n"
     ]
    },
    {
     "name": "stdout",
     "output_type": "stream",
     "text": [
      "\t eval rmse: 1.0240\n",
      "==============================\n"
     ]
    },
    {
     "name": "stderr",
     "output_type": "stream",
     "text": [
      "train: 100%|██████████| 79/79 [00:01<00:00, 42.71it/s]\n"
     ]
    },
    {
     "name": "stdout",
     "output_type": "stream",
     "text": [
      "Epoch 2 elapsed: 1.858s\n",
      "\t \u001b[32mtrain_loss: 0.8825\u001b[0m\n"
     ]
    },
    {
     "name": "stderr",
     "output_type": "stream",
     "text": [
      "eval_pointwise: 100%|██████████| 2/2 [00:00<00:00, 46.51it/s]\n"
     ]
    },
    {
     "name": "stdout",
     "output_type": "stream",
     "text": [
      "\t eval rmse: 1.0802\n",
      "==============================\n"
     ]
    },
    {
     "name": "stderr",
     "output_type": "stream",
     "text": [
      "train: 100%|██████████| 79/79 [00:02<00:00, 38.19it/s]\n"
     ]
    },
    {
     "name": "stdout",
     "output_type": "stream",
     "text": [
      "Epoch 3 elapsed: 2.079s\n",
      "\t \u001b[32mtrain_loss: 0.5949\u001b[0m\n"
     ]
    },
    {
     "name": "stderr",
     "output_type": "stream",
     "text": [
      "eval_pointwise: 100%|██████████| 2/2 [00:00<00:00, 49.30it/s]\n"
     ]
    },
    {
     "name": "stdout",
     "output_type": "stream",
     "text": [
      "\t eval rmse: 1.0813\n",
      "==============================\n"
     ]
    },
    {
     "name": "stderr",
     "output_type": "stream",
     "text": [
      "train: 100%|██████████| 79/79 [00:01<00:00, 42.80it/s]\n"
     ]
    },
    {
     "name": "stdout",
     "output_type": "stream",
     "text": [
      "Epoch 4 elapsed: 1.860s\n",
      "\t \u001b[32mtrain_loss: 0.4909\u001b[0m\n"
     ]
    },
    {
     "name": "stderr",
     "output_type": "stream",
     "text": [
      "eval_pointwise: 100%|██████████| 2/2 [00:00<00:00, 40.37it/s]\n"
     ]
    },
    {
     "name": "stdout",
     "output_type": "stream",
     "text": [
      "\t eval rmse: 1.0537\n",
      "==============================\n"
     ]
    },
    {
     "name": "stderr",
     "output_type": "stream",
     "text": [
      "train: 100%|██████████| 79/79 [00:02<00:00, 39.11it/s]\n"
     ]
    },
    {
     "name": "stdout",
     "output_type": "stream",
     "text": [
      "Epoch 5 elapsed: 2.033s\n",
      "\t \u001b[32mtrain_loss: 0.4393\u001b[0m\n"
     ]
    },
    {
     "name": "stderr",
     "output_type": "stream",
     "text": [
      "eval_pointwise: 100%|██████████| 2/2 [00:00<00:00, 57.90it/s]\n"
     ]
    },
    {
     "name": "stdout",
     "output_type": "stream",
     "text": [
      "\t eval rmse: 1.0423\n",
      "==============================\n"
     ]
    },
    {
     "name": "stderr",
     "output_type": "stream",
     "text": [
      "train: 100%|██████████| 79/79 [00:01<00:00, 42.00it/s]\n"
     ]
    },
    {
     "name": "stdout",
     "output_type": "stream",
     "text": [
      "Epoch 6 elapsed: 1.895s\n",
      "\t \u001b[32mtrain_loss: 0.4067\u001b[0m\n"
     ]
    },
    {
     "name": "stderr",
     "output_type": "stream",
     "text": [
      "eval_pointwise: 100%|██████████| 2/2 [00:00<00:00, 45.43it/s]\n"
     ]
    },
    {
     "name": "stdout",
     "output_type": "stream",
     "text": [
      "\t eval rmse: 1.0123\n",
      "==============================\n"
     ]
    },
    {
     "name": "stderr",
     "output_type": "stream",
     "text": [
      "train: 100%|██████████| 79/79 [00:01<00:00, 43.01it/s]\n"
     ]
    },
    {
     "name": "stdout",
     "output_type": "stream",
     "text": [
      "Epoch 7 elapsed: 1.849s\n",
      "\t \u001b[32mtrain_loss: 0.3805\u001b[0m\n"
     ]
    },
    {
     "name": "stderr",
     "output_type": "stream",
     "text": [
      "eval_pointwise: 100%|██████████| 2/2 [00:00<00:00, 60.58it/s]\n"
     ]
    },
    {
     "name": "stdout",
     "output_type": "stream",
     "text": [
      "\t eval rmse: 0.9742\n",
      "==============================\n"
     ]
    },
    {
     "name": "stderr",
     "output_type": "stream",
     "text": [
      "train: 100%|██████████| 79/79 [00:02<00:00, 38.35it/s]\n"
     ]
    },
    {
     "name": "stdout",
     "output_type": "stream",
     "text": [
      "Epoch 8 elapsed: 2.080s\n",
      "\t \u001b[32mtrain_loss: 0.3581\u001b[0m\n"
     ]
    },
    {
     "name": "stderr",
     "output_type": "stream",
     "text": [
      "eval_pointwise: 100%|██████████| 2/2 [00:00<00:00, 57.90it/s]\n"
     ]
    },
    {
     "name": "stdout",
     "output_type": "stream",
     "text": [
      "\t eval rmse: 0.9666\n",
      "==============================\n"
     ]
    },
    {
     "name": "stderr",
     "output_type": "stream",
     "text": [
      "train: 100%|██████████| 79/79 [00:01<00:00, 40.54it/s]\n"
     ]
    },
    {
     "name": "stdout",
     "output_type": "stream",
     "text": [
      "Epoch 9 elapsed: 1.965s\n",
      "\t \u001b[32mtrain_loss: 0.346\u001b[0m\n"
     ]
    },
    {
     "name": "stderr",
     "output_type": "stream",
     "text": [
      "eval_pointwise: 100%|██████████| 2/2 [00:00<00:00, 45.45it/s]\n"
     ]
    },
    {
     "name": "stdout",
     "output_type": "stream",
     "text": [
      "\t eval rmse: 0.9689\n",
      "==============================\n"
     ]
    },
    {
     "name": "stderr",
     "output_type": "stream",
     "text": [
      "train: 100%|██████████| 79/79 [00:02<00:00, 35.61it/s]\n"
     ]
    },
    {
     "name": "stdout",
     "output_type": "stream",
     "text": [
      "Epoch 10 elapsed: 2.233s\n",
      "\t \u001b[32mtrain_loss: 0.3307\u001b[0m\n"
     ]
    },
    {
     "name": "stderr",
     "output_type": "stream",
     "text": [
      "eval_pointwise: 100%|██████████| 2/2 [00:00<00:00, 41.66it/s]\n"
     ]
    },
    {
     "name": "stdout",
     "output_type": "stream",
     "text": [
      "\t eval rmse: 0.9910\n",
      "==============================\n"
     ]
    },
    {
     "name": "stderr",
     "output_type": "stream",
     "text": [
      "eval_pointwise: 100%|██████████| 2/2 [00:00<00:00, 57.13it/s]\n"
     ]
    },
    {
     "data": {
      "text/plain": [
       "{'loss': 1.0128553}"
      ]
     },
     "execution_count": 91,
     "metadata": {},
     "output_type": "execute_result"
    }
   ],
   "source": [
    "# monitor metrics on eval data during training\n",
    "ncf.fit(\n",
    "    train_data,\n",
    "    neg_sampling=False, #for rating, this param is false else True\n",
    "    verbose=2,\n",
    "    eval_data=eval_data,\n",
    "    metrics=[\"loss\"],\n",
    ")\n",
    "\n",
    "# do final evaluation on test data\n",
    "evaluate(\n",
    "    model=ncf,\n",
    "    data=test_data,\n",
    "    neg_sampling=False,\n",
    "    metrics=[\"loss\"],\n",
    ")"
   ]
  },
  {
   "cell_type": "code",
   "execution_count": 106,
   "metadata": {},
   "outputs": [
    {
     "name": "stdout",
     "output_type": "stream",
     "text": [
      "[array([ 33660,   4082,   3819,   2204, 103341,  93838, 111817,   3687,\n",
      "         3244,   1289], dtype=int64), array([  3285, 106062,  33188,   4642,  64030,   5008,   1554,  55854,\n",
      "         3812,  93610], dtype=int64), array([  1224, 105504,  46572,   4424,   1235,  55167,   1966,    905,\n",
      "         8207,   1799], dtype=int64), array([  7087,  68952,   6625,   1889, 118862,   2352, 162578,  52328,\n",
      "         2360,   4518], dtype=int64), array([  3814,    926,   3036, 106594,   5075,  31364,   3168,   3836,\n",
      "       189333, 111362], dtype=int64), array([   187,  51255,   1190,   3429, 183199,    899, 177593,   3200,\n",
      "       132333,    905], dtype=int64), array([ 97304,   3637, 117192,   1836,   2467,  97306,   1733,    913,\n",
      "          898,   1990], dtype=int64), array([  3473,   3508,   1276,  89305,   5303, 130970,   7767,   7841,\n",
      "        68237,   1217], dtype=int64), array([ 55814,   3819,   6370,    599,   8919,   4497,   3504, 158872,\n",
      "         1147,   1686], dtype=int64), array([ 50842,   7924,  53024,   5902,   6664,   8638, 117887,   8582,\n",
      "       116823,   5008], dtype=int64), array([    93,   2287,   1237, 148881,   3347,   2467,   1281, 100882,\n",
      "         6035,  88129], dtype=int64), array([  3819,   8580,  96079,   8477, 113829,   1997,   3836, 102084,\n",
      "         7743, 176371], dtype=int64), array([158966,   6857,   1080,   1273,   6874,  72489,   3060,   5114,\n",
      "         2502, 135937], dtype=int64), array([180297, 128852,   5782,  38061,   2300,   3578,  92259,  59026,\n",
      "        27773,   1211], dtype=int64), array([ 54190,   2491,   3150,   4146,   2810, 171763,   3635,  44777,\n",
      "         2843,  67618], dtype=int64), array([  3393, 132496,  72692,  47725, 118862,  55908,  38061,    326,\n",
      "         5364,   1272], dtype=int64), array([157296,   3795,   4278,   1212,   1248,   7099,  93510,   6686,\n",
      "        33421,  86922], dtype=int64), array([  3637, 166635,   3185, 176423,  53972, 106642, 188301,   6539,\n",
      "        55721,   1949], dtype=int64), array([111732,  89753,   1921,     29,   3167,    535, 139717,  68237,\n",
      "         3200,   1701], dtype=int64), array([106916,  38061,  93510,   4393,   7069,   1990,   7099, 180031,\n",
      "        25865,   5047], dtype=int64), array([   293,   1273,   6857, 158966,   3424,  72178,  72692,    305,\n",
      "         2970,   2303], dtype=int64), array([ 57669,     29,   4055,   6002,    745, 102033,   6932,   2300,\n",
      "         7099,   8507], dtype=int64), array([ 26928,   1192, 158966,   7762,   1262,  87234,   5909,   3811,\n",
      "          905,  68952], dtype=int64), array([113829,   4187,   7982,   8910,   8638, 158966,  51705,   2391,\n",
      "        56782, 148632], dtype=int64), array([ 3637,  3819, 33830,  6912,  4356, 25963,  7236, 92439,  2935,\n",
      "        3000], dtype=int64), array([55908,  2352, 78836, 38061,  1235,  2944, 86345,  2953,   541,\n",
      "       27803], dtype=int64), array([  6751,   3347,   3627,   6104,  70533,   3681, 113280,   1238,\n",
      "         3468,  26865], dtype=int64), array([  8580,  93838,  60737,   7743,  55241,  37731,   3543, 106642,\n",
      "         3201,   3424], dtype=int64), array([   943,   5139, 144734,   1415, 140715,   6159, 136359,   3637,\n",
      "       158027,   7219], dtype=int64), array([  3795,    180,  71462, 104211,   1261,   1927,   3637,  52435,\n",
      "         3178,   1212], dtype=int64), array([ 73023,   1963,   4826, 158966,   1945,    187,   2587,  89305,\n",
      "         3508,   7116], dtype=int64), array([  1192, 102852,   3706,   1269,   2159,   3811,   5992,   3795,\n",
      "         8796,   4981], dtype=int64), array([ 3814,  3468,  9005, 69304,  1041, 38304,  1237,  3194,  8796,\n",
      "        4963], dtype=int64), array([  1243,  68952, 142488,   2298,   1257,   3629,   1990,    922,\n",
      "         4642,  31522], dtype=int64), array([  8207,   2160,   1875,  32587,   5008,    908,   1189,   5669,\n",
      "       117192,    649], dtype=int64), array([   263,   1701,   4823,  80489,  57326,  38198,    283,   1218,\n",
      "       135137,   1041], dtype=int64), array([ 78893,   8371,   1237,   1283,   8912,  91500,  31698,   4526,\n",
      "         7004, 135137], dtype=int64), array([  1396,    541,   3438,   2524,   4676,   1172, 158966, 132333,\n",
      "         3296,   1136], dtype=int64), array([ 53129,  47952,  55190,   8796,   1228,  78836,   3795, 173197,\n",
      "        31878,  27768], dtype=int64), array([  6751,   3201, 113280,   8580,  54004,   2295,   6155,   5528,\n",
      "         1411,   1207], dtype=int64), array([  3637, 114396,   3363,   3795,   1237,   8748,     69,   1269,\n",
      "         2324,   4102], dtype=int64), array([ 27731,    720,   3022, 117192,   4467,   4427,  91529,  91690,\n",
      "         5614,   3537], dtype=int64), array([ 54190,  89305,   4326,  81819,   4789,   1292, 189333,   6837,\n",
      "       170705,   2690], dtype=int64), array([  2488,   7155, 171867,   6188,   5339,  96829, 183897,    913,\n",
      "          969,     94], dtype=int64), array([89305,  3917,  5279,  1537, 34405,  8580,  1272, 71899,  5528,\n",
      "         610], dtype=int64), array([  1349,   8035,    912, 158966,  27156,   1276,   8949,   1902,\n",
      "         8873,    199], dtype=int64), array([  905,  8582,  8580,  1545,  1235,  2208, 94959, 51255,  1475,\n",
      "       85774], dtype=int64), array([  2925,   5951,   7982,  71899, 158966,   1960, 118166,    909,\n",
      "         1104,  46572], dtype=int64), array([ 70946, 111732,    249,   5034,   1273,     45,    213, 102903,\n",
      "         4016,    334], dtype=int64), array([  2925,   1104,   1178, 118862,   1172,   1203,  57669, 158966,\n",
      "       130518,     29], dtype=int64), array([  8580,   3424,  89305,   1537,   3687, 136469,   3018,   4034,\n",
      "        51412,    905], dtype=int64), array([ 95843, 156025,    905,  47736,  89745,  59026, 106642,   4035,\n",
      "         1990,   5417], dtype=int64), array([ 94864,   3341,    497,  67255, 131724,   7396,   2672,  87834,\n",
      "        46337,    741], dtype=int64), array([ 2131,  1186, 51255,    76,  2529,  1238,  3468,  7087,  1468,\n",
      "       46972], dtype=int64), array([   187, 116897,    260,   1104,   3819,    610, 121231,   1249,\n",
      "        31364,   7396], dtype=int64), array([1192, 2735, 3189, 6620, 7192, 2159,  800, 1939, 1875, 2861],\n",
      "      dtype=int64), array([ 64957,   1289,  47099,  67255,   2171,   1193,  70946, 115122,\n",
      "       104841,   8132], dtype=int64), array([ 3066,  8207,  3618, 60684, 26471,  6339,  1349, 26840, 61257,\n",
      "        3037], dtype=int64), array([ 1221,  1198,  3814,  1527,  1235, 64716,  7396, 88163, 53318,\n",
      "        2632], dtype=int64), array([  3200,  65740,   1237,   3066,  81417,   2632,  26928,   3271,\n",
      "         6751, 105653], dtype=int64), array([ 4874, 58559,  1196,  1545,  2692,  2344,   905,  6291,  7116,\n",
      "        2351], dtype=int64), array([  2664,    905,   8528,   5500, 183199,   5303, 177593,   2443,\n",
      "       132496, 152105], dtype=int64), array([ 89305,   2360,  81932,   1050,  59026,   8010,   7181, 141718,\n",
      "         1204,   2677], dtype=int64), array([116823, 158882,  47099,  66371,  47970,   4816,  86898,   1939,\n",
      "         6949,   3066], dtype=int64), array([  1238,   3752,  54997, 177593,   1289,  55276,  92259,  25827,\n",
      "         2922,   3252], dtype=int64), array([  930,  1252, 96832, 89753,  7842,   922,  3543,  4499,  3504,\n",
      "        1686], dtype=int64), array([  3100,    866,   7841,   3468,   4077,    215,   3637,   1836,\n",
      "       102590,  79134], dtype=int64), array([59131,  3362, 50842,  1288,  3341,  1104,  1193,  6993, 86898,\n",
      "       54190], dtype=int64), array([130970,  89753,  70946,   5047,  25923,  26095, 158966,  68952,\n",
      "          932,   2634], dtype=int64), array([  3424,   2324, 158027, 116897,  71899,   6515,  32770,   5120,\n",
      "         3811,  51037], dtype=int64), array([  2843,  67255,  98809,   5120, 102217,    334,   5500,   3186,\n",
      "          952,  33660], dtype=int64)]\n"
     ]
    }
   ],
   "source": [
    "# predict preference of user 575 to item 10\n",
    "ncf.predict(user=575, item=10)\n",
    "\n",
    "# recommend 10 items for test user (align with test below)\n",
    "user_list = data.user.unique()\n",
    "ncf_result = []\n",
    "np.random.seed(24)\n",
    "random_range = np.random.rand(len(user_list))\n",
    "ncf_random_selection = 0.9 < random_range\n",
    "\n",
    "for user in user_list[ncf_random_selection]:\n",
    "    a = ncf.recommend_user(user=user, n_rec=10)\n",
    "    ncf_result.append(list(a.values())[0])\n",
    "print(ncf_result)"
   ]
  },
  {
   "cell_type": "markdown",
   "metadata": {},
   "source": [
    "# Transformer"
   ]
  },
  {
   "cell_type": "markdown",
   "metadata": {},
   "source": [
    "To avoid overfitting and adjust model to our data, following adjustments are taken:\n",
    "1. split into train, val and test, and change the ratio\n",
    "2. use Adam optimizer and add l2 regularizer\n",
    "3. reduce model complexity, reduce embedding and FNN dimension\n",
    "4. Plot the loss and score of k recommendation.\n",
    "\n",
    "Also, the best model parameters are saved for future loading and finetuning."
   ]
  },
  {
   "cell_type": "code",
   "execution_count": 1,
   "metadata": {},
   "outputs": [
    {
     "name": "stderr",
     "output_type": "stream",
     "text": [
      "C:\\Users\\bao'bao'mao\\AppData\\Roaming\\Python\\Python310\\site-packages\\torchtext\\vocab\\__init__.py:4: UserWarning: \n",
      "/!\\ IMPORTANT WARNING ABOUT TORCHTEXT STATUS /!\\ \n",
      "Torchtext is deprecated and the last released version will be 0.18 (this one). You can silence this warning by calling the following at the beginnign of your scripts: `import torchtext; torchtext.disable_torchtext_deprecation_warning()`\n",
      "  warnings.warn(torchtext._TORCHTEXT_DEPRECATION_MSG)\n",
      "C:\\Users\\bao'bao'mao\\AppData\\Roaming\\Python\\Python310\\site-packages\\torchtext\\utils.py:4: UserWarning: \n",
      "/!\\ IMPORTANT WARNING ABOUT TORCHTEXT STATUS /!\\ \n",
      "Torchtext is deprecated and the last released version will be 0.18 (this one). You can silence this warning by calling the following at the beginnign of your scripts: `import torchtext; torchtext.disable_torchtext_deprecation_warning()`\n",
      "  warnings.warn(torchtext._TORCHTEXT_DEPRECATION_MSG)\n"
     ]
    }
   ],
   "source": [
    "import time\n",
    "import math\n",
    "import os\n",
    "from tempfile import TemporaryDirectory\n",
    "from typing import Tuple\n",
    "\n",
    "import torch\n",
    "from torch import nn, Tensor\n",
    "from torch.nn import TransformerEncoder, TransformerEncoderLayer\n",
    "from torch.utils.data import dataset\n",
    "from torchtext.vocab import vocab\n",
    "from torch.utils.data import DataLoader, Dataset\n",
    "from torch.nn.utils.rnn import pad_sequence\n",
    "\n",
    "from collections import Counter\n",
    "\n",
    "from zipfile import ZipFile\n",
    "from urllib.request import urlretrieve\n",
    "\n",
    "import pandas as pd\n",
    "import numpy as np"
   ]
  },
  {
   "cell_type": "markdown",
   "metadata": {},
   "source": [
    "## Data preparation"
   ]
  },
  {
   "cell_type": "markdown",
   "metadata": {},
   "source": [
    "there is no user csv file so we must adapt the code/ just creat a user vocabulary containing 620 users with their number."
   ]
  },
  {
   "cell_type": "code",
   "execution_count": 2,
   "metadata": {},
   "outputs": [],
   "source": [
    "# Loading dataset\n",
    "ratings = pd.read_csv(\"ratings.csv\")\n",
    "movies = pd.read_csv(\"movies.csv\")"
   ]
  },
  {
   "cell_type": "code",
   "execution_count": 3,
   "metadata": {},
   "outputs": [],
   "source": [
    "# Preventing ids to be written as integer or float data type\n",
    "movies[\"movieId\"] = movies[\"movieId\"].apply(lambda x: f\"movie_{x}\")\n",
    "ratings[\"movieId\"] = ratings[\"movieId\"].apply(lambda x: f\"movie_{x}\")\n",
    "ratings[\"userId\"] = ratings[\"userId\"].apply(lambda x: f\"user_{x}\")"
   ]
  },
  {
   "cell_type": "code",
   "execution_count": 13,
   "metadata": {},
   "outputs": [
    {
     "name": "stdout",
     "output_type": "stream",
     "text": [
      "['user_1' 'user_2' 'user_3' 'user_4' 'user_5' 'user_6' 'user_7' 'user_8'\n",
      " 'user_9' 'user_10' 'user_11' 'user_12' 'user_13' 'user_14' 'user_15'\n",
      " 'user_16' 'user_17' 'user_18' 'user_19' 'user_20' 'user_21' 'user_22'\n",
      " 'user_23' 'user_24' 'user_25' 'user_26' 'user_27' 'user_28' 'user_29'\n",
      " 'user_30' 'user_31' 'user_32' 'user_33' 'user_34' 'user_35' 'user_36'\n",
      " 'user_37' 'user_38' 'user_39' 'user_40' 'user_41' 'user_42' 'user_43'\n",
      " 'user_44' 'user_45' 'user_46' 'user_47' 'user_48' 'user_49' 'user_50'\n",
      " 'user_51' 'user_52' 'user_53' 'user_54' 'user_55' 'user_56' 'user_57'\n",
      " 'user_58' 'user_59' 'user_60' 'user_61' 'user_62' 'user_63' 'user_64'\n",
      " 'user_65' 'user_66' 'user_67' 'user_68' 'user_69' 'user_70' 'user_71'\n",
      " 'user_72' 'user_73' 'user_74' 'user_75' 'user_76' 'user_77' 'user_78'\n",
      " 'user_79' 'user_80' 'user_81' 'user_82' 'user_83' 'user_84' 'user_85'\n",
      " 'user_86' 'user_87' 'user_88' 'user_89' 'user_90' 'user_91' 'user_92'\n",
      " 'user_93' 'user_94' 'user_95' 'user_96' 'user_97' 'user_98' 'user_99'\n",
      " 'user_100' 'user_101' 'user_102' 'user_103' 'user_104' 'user_105'\n",
      " 'user_106' 'user_107' 'user_108' 'user_109' 'user_110' 'user_111'\n",
      " 'user_112' 'user_113' 'user_114' 'user_115' 'user_116' 'user_117'\n",
      " 'user_118' 'user_119' 'user_120' 'user_121' 'user_122' 'user_123'\n",
      " 'user_124' 'user_125' 'user_126' 'user_127' 'user_128' 'user_129'\n",
      " 'user_130' 'user_131' 'user_132' 'user_133' 'user_134' 'user_135'\n",
      " 'user_136' 'user_137' 'user_138' 'user_139' 'user_140' 'user_141'\n",
      " 'user_142' 'user_143' 'user_144' 'user_145' 'user_146' 'user_147'\n",
      " 'user_148' 'user_149' 'user_150' 'user_151' 'user_152' 'user_153'\n",
      " 'user_154' 'user_155' 'user_156' 'user_157' 'user_158' 'user_159'\n",
      " 'user_160' 'user_161' 'user_162' 'user_163' 'user_164' 'user_165'\n",
      " 'user_166' 'user_167' 'user_168' 'user_169' 'user_170' 'user_171'\n",
      " 'user_172' 'user_173' 'user_174' 'user_175' 'user_176' 'user_177'\n",
      " 'user_178' 'user_179' 'user_180' 'user_181' 'user_182' 'user_183'\n",
      " 'user_184' 'user_185' 'user_186' 'user_187' 'user_188' 'user_189'\n",
      " 'user_190' 'user_191' 'user_192' 'user_193' 'user_194' 'user_195'\n",
      " 'user_196' 'user_197' 'user_198' 'user_199' 'user_200' 'user_201'\n",
      " 'user_202' 'user_203' 'user_204' 'user_205' 'user_206' 'user_207'\n",
      " 'user_208' 'user_209' 'user_210' 'user_211' 'user_212' 'user_213'\n",
      " 'user_214' 'user_215' 'user_216' 'user_217' 'user_218' 'user_219'\n",
      " 'user_220' 'user_221' 'user_222' 'user_223' 'user_224' 'user_225'\n",
      " 'user_226' 'user_227' 'user_228' 'user_229' 'user_230' 'user_231'\n",
      " 'user_232' 'user_233' 'user_234' 'user_235' 'user_236' 'user_237'\n",
      " 'user_238' 'user_239' 'user_240' 'user_241' 'user_242' 'user_243'\n",
      " 'user_244' 'user_245' 'user_246' 'user_247' 'user_248' 'user_249'\n",
      " 'user_250' 'user_251' 'user_252' 'user_253' 'user_254' 'user_255'\n",
      " 'user_256' 'user_257' 'user_258' 'user_259' 'user_260' 'user_261'\n",
      " 'user_262' 'user_263' 'user_264' 'user_265' 'user_266' 'user_267'\n",
      " 'user_268' 'user_269' 'user_270' 'user_271' 'user_272' 'user_273'\n",
      " 'user_274' 'user_275' 'user_276' 'user_277' 'user_278' 'user_279'\n",
      " 'user_280' 'user_281' 'user_282' 'user_283' 'user_284' 'user_285'\n",
      " 'user_286' 'user_287' 'user_288' 'user_289' 'user_290' 'user_291'\n",
      " 'user_292' 'user_293' 'user_294' 'user_295' 'user_296' 'user_297'\n",
      " 'user_298' 'user_299' 'user_300' 'user_301' 'user_302' 'user_303'\n",
      " 'user_304' 'user_305' 'user_306' 'user_307' 'user_308' 'user_309'\n",
      " 'user_310' 'user_311' 'user_312' 'user_313' 'user_314' 'user_315'\n",
      " 'user_316' 'user_317' 'user_318' 'user_319' 'user_320' 'user_321'\n",
      " 'user_322' 'user_323' 'user_324' 'user_325' 'user_326' 'user_327'\n",
      " 'user_328' 'user_329' 'user_330' 'user_331' 'user_332' 'user_333'\n",
      " 'user_334' 'user_335' 'user_336' 'user_337' 'user_338' 'user_339'\n",
      " 'user_340' 'user_341' 'user_342' 'user_343' 'user_344' 'user_345'\n",
      " 'user_346' 'user_347' 'user_348' 'user_349' 'user_350' 'user_351'\n",
      " 'user_352' 'user_353' 'user_354' 'user_355' 'user_356' 'user_357'\n",
      " 'user_358' 'user_359' 'user_360' 'user_361' 'user_362' 'user_363'\n",
      " 'user_364' 'user_365' 'user_366' 'user_367' 'user_368' 'user_369'\n",
      " 'user_370' 'user_371' 'user_372' 'user_373' 'user_374' 'user_375'\n",
      " 'user_376' 'user_377' 'user_378' 'user_379' 'user_380' 'user_381'\n",
      " 'user_382' 'user_383' 'user_384' 'user_385' 'user_386' 'user_387'\n",
      " 'user_388' 'user_389' 'user_390' 'user_391' 'user_392' 'user_393'\n",
      " 'user_394' 'user_395' 'user_396' 'user_397' 'user_398' 'user_399'\n",
      " 'user_400' 'user_401' 'user_402' 'user_403' 'user_404' 'user_405'\n",
      " 'user_406' 'user_407' 'user_408' 'user_409' 'user_410' 'user_411'\n",
      " 'user_412' 'user_413' 'user_414' 'user_415' 'user_416' 'user_417'\n",
      " 'user_418' 'user_419' 'user_420' 'user_421' 'user_422' 'user_423'\n",
      " 'user_424' 'user_425' 'user_426' 'user_427' 'user_428' 'user_429'\n",
      " 'user_430' 'user_431' 'user_432' 'user_433' 'user_434' 'user_435'\n",
      " 'user_436' 'user_437' 'user_438' 'user_439' 'user_440' 'user_441'\n",
      " 'user_442' 'user_443' 'user_444' 'user_445' 'user_446' 'user_447'\n",
      " 'user_448' 'user_449' 'user_450' 'user_451' 'user_452' 'user_453'\n",
      " 'user_454' 'user_455' 'user_456' 'user_457' 'user_458' 'user_459'\n",
      " 'user_460' 'user_461' 'user_462' 'user_463' 'user_464' 'user_465'\n",
      " 'user_466' 'user_467' 'user_468' 'user_469' 'user_470' 'user_471'\n",
      " 'user_472' 'user_473' 'user_474' 'user_475' 'user_476' 'user_477'\n",
      " 'user_478' 'user_479' 'user_480' 'user_481' 'user_482' 'user_483'\n",
      " 'user_484' 'user_485' 'user_486' 'user_487' 'user_488' 'user_489'\n",
      " 'user_490' 'user_491' 'user_492' 'user_493' 'user_494' 'user_495'\n",
      " 'user_496' 'user_497' 'user_498' 'user_499' 'user_500' 'user_501'\n",
      " 'user_502' 'user_503' 'user_504' 'user_505' 'user_506' 'user_507'\n",
      " 'user_508' 'user_509' 'user_510' 'user_511' 'user_512' 'user_513'\n",
      " 'user_514' 'user_515' 'user_516' 'user_517' 'user_518' 'user_519'\n",
      " 'user_520' 'user_521' 'user_522' 'user_523' 'user_524' 'user_525'\n",
      " 'user_526' 'user_527' 'user_528' 'user_529' 'user_530' 'user_531'\n",
      " 'user_532' 'user_533' 'user_534' 'user_535' 'user_536' 'user_537'\n",
      " 'user_538' 'user_539' 'user_540' 'user_541' 'user_542' 'user_543'\n",
      " 'user_544' 'user_545' 'user_546' 'user_547' 'user_548' 'user_549'\n",
      " 'user_550' 'user_551' 'user_552' 'user_553' 'user_554' 'user_555'\n",
      " 'user_556' 'user_557' 'user_558' 'user_559' 'user_560' 'user_561'\n",
      " 'user_562' 'user_563' 'user_564' 'user_565' 'user_566' 'user_567'\n",
      " 'user_568' 'user_569' 'user_570' 'user_571' 'user_572' 'user_573'\n",
      " 'user_574' 'user_575' 'user_576' 'user_577' 'user_578' 'user_579'\n",
      " 'user_580' 'user_581' 'user_582' 'user_583' 'user_584' 'user_585'\n",
      " 'user_586' 'user_587' 'user_588' 'user_589' 'user_590' 'user_591'\n",
      " 'user_592' 'user_593' 'user_594' 'user_595' 'user_596' 'user_597'\n",
      " 'user_598' 'user_599' 'user_600' 'user_601' 'user_602' 'user_603'\n",
      " 'user_604' 'user_605' 'user_606' 'user_607' 'user_608' 'user_609'\n",
      " 'user_610']\n"
     ]
    }
   ],
   "source": [
    "print(ratings['userId'].unique())"
   ]
  },
  {
   "cell_type": "code",
   "execution_count": 4,
   "metadata": {},
   "outputs": [
    {
     "name": "stdout",
     "output_type": "stream",
     "text": [
      "{'user_60': 60, 'user_11': 11, 'user_130': 130, 'user_4': 4, 'user_307': 307, 'user_141': 141, '<unk>': 0, 'user_29': 29, 'user_258': 258, 'user_14': 14, 'user_135': 135, 'user_1': 1, 'user_302': 302, 'user_144': 144, 'user_529': 529, 'user_17': 17, 'user_136': 136, 'user_2': 2, 'user_208': 208, 'user_301': 301, 'user_147': 147, 'user_528': 528, 'user_16': 16, 'user_137': 137, 'user_3': 3, 'user_209': 209, 'user_300': 300, 'user_146': 146, 'user_61': 61, 'user_10': 10, 'user_131': 131, 'user_5': 5, 'user_306': 306, 'user_140': 140, 'user_62': 62, 'user_13': 13, 'user_132': 132, 'user_6': 6, 'user_305': 305, 'user_143': 143, 'user_63': 63, 'user_12': 12, 'user_133': 133, 'user_7': 7, 'user_304': 304, 'user_142': 142, 'user_20': 20, 'user_8': 8, 'user_202': 202, 'user_21': 21, 'user_9': 9, 'user_203': 203, 'user_28': 28, 'user_259': 259, 'user_15': 15, 'user_134': 134, 'user_25': 25, 'user_254': 254, 'user_526': 526, 'user_18': 18, 'user_139': 139, 'user_24': 24, 'user_255': 255, 'user_527': 527, 'user_19': 19, 'user_138': 138, 'user_22': 22, 'user_23': 23, 'user_26': 26, 'user_27': 27, 'user_393': 393, 'user_30': 30, 'user_392': 392, 'user_31': 31, 'user_391': 391, 'user_32': 32, 'user_390': 390, 'user_33': 33, 'user_397': 397, 'user_34': 34, 'user_396': 396, 'user_35': 35, 'user_395': 395, 'user_36': 36, 'user_394': 394, 'user_37': 37, 'user_38': 38, 'user_39': 39, 'user_385': 385, 'user_40': 40, 'user_384': 384, 'user_41': 41, 'user_387': 387, 'user_42': 42, 'user_386': 386, 'user_43': 43, 'user_381': 381, 'user_44': 44, 'user_380': 380, 'user_45': 45, 'user_383': 383, 'user_46': 46, 'user_382': 382, 'user_47': 47, 'user_48': 48, 'user_49': 49, 'user_50': 50, 'user_51': 51, 'user_52': 52, 'user_53': 53, 'user_54': 54, 'user_55': 55, 'user_56': 56, 'user_57': 57, 'user_58': 58, 'user_59': 59, 'user_64': 64, 'user_65': 65, 'user_66': 66, 'user_67': 67, 'user_68': 68, 'user_69': 69, 'user_70': 70, 'user_71': 71, 'user_72': 72, 'user_73': 73, 'user_74': 74, 'user_75': 75, 'user_76': 76, 'user_77': 77, 'user_78': 78, 'user_79': 79, 'user_80': 80, 'user_183': 183, 'user_415': 415, 'user_81': 81, 'user_182': 182, 'user_414': 414, 'user_82': 82, 'user_181': 181, 'user_417': 417, 'user_83': 83, 'user_180': 180, 'user_416': 416, 'user_84': 84, 'user_187': 187, 'user_411': 411, 'user_85': 85, 'user_186': 186, 'user_410': 410, 'user_86': 86, 'user_185': 185, 'user_299': 299, 'user_413': 413, 'user_87': 87, 'user_184': 184, 'user_298': 298, 'user_412': 412, 'user_88': 88, 'user_297': 297, 'user_89': 89, 'user_296': 296, 'user_337': 337, 'user_90': 90, 'user_336': 336, 'user_91': 91, 'user_335': 335, 'user_92': 92, 'user_334': 334, 'user_93': 93, 'user_333': 333, 'user_94': 94, 'user_332': 332, 'user_95': 95, 'user_331': 331, 'user_96': 96, 'user_330': 330, 'user_97': 97, 'user_98': 98, 'user_99': 99, 'user_539': 539, 'user_100': 100, 'user_496': 496, 'user_538': 538, 'user_101': 101, 'user_497': 497, 'user_102': 102, 'user_494': 494, 'user_103': 103, 'user_495': 495, 'user_104': 104, 'user_492': 492, 'user_105': 105, 'user_493': 493, 'user_106': 106, 'user_490': 490, 'user_348': 348, 'user_107': 107, 'user_491': 491, 'user_349': 349, 'user_346': 346, 'user_531': 531, 'user_108': 108, 'user_347': 347, 'user_530': 530, 'user_109': 109, 'user_352': 352, 'user_110': 110, 'user_353': 353, 'user_111': 111, 'user_112': 112, 'user_488': 488, 'user_350': 350, 'user_113': 113, 'user_489': 489, 'user_351': 351, 'user_356': 356, 'user_114': 114, 'user_357': 357, 'user_115': 115, 'user_354': 354, 'user_116': 116, 'user_355': 355, 'user_117': 117, 'user_118': 118, 'user_482': 482, 'user_119': 119, 'user_483': 483, 'user_559': 559, 'user_120': 120, 'user_558': 558, 'user_121': 121, 'user_269': 269, 'user_122': 122, 'user_268': 268, 'user_123': 123, 'user_124': 124, 'user_125': 125, 'user_126': 126, 'user_127': 127, 'user_263': 263, 'user_551': 551, 'user_128': 128, 'user_262': 262, 'user_550': 550, 'user_129': 129, 'user_303': 303, 'user_145': 145, 'user_207': 207, 'user_148': 148, 'user_206': 206, 'user_149': 149, 'user_312': 312, 'user_150': 150, 'user_313': 313, 'user_151': 151, 'user_310': 310, 'user_152': 152, 'user_610': 610, 'user_311': 311, 'user_153': 153, 'user_316': 316, 'user_154': 154, 'user_317': 317, 'user_155': 155, 'user_314': 314, 'user_156': 156, 'user_315': 315, 'user_157': 157, 'user_158': 158, 'user_159': 159, 'user_362': 362, 'user_160': 160, 'user_363': 363, 'user_161': 161, 'user_360': 360, 'user_162': 162, 'user_361': 361, 'user_163': 163, 'user_366': 366, 'user_164': 164, 'user_367': 367, 'user_165': 165, 'user_364': 364, 'user_166': 166, 'user_365': 365, 'user_167': 167, 'user_168': 168, 'user_169': 169, 'user_170': 170, 'user_171': 171, 'user_172': 172, 'user_173': 173, 'user_174': 174, 'user_175': 175, 'user_176': 176, 'user_177': 177, 'user_178': 178, 'user_179': 179, 'user_188': 188, 'user_294': 294, 'user_189': 189, 'user_295': 295, 'user_190': 190, 'user_191': 191, 'user_589': 589, 'user_192': 192, 'user_588': 588, 'user_193': 193, 'user_194': 194, 'user_195': 195, 'user_196': 196, 'user_197': 197, 'user_583': 583, 'user_198': 198, 'user_582': 582, 'user_199': 199, 'user_200': 200, 'user_309': 309, 'user_201': 201, 'user_308': 308, 'user_204': 204, 'user_205': 205, 'user_210': 210, 'user_211': 211, 'user_212': 212, 'user_379': 379, 'user_213': 213, 'user_378': 378, 'user_214': 214, 'user_215': 215, 'user_216': 216, 'user_217': 217, 'user_218': 218, 'user_373': 373, 'user_219': 219, 'user_372': 372, 'user_220': 220, 'user_221': 221, 'user_510': 510, 'user_222': 222, 'user_468': 468, 'user_511': 511, 'user_223': 223, 'user_469': 469, 'user_224': 224, 'user_225': 225, 'user_226': 226, 'user_227': 227, 'user_228': 228, 'user_462': 462, 'user_229': 229, 'user_463': 463, 'user_506': 506, 'user_230': 230, 'user_507': 507, 'user_231': 231, 'user_504': 504, 'user_232': 232, 'user_505': 505, 'user_233': 233, 'user_502': 502, 'user_234': 234, 'user_503': 503, 'user_235': 235, 'user_500': 500, 'user_236': 236, 'user_478': 478, 'user_501': 501, 'user_237': 237, 'user_479': 479, 'user_238': 238, 'user_476': 476, 'user_239': 239, 'user_477': 477, 'user_240': 240, 'user_446': 446, 'user_241': 241, 'user_447': 447, 'user_242': 242, 'user_444': 444, 'user_243': 243, 'user_445': 445, 'user_244': 244, 'user_442': 442, 'user_245': 245, 'user_443': 443, 'user_246': 246, 'user_440': 440, 'user_247': 247, 'user_441': 441, 'user_248': 248, 'user_249': 249, 'user_250': 250, 'user_251': 251, 'user_252': 252, 'user_253': 253, 'user_256': 256, 'user_257': 257, 'user_260': 260, 'user_261': 261, 'user_264': 264, 'user_265': 265, 'user_266': 266, 'user_267': 267, 'user_270': 270, 'user_436': 436, 'user_271': 271, 'user_437': 437, 'user_272': 272, 'user_434': 434, 'user_273': 273, 'user_435': 435, 'user_274': 274, 'user_432': 432, 'user_275': 275, 'user_433': 433, 'user_276': 276, 'user_430': 430, 'user_277': 277, 'user_431': 431, 'user_278': 278, 'user_279': 279, 'user_280': 280, 'user_281': 281, 'user_282': 282, 'user_283': 283, 'user_284': 284, 'user_285': 285, 'user_286': 286, 'user_408': 408, 'user_287': 287, 'user_409': 409, 'user_288': 288, 'user_406': 406, 'user_289': 289, 'user_407': 407, 'user_290': 290, 'user_291': 291, 'user_292': 292, 'user_418': 418, 'user_293': 293, 'user_419': 419, 'user_318': 318, 'user_319': 319, 'user_603': 603, 'user_320': 320, 'user_602': 602, 'user_321': 321, 'user_601': 601, 'user_322': 322, 'user_600': 600, 'user_323': 323, 'user_607': 607, 'user_324': 324, 'user_606': 606, 'user_325': 325, 'user_605': 605, 'user_326': 326, 'user_604': 604, 'user_327': 327, 'user_328': 328, 'user_329': 329, 'user_338': 338, 'user_339': 339, 'user_537': 537, 'user_498': 498, 'user_340': 340, 'user_536': 536, 'user_499': 499, 'user_341': 341, 'user_342': 342, 'user_343': 343, 'user_344': 344, 'user_345': 345, 'user_480': 480, 'user_358': 358, 'user_481': 481, 'user_359': 359, 'user_368': 368, 'user_369': 369, 'user_370': 370, 'user_371': 371, 'user_374': 374, 'user_375': 375, 'user_376': 376, 'user_377': 377, 'user_388': 388, 'user_389': 389, 'user_398': 398, 'user_399': 399, 'user_400': 400, 'user_401': 401, 'user_402': 402, 'user_403': 403, 'user_404': 404, 'user_405': 405, 'user_420': 420, 'user_421': 421, 'user_422': 422, 'user_423': 423, 'user_424': 424, 'user_425': 425, 'user_426': 426, 'user_427': 427, 'user_428': 428, 'user_429': 429, 'user_438': 438, 'user_439': 439, 'user_448': 448, 'user_449': 449, 'user_450': 450, 'user_451': 451, 'user_452': 452, 'user_453': 453, 'user_454': 454, 'user_455': 455, 'user_456': 456, 'user_457': 457, 'user_458': 458, 'user_459': 459, 'user_460': 460, 'user_461': 461, 'user_464': 464, 'user_465': 465, 'user_466': 466, 'user_467': 467, 'user_508': 508, 'user_470': 470, 'user_509': 509, 'user_471': 471, 'user_472': 472, 'user_473': 473, 'user_474': 474, 'user_475': 475, 'user_484': 484, 'user_485': 485, 'user_486': 486, 'user_487': 487, 'user_512': 512, 'user_513': 513, 'user_514': 514, 'user_515': 515, 'user_516': 516, 'user_517': 517, 'user_518': 518, 'user_519': 519, 'user_520': 520, 'user_521': 521, 'user_522': 522, 'user_523': 523, 'user_524': 524, 'user_525': 525, 'user_532': 532, 'user_533': 533, 'user_534': 534, 'user_535': 535, 'user_540': 540, 'user_541': 541, 'user_542': 542, 'user_543': 543, 'user_544': 544, 'user_545': 545, 'user_546': 546, 'user_547': 547, 'user_548': 548, 'user_549': 549, 'user_552': 552, 'user_553': 553, 'user_554': 554, 'user_555': 555, 'user_556': 556, 'user_557': 557, 'user_560': 560, 'user_561': 561, 'user_562': 562, 'user_563': 563, 'user_564': 564, 'user_565': 565, 'user_566': 566, 'user_567': 567, 'user_568': 568, 'user_569': 569, 'user_570': 570, 'user_571': 571, 'user_572': 572, 'user_573': 573, 'user_574': 574, 'user_575': 575, 'user_576': 576, 'user_577': 577, 'user_578': 578, 'user_579': 579, 'user_580': 580, 'user_581': 581, 'user_584': 584, 'user_585': 585, 'user_586': 586, 'user_587': 587, 'user_590': 590, 'user_591': 591, 'user_592': 592, 'user_593': 593, 'user_594': 594, 'user_595': 595, 'user_596': 596, 'user_597': 597, 'user_598': 598, 'user_599': 599, 'user_608': 608, 'user_609': 609}\n"
     ]
    }
   ],
   "source": [
    "# Creating Vocabulary\n",
    "# Genarting a list of unique movie ids\n",
    "movie_ids = movies.movieId.unique()\n",
    "\n",
    "# Counter is used to feed movies to movive_vocab\n",
    "movie_counter = Counter(movie_ids)\n",
    "\n",
    "# Genarting vocabulary\n",
    "movie_vocab = vocab(movie_counter, specials=['<unk>'])\n",
    "\n",
    "# For indexing input ids\n",
    "movie_vocab_stoi = movie_vocab.get_stoi()\n",
    "\n",
    "# Movie to title mapping dictionary\n",
    "movie_title_dict = dict(zip(movies.movieId, movies.title))\n",
    "\n",
    "#\n",
    "user_ids = ratings.userId.unique()\n",
    "user_counter = Counter(user_ids)\n",
    "user_vocab = vocab(user_counter, specials=['<unk>'])\n",
    "user_vocab_stoi = user_vocab.get_stoi()\n",
    "print(user_vocab_stoi)"
   ]
  },
  {
   "cell_type": "code",
   "execution_count": 5,
   "metadata": {},
   "outputs": [
    {
     "name": "stdout",
     "output_type": "stream",
     "text": [
      "       user_id                                sequence_movie_ids\n",
      "0       user_1   [movie_804, movie_1210, movie_2628, movie_2826]\n",
      "1       user_1  [movie_2628, movie_2826, movie_2018, movie_3578]\n",
      "2       user_1  [movie_2018, movie_3578, movie_3617, movie_3744]\n",
      "3       user_1    [movie_3617, movie_3744, movie_101, movie_441]\n",
      "4       user_1    [movie_101, movie_441, movie_2858, movie_1473]\n",
      "...        ...                                               ...\n",
      "50265  user_99      [movie_253, movie_252, movie_236, movie_339]\n",
      "50266  user_99      [movie_236, movie_339, movie_312, movie_380]\n",
      "50267  user_99      [movie_312, movie_380, movie_333, movie_337]\n",
      "50268  user_99      [movie_333, movie_337, movie_316, movie_204]\n",
      "50269  user_99                 [movie_316, movie_204, movie_555]\n",
      "\n",
      "[50270 rows x 2 columns]\n"
     ]
    }
   ],
   "source": [
    "# Group ratings by user_id in order of increasing unix_timestamp.\n",
    "ratings_group = ratings.sort_values(by=[\"timestamp\"]).groupby(\"userId\")\n",
    "\n",
    "ratings_data = pd.DataFrame(\n",
    "    data={\n",
    "        \"user_id\": list(ratings_group.groups.keys()),\n",
    "        \"movie_ids\": list(ratings_group.movieId.apply(list)),\n",
    "        \"timestamps\": list(ratings_group.timestamp.apply(list)),\n",
    "    }\n",
    ")\n",
    "\n",
    "# Sequence length, min history count and window slide size\n",
    "sequence_length = 4\n",
    "min_history = 1\n",
    "step_size = 2\n",
    "\n",
    "# Creating sequences from lists with sliding window\n",
    "def create_sequences(values, window_size, step_size, min_history):\n",
    "  sequences = []\n",
    "  start_index = 0\n",
    "  while len(values[start_index:]) > min_history:\n",
    "    seq = values[start_index : start_index + window_size]\n",
    "    sequences.append(seq)\n",
    "    start_index += step_size\n",
    "  return sequences\n",
    "\n",
    "ratings_data.movie_ids = ratings_data.movie_ids.apply(\n",
    "    lambda ids: create_sequences(ids, sequence_length, step_size, min_history)\n",
    ")\n",
    "\n",
    "del ratings_data[\"timestamps\"]\n",
    "\n",
    "# Sub-sequences are exploded.\n",
    "# Since there might be more than one sequence for each user.\n",
    "ratings_data_transformed = ratings_data[[\"user_id\", \"movie_ids\"]].explode(\n",
    "    \"movie_ids\", ignore_index=True\n",
    ")\n",
    "\n",
    "ratings_data_transformed.rename(\n",
    "    columns={\"movie_ids\": \"sequence_movie_ids\"},\n",
    "    inplace=True,\n",
    ")\n",
    "print(ratings_data_transformed)"
   ]
  },
  {
   "cell_type": "code",
   "execution_count": 69,
   "metadata": {},
   "outputs": [],
   "source": [
    "# Random indexing\n",
    "# Here, instead of justing spliting into train and test, we add validation. The initial ratio is 0.7:0.15:0.15\n",
    "# To avoid overfitting, ratio adjusts to 0.8:0.1:0.1\n",
    "np.random.seed(24)\n",
    "random_range = np.random.rand(len(ratings_data_transformed.index))\n",
    "random_selection_1 = random_range <= 0.8\n",
    "random_selection_2 = (0.8<random_range) & (random_range<0.9)\n",
    "random_selection_3 = 0.9 < random_range\n",
    "\n",
    "# Split train data\n",
    "df_train_data = ratings_data_transformed[random_selection_1]\n",
    "train_data_raw = df_train_data[[\"user_id\", \"sequence_movie_ids\"]].values\n",
    "\n",
    "# Split validation data\n",
    "df_val_data = ratings_data_transformed[random_selection_2]\n",
    "val_data_raw = df_val_data[[\"user_id\", \"sequence_movie_ids\"]].values\n",
    "\n",
    "# Split validation data\n",
    "df_test_data = ratings_data_transformed[random_selection_3]\n",
    "test_data_raw = df_test_data[[\"user_id\", \"sequence_movie_ids\"]].values"
   ]
  },
  {
   "cell_type": "code",
   "execution_count": 70,
   "metadata": {},
   "outputs": [],
   "source": [
    "# Pytorch Dataset for user interactions\n",
    "class MovieSeqDataset(Dataset):\n",
    "    # Initialize dataset\n",
    "    def __init__(self, data, movie_vocab_stoi, user_vocab_stoi):\n",
    "        self.data = data\n",
    "        self.movie_vocab_stoi = movie_vocab_stoi\n",
    "        self.user_vocab_stoi = user_vocab_stoi\n",
    "\n",
    "\n",
    "    def __len__(self):\n",
    "        return len(self.data)\n",
    "\n",
    "    # Fetch data from the dataset\n",
    "    def __getitem__(self, idx):\n",
    "        user, movie_sequence = self.data[idx]\n",
    "        # Directly index into the vocabularies\n",
    "        movie_data = [self.movie_vocab_stoi[item] for item in movie_sequence]\n",
    "        user_data = self.user_vocab_stoi[user]\n",
    "        return torch.tensor(movie_data), torch.tensor(user_data)\n",
    "\n",
    "\n",
    "# Collate function and padding\n",
    "def collate_batch(batch):\n",
    "    movie_list = [item[0] for item in batch]\n",
    "    user_list = [item[1] for item in batch]\n",
    "    return pad_sequence(movie_list, padding_value=movie_vocab_stoi['<unk>'], batch_first=True), torch.stack(user_list)\n",
    "\n",
    "\n",
    "# Smaller BATCH_SIZE\n",
    "BATCH_SIZE = 256\n",
    "\n",
    "# Create instances of your Dataset for each set\n",
    "train_dataset = MovieSeqDataset(train_data_raw, movie_vocab_stoi, user_vocab_stoi)\n",
    "val_dataset = MovieSeqDataset(val_data_raw, movie_vocab_stoi, user_vocab_stoi)\n",
    "test_dataset = MovieSeqDataset(test_data_raw, movie_vocab_stoi, user_vocab_stoi)\n",
    "# Create DataLoaders\n",
    "train_iter = DataLoader(train_dataset, batch_size=BATCH_SIZE,\n",
    "                        shuffle=True, collate_fn=collate_batch)\n",
    "val_iter = DataLoader(val_dataset, batch_size=BATCH_SIZE,\n",
    "                      shuffle=False, collate_fn=collate_batch)\n",
    "test_iter = DataLoader(test_dataset, batch_size=BATCH_SIZE,\n",
    "                      shuffle=False, collate_fn=collate_batch)"
   ]
  },
  {
   "cell_type": "code",
   "execution_count": 10,
   "metadata": {},
   "outputs": [
    {
     "name": "stdout",
     "output_type": "stream",
     "text": [
      "['user_1' list(['movie_2628', 'movie_2826', 'movie_2018', 'movie_3578'])]\n",
      "['movie_2628', 'movie_2826', 'movie_2018', 'movie_3578']\n",
      "[1980, 2127, 1494, 2675] 1\n",
      "['user_1' list(['movie_2628', 'movie_2826', 'movie_2018', 'movie_3578'])]\n"
     ]
    }
   ],
   "source": [
    "user, movie_sequence = train_data_raw[0]\n",
    "# Directly index into the vocabularies\n",
    "print(train_data_raw[0])\n",
    "print(movie_sequence)\n",
    "movie_data = [movie_vocab_stoi[item] for item in movie_sequence]\n",
    "user_data = user_vocab_stoi[user]\n",
    "print(movie_data, user_data)\n",
    "print(train_dataset.data[0])"
   ]
  },
  {
   "cell_type": "markdown",
   "metadata": {},
   "source": [
    "## Model definition"
   ]
  },
  {
   "cell_type": "code",
   "execution_count": 11,
   "metadata": {},
   "outputs": [],
   "source": [
    "class PositionalEncoding(nn.Module):\n",
    "\n",
    "    def __init__(self, d_model: int, dropout: float = 0.1, max_len: int = 5000):\n",
    "        super().__init__()\n",
    "        self.dropout = nn.Dropout(p=dropout)\n",
    "\n",
    "        position = torch.arange(max_len).unsqueeze(1)\n",
    "\n",
    "        # `div_term` is used in the calculation of the sinusoidal values.\n",
    "        div_term = torch.exp(torch.arange(0, d_model, 2) * (-math.log(10000.0) / d_model))\n",
    "        \n",
    "        # Initializing positional encoding matrix with zeros.\n",
    "        pe = torch.zeros(max_len, 1, d_model)\n",
    "\n",
    "        # Calculating the positional encodings.\n",
    "        pe[:, 0, 0::2] = torch.sin(position * div_term)\n",
    "        pe[:, 0, 1::2] = torch.cos(position * div_term)\n",
    "        self.register_buffer('pe', pe)\n",
    "\n",
    "    def forward(self, x: Tensor) -> Tensor:\n",
    "        \"\"\"\n",
    "        Arguments:\n",
    "            x: Tensor, shape ``[seq_len, batch_size, embedding_dim]``\n",
    "        \"\"\"\n",
    "        x = x + self.pe[:x.size(0)]\n",
    "        return self.dropout(x)"
   ]
  },
  {
   "cell_type": "code",
   "execution_count": 12,
   "metadata": {},
   "outputs": [],
   "source": [
    "class TransformerModel(nn.Module):\n",
    "    def __init__(self, ntoken: int, nuser: int, d_model: int, nhead: int, d_hid: int,\n",
    "                 nlayers: int, dropout: float = 0.5):\n",
    "        super().__init__()\n",
    "        self.model_type = 'Transformer'\n",
    "        # positional encoder\n",
    "        self.pos_encoder = PositionalEncoding(d_model, dropout)\n",
    "\n",
    "        # Multihead attention mechanism.\n",
    "        encoder_layers = TransformerEncoderLayer(d_model, nhead, d_hid, dropout)\n",
    "        self.transformer_encoder = TransformerEncoder(encoder_layers, nlayers)\n",
    "\n",
    "        # Embedding layers\n",
    "        self.movie_embedding = nn.Embedding(ntoken, d_model)\n",
    "        self.user_embedding = nn.Embedding(nuser, d_model)\n",
    "\n",
    "        # Defining the size of the input to the model.\n",
    "        self.d_model = d_model\n",
    "\n",
    "        # Linear layer to map the output tomovie vocabulary.\n",
    "        self.linear = nn.Linear(2*d_model, ntoken)\n",
    "\n",
    "        self.init_weights()\n",
    "\n",
    "    def init_weights(self) -> None:\n",
    "        # Initializing the weights of the embedding and linear layers.\n",
    "        initrange = 0.1\n",
    "        self.movie_embedding.weight.data.uniform_(-initrange, initrange)\n",
    "        self.user_embedding.weight.data.uniform_(-initrange, initrange)\n",
    "        self.linear.bias.data.zero_()\n",
    "        self.linear.weight.data.uniform_(-initrange, initrange)\n",
    "\n",
    "    def forward(self, src: Tensor, user: Tensor, src_mask: Tensor = None) -> Tensor:\n",
    "        # Embedding movie ids and userid\n",
    "        movie_embed = self.movie_embedding(src) * math.sqrt(self.d_model)\n",
    "        user_embed = self.user_embedding(user) * math.sqrt(self.d_model)\n",
    "\n",
    "        # positional encoding\n",
    "        movie_embed = self.pos_encoder(movie_embed)\n",
    "\n",
    "        # generating output with final layers\n",
    "        output = self.transformer_encoder(movie_embed, src_mask)\n",
    "\n",
    "        #Expand user_embed tensor along the sequence length dimension\n",
    "        user_embed = user_embed.expand(-1, output.size(1), -1)\n",
    "\n",
    "        #Concatenate user embeddings with transformer output\n",
    "        output = torch.cat((output, user_embed), dim=-1)\n",
    "\n",
    "        output = self.linear(output)\n",
    "        return output"
   ]
  },
  {
   "cell_type": "code",
   "execution_count": null,
   "metadata": {},
   "outputs": [],
   "source": [
    "# To avoid overfitting and fit our dataset, model complexity is reduced\n",
    "ntokens = len(movie_vocab)  # size of vocabulary\n",
    "nusers = len(user_vocab)\n",
    "emsize =  32 # from 128 to 32 # embedding dimension\n",
    "d_hid = 32 # from 128 to 32  # dimension of the feedforward network model\n",
    "nlayers = 2  # number of ``nn.TransformerEncoderLayer``\n",
    "nhead = 2  # number of heads in ``nn.MultiheadAttention``\n",
    "dropout = 0.2  # dropout probability\n",
    "\n",
    "device = torch.device('cuda' if torch.cuda.is_available() else 'cpu')\n",
    "model = TransformerModel(ntokens, nusers, emsize, nhead, d_hid, nlayers, dropout).to(device)\n",
    "\n",
    "criterion = nn.CrossEntropyLoss()\n",
    "# Here, instead of lr=1, we use lr=0.01 and Adam optimizer to fit our data, and l2 regulariztion is added to avoid overfitting\n",
    "lr = 0.01  # learning rate\n",
    "optimizer = torch.optim.Adam(model.parameters(), lr=lr, weight_decay=0.001) # use Adam optimizer\n",
    "scheduler = torch.optim.lr_scheduler.StepLR(optimizer, 1.0, gamma=0.95)"
   ]
  },
  {
   "cell_type": "markdown",
   "metadata": {},
   "source": [
    "## Train and Evaluation"
   ]
  },
  {
   "cell_type": "code",
   "execution_count": null,
   "metadata": {},
   "outputs": [],
   "source": [
    "def train(model: nn.Module, train_iter, epoch) -> None:\n",
    "    # Switch to training mode\n",
    "    model.train()\n",
    "    total_loss = 0\n",
    "    total_loss_accu = 0\n",
    "    log_interval = 20\n",
    "    start_time = time.time()\n",
    "    \n",
    "    for i, (movie_data, user_data) in enumerate(train_iter):\n",
    "        # Load movie sequence and user id\n",
    "        movie_data, user_data = movie_data.to(device), user_data.to(device)\n",
    "        user_data = user_data.reshape(-1, 1)\n",
    "\n",
    "        # Split movie sequence to inputs and targets\n",
    "        inputs, targets = movie_data[:, :-1], movie_data[:, 1:]\n",
    "        targets_flat = targets.reshape(-1)\n",
    "\n",
    "        # Predict movies\n",
    "        output = model(inputs, user_data)\n",
    "        output_flat = output.reshape(-1, ntokens)\n",
    "        \n",
    "        # Backpropogation process\n",
    "        loss = criterion(output_flat, targets_flat)\n",
    "        optimizer.zero_grad()\n",
    "        loss.backward()\n",
    "        torch.nn.utils.clip_grad_norm_(model.parameters(), 0.5)\n",
    "        optimizer.step()\n",
    "        \n",
    "        total_loss += loss.item()\n",
    "        total_loss_accu += loss.item()\n",
    "        # Results\n",
    "        if i % log_interval == 0 and i > 0:\n",
    "            lr = scheduler.get_last_lr()[0]\n",
    "            ms_per_batch = (time.time() - start_time) * 1000 / log_interval\n",
    "            cur_loss = total_loss / log_interval\n",
    "            #print(cur_loss)\n",
    "            ppl = math.exp(cur_loss)\n",
    "            print(f'| epoch {epoch:3d} '\n",
    "                  f'lr {lr:02.2f} | ms/batch {ms_per_batch:5.2f} | '\n",
    "                  f'loss {cur_loss:5.2f} | ppl {ppl:8.2f}')\n",
    "            total_loss = 0\n",
    "            start_time = time.time()\n",
    "    return total_loss_accu / (len(train_iter)-1)"
   ]
  },
  {
   "cell_type": "code",
   "execution_count": 18,
   "metadata": {},
   "outputs": [],
   "source": [
    "def evaluate(model: nn.Module, eval_data: Tensor) -> float:\n",
    "    # Switch the model to evaluation mode.\n",
    "    # This is necessary for layers like dropout,\n",
    "    model.eval() \n",
    "    total_loss = 0.\n",
    "\n",
    "    with torch.no_grad():\n",
    "        for i, (movie_data, user_data) in enumerate(eval_data):\n",
    "            # Load movie sequence and user id\n",
    "            movie_data, user_data = movie_data.to(device), user_data.to(device)\n",
    "            user_data = user_data.reshape(-1, 1)\n",
    "            # Split movie sequence to inputs and targets\n",
    "            inputs, targets = movie_data[:, :-1], movie_data[:, 1:]\n",
    "            targets_flat = targets.reshape(-1)\n",
    "            # Predict movies\n",
    "            output = model(inputs, user_data)\n",
    "            output_flat = output.reshape(-1, ntokens)\n",
    "            # Calculate loss\n",
    "            loss = criterion(output_flat, targets_flat)\n",
    "            total_loss += loss.item()\n",
    "    return total_loss / (len(eval_data) - 1)"
   ]
  },
  {
   "cell_type": "code",
   "execution_count": 76,
   "metadata": {},
   "outputs": [
    {
     "name": "stdout",
     "output_type": "stream",
     "text": [
      "| epoch   1 lr 0.01 | ms/batch 905.89 | loss  9.02 | ppl  8229.74\n",
      "| epoch   1 lr 0.01 | ms/batch 948.12 | loss  8.32 | ppl  4090.18\n",
      "| epoch   1 lr 0.01 | ms/batch 788.61 | loss  8.27 | ppl  3902.95\n",
      "| epoch   1 lr 0.01 | ms/batch 1158.67 | loss  8.17 | ppl  3535.66\n",
      "| epoch   1 lr 0.01 | ms/batch 761.56 | loss  8.10 | ppl  3310.93\n",
      "| epoch   1 lr 0.01 | ms/batch 759.72 | loss  8.00 | ppl  2975.39\n",
      "| epoch   1 lr 0.01 | ms/batch 738.47 | loss  7.98 | ppl  2913.43\n",
      "-----------------------------------------------------------------------------------------\n",
      "| end of epoch   1 | time: 136.97s | valid loss  8.33 | valid ppl  4140.84\n",
      "-----------------------------------------------------------------------------------------\n",
      "| epoch   2 lr 0.01 | ms/batch 711.39 | loss  8.26 | ppl  3847.74\n",
      "| epoch   2 lr 0.01 | ms/batch 668.01 | loss  7.87 | ppl  2609.65\n",
      "| epoch   2 lr 0.01 | ms/batch 619.24 | loss  7.86 | ppl  2579.66\n",
      "| epoch   2 lr 0.01 | ms/batch 662.28 | loss  7.87 | ppl  2630.33\n",
      "| epoch   2 lr 0.01 | ms/batch 700.47 | loss  7.87 | ppl  2609.35\n",
      "| epoch   2 lr 0.01 | ms/batch 671.42 | loss  7.86 | ppl  2589.12\n",
      "| epoch   2 lr 0.01 | ms/batch 701.14 | loss  7.87 | ppl  2623.16\n",
      "-----------------------------------------------------------------------------------------\n",
      "| end of epoch   2 | time: 112.45s | valid loss  8.23 | valid ppl  3736.60\n",
      "-----------------------------------------------------------------------------------------\n",
      "| epoch   3 lr 0.01 | ms/batch 703.77 | loss  8.08 | ppl  3233.07\n",
      "| epoch   3 lr 0.01 | ms/batch 639.43 | loss  7.79 | ppl  2425.84\n",
      "| epoch   3 lr 0.01 | ms/batch 659.05 | loss  7.81 | ppl  2457.63\n",
      "| epoch   3 lr 0.01 | ms/batch 682.40 | loss  7.81 | ppl  2467.39\n",
      "| epoch   3 lr 0.01 | ms/batch 636.97 | loss  7.83 | ppl  2504.40\n",
      "| epoch   3 lr 0.01 | ms/batch 638.98 | loss  7.84 | ppl  2530.62\n",
      "| epoch   3 lr 0.01 | ms/batch 653.03 | loss  7.79 | ppl  2414.34\n",
      "-----------------------------------------------------------------------------------------\n",
      "| end of epoch   3 | time: 109.95s | valid loss  8.19 | valid ppl  3600.78\n",
      "-----------------------------------------------------------------------------------------\n",
      "| epoch   4 lr 0.01 | ms/batch 760.59 | loss  8.06 | ppl  3159.96\n",
      "| epoch   4 lr 0.01 | ms/batch 653.72 | loss  7.75 | ppl  2312.20\n",
      "| epoch   4 lr 0.01 | ms/batch 639.62 | loss  7.75 | ppl  2331.07\n",
      "| epoch   4 lr 0.01 | ms/batch 626.40 | loss  7.75 | ppl  2316.45\n",
      "| epoch   4 lr 0.01 | ms/batch 672.20 | loss  7.78 | ppl  2394.92\n",
      "| epoch   4 lr 0.01 | ms/batch 871.51 | loss  7.77 | ppl  2369.04\n",
      "| epoch   4 lr 0.01 | ms/batch 694.97 | loss  7.79 | ppl  2423.00\n",
      "-----------------------------------------------------------------------------------------\n",
      "| end of epoch   4 | time: 114.08s | valid loss  8.16 | valid ppl  3511.46\n",
      "-----------------------------------------------------------------------------------------\n",
      "| epoch   5 lr 0.01 | ms/batch 757.66 | loss  8.01 | ppl  3021.81\n",
      "| epoch   5 lr 0.01 | ms/batch 678.47 | loss  7.68 | ppl  2170.30\n",
      "| epoch   5 lr 0.01 | ms/batch 685.92 | loss  7.74 | ppl  2294.99\n",
      "| epoch   5 lr 0.01 | ms/batch 786.95 | loss  7.75 | ppl  2315.23\n",
      "| epoch   5 lr 0.01 | ms/batch 686.40 | loss  7.75 | ppl  2310.96\n",
      "| epoch   5 lr 0.01 | ms/batch 668.68 | loss  7.77 | ppl  2357.23\n",
      "| epoch   5 lr 0.01 | ms/batch 650.46 | loss  7.74 | ppl  2303.51\n",
      "-----------------------------------------------------------------------------------------\n",
      "| end of epoch   5 | time: 115.14s | valid loss  8.13 | valid ppl  3385.74\n",
      "-----------------------------------------------------------------------------------------\n",
      "| epoch   6 lr 0.01 | ms/batch 712.44 | loss  7.96 | ppl  2864.25\n",
      "| epoch   6 lr 0.01 | ms/batch 1388.30 | loss  7.65 | ppl  2103.54\n",
      "| epoch   6 lr 0.01 | ms/batch 2976.94 | loss  7.71 | ppl  2219.98\n",
      "| epoch   6 lr 0.01 | ms/batch 2723.29 | loss  7.75 | ppl  2314.93\n",
      "| epoch   6 lr 0.01 | ms/batch 2875.98 | loss  7.70 | ppl  2205.61\n",
      "| epoch   6 lr 0.01 | ms/batch 4546.12 | loss  7.71 | ppl  2226.37\n",
      "| epoch   6 lr 0.01 | ms/batch 876.05 | loss  7.71 | ppl  2223.66\n",
      "-----------------------------------------------------------------------------------------\n",
      "| end of epoch   6 | time: 344.70s | valid loss  8.10 | valid ppl  3304.00\n",
      "-----------------------------------------------------------------------------------------\n",
      "| epoch   7 lr 0.01 | ms/batch 838.71 | loss  7.91 | ppl  2735.38\n",
      "| epoch   7 lr 0.01 | ms/batch 812.70 | loss  7.61 | ppl  2025.94\n",
      "| epoch   7 lr 0.01 | ms/batch 784.23 | loss  7.65 | ppl  2101.90\n",
      "| epoch   7 lr 0.01 | ms/batch 859.33 | loss  7.68 | ppl  2165.86\n",
      "| epoch   7 lr 0.01 | ms/batch 913.59 | loss  7.71 | ppl  2225.60\n",
      "| epoch   7 lr 0.01 | ms/batch 726.93 | loss  7.72 | ppl  2251.33\n",
      "| epoch   7 lr 0.01 | ms/batch 708.69 | loss  7.72 | ppl  2246.93\n",
      "-----------------------------------------------------------------------------------------\n",
      "| end of epoch   7 | time: 143.21s | valid loss  8.08 | valid ppl  3242.89\n",
      "-----------------------------------------------------------------------------------------\n",
      "| epoch   8 lr 0.01 | ms/batch 1040.95 | loss  7.91 | ppl  2736.86\n",
      "| epoch   8 lr 0.01 | ms/batch 641.91 | loss  7.61 | ppl  2017.03\n",
      "| epoch   8 lr 0.01 | ms/batch 645.40 | loss  7.62 | ppl  2032.77\n",
      "| epoch   8 lr 0.01 | ms/batch 680.72 | loss  7.66 | ppl  2113.81\n",
      "| epoch   8 lr 0.01 | ms/batch 668.13 | loss  7.71 | ppl  2222.02\n",
      "| epoch   8 lr 0.01 | ms/batch 642.46 | loss  7.70 | ppl  2213.94\n",
      "| epoch   8 lr 0.01 | ms/batch 686.64 | loss  7.68 | ppl  2170.96\n",
      "-----------------------------------------------------------------------------------------\n",
      "| end of epoch   8 | time: 118.73s | valid loss  8.08 | valid ppl  3225.94\n",
      "-----------------------------------------------------------------------------------------\n",
      "| epoch   9 lr 0.01 | ms/batch 752.56 | loss  7.89 | ppl  2667.25\n",
      "| epoch   9 lr 0.01 | ms/batch 727.07 | loss  7.60 | ppl  2004.58\n",
      "| epoch   9 lr 0.01 | ms/batch 746.43 | loss  7.66 | ppl  2114.56\n",
      "| epoch   9 lr 0.01 | ms/batch 734.86 | loss  7.67 | ppl  2140.75\n",
      "| epoch   9 lr 0.01 | ms/batch 738.36 | loss  7.67 | ppl  2152.60\n",
      "| epoch   9 lr 0.01 | ms/batch 738.75 | loss  7.65 | ppl  2096.56\n",
      "| epoch   9 lr 0.01 | ms/batch 757.13 | loss  7.70 | ppl  2210.64\n",
      "-----------------------------------------------------------------------------------------\n",
      "| end of epoch   9 | time: 120.76s | valid loss  8.07 | valid ppl  3200.32\n",
      "-----------------------------------------------------------------------------------------\n",
      "| epoch  10 lr 0.01 | ms/batch 787.45 | loss  7.88 | ppl  2647.78\n",
      "| epoch  10 lr 0.01 | ms/batch 754.16 | loss  7.55 | ppl  1894.09\n",
      "| epoch  10 lr 0.01 | ms/batch 1921.17 | loss  7.63 | ppl  2052.31\n",
      "| epoch  10 lr 0.01 | ms/batch 924.80 | loss  7.65 | ppl  2094.48\n",
      "| epoch  10 lr 0.01 | ms/batch 799.69 | loss  7.64 | ppl  2070.34\n",
      "| epoch  10 lr 0.01 | ms/batch 801.66 | loss  7.71 | ppl  2223.78\n",
      "| epoch  10 lr 0.01 | ms/batch 768.06 | loss  7.71 | ppl  2236.24\n",
      "-----------------------------------------------------------------------------------------\n",
      "| end of epoch  10 | time: 153.30s | valid loss  8.07 | valid ppl  3210.86\n",
      "-----------------------------------------------------------------------------------------\n"
     ]
    }
   ],
   "source": [
    "best_val_loss = float('inf')\n",
    "epochs = 10\n",
    "train_loss_lst = []\n",
    "val_loss_lst = []\n",
    "\n",
    "# load model from previous best model if appliable\n",
    "# model = TransformerModel(ntokens, nusers, emsize, nhead, d_hid, nlayers, dropout).to(device)\n",
    "# model.load_state_dict(torch.load('ML-LS.pt'))\n",
    "#model.eval()\n",
    "\n",
    "with TemporaryDirectory() as tempdir:\n",
    "    best_model_params_path = os.path.join(tempdir, \"best_model_params.pt\")\n",
    "\n",
    "    for epoch in range(1, epochs + 1):\n",
    "        epoch_start_time = time.time()\n",
    "\n",
    "        # Training\n",
    "        train_loss = train(model, train_iter, epoch)\n",
    "\n",
    "        # Evaluation\n",
    "        val_loss = evaluate(model, val_iter)\n",
    "\n",
    "        # Compute the perplexity of the validation loss\n",
    "        val_ppl = math.exp(val_loss)\n",
    "        elapsed = time.time() - epoch_start_time\n",
    "\n",
    "        # Record Results\n",
    "        print('-' * 89)\n",
    "        print(f'| end of epoch {epoch:3d} | time: {elapsed:5.2f}s | '\n",
    "            f'valid loss {val_loss:5.2f} | valid ppl {val_ppl:8.2f}')\n",
    "        print('-' * 89)\n",
    "        train_loss_lst.append(train_loss)\n",
    "        val_loss_lst.append(val_loss)\n",
    "\n",
    "        # Save best model\n",
    "        if val_loss < best_val_loss:\n",
    "            best_val_loss = val_loss\n",
    "            torch.save(model.state_dict(), best_model_params_path)\n",
    "\n",
    "        scheduler.step()\n",
    "    model.load_state_dict(torch.load(best_model_params_path)) # load best model states\n",
    "\n",
    "# save model \n",
    "torch.save(model.state_dict(), 'ML-LS.pt')\n"
   ]
  },
  {
   "cell_type": "code",
   "execution_count": 78,
   "metadata": {},
   "outputs": [],
   "source": [
    "train_loss_lst = [7.98, 7.87, 7.79, 7.79, 7.74, 7.71, 7.72, 7.68, 7.70, 7.71]\n"
   ]
  },
  {
   "cell_type": "code",
   "execution_count": null,
   "metadata": {},
   "outputs": [
    {
     "data": {
      "image/png": "[encoded data removed]",
      "text/plain": [
       "<Figure size 640x480 with 1 Axes>"
      ]
     },
     "metadata": {},
     "output_type": "display_data"
    }
   ],
   "source": [
    "import matplotlib.pyplot as plt\n",
    "plt.figure()\n",
    "plt.plot(train_loss_lst, label='Train loss')\n",
    "plt.plot(val_loss_lst, label='Validation loss')\n",
    "plt.xlabel('Epoch')\n",
    "plt.xticks(np.arange(1,10))\n",
    "plt.ylabel('Loss')\n",
    "plt.title('Loss Curve')\n",
    "plt.legend()\n",
    "plt.show()"
   ]
  },
  {
   "cell_type": "markdown",
   "metadata": {},
   "source": [
    "## Result and Comparasion"
   ]
  },
  {
   "cell_type": "code",
   "execution_count": 39,
   "metadata": {},
   "outputs": [],
   "source": [
    "def get_popular_movies(df_ratings):\n",
    "  # Calculate the number of ratings for each movie\n",
    "  rating_counts = df_ratings['movieId'].value_counts().reset_index()\n",
    "  rating_counts.columns = ['movieId', 'rating_count']\n",
    "\n",
    "  # Get the most frequently rated movies\n",
    "  min_ratings_threshold = rating_counts['rating_count'].quantile(0.95)\n",
    "\n",
    "  # Filter movies based on the minimum number of ratings\n",
    "  popular_movies = ratings.merge(rating_counts, on='movieId')\n",
    "  popular_movies = popular_movies[popular_movies['rating_count'] >= min_ratings_threshold]\n",
    "\n",
    "  # Calculate the average rating for each movie\n",
    "  average_ratings = popular_movies.groupby('movieId')['rating'].mean().reset_index()\n",
    "\n",
    "  # Get the top 10 rated movies\n",
    "  top_10_movies = list(average_ratings.sort_values('rating', ascending=False).head(10).movieId.values)\n",
    "  return top_10_movies"
   ]
  },
  {
   "cell_type": "code",
   "execution_count": 40,
   "metadata": {},
   "outputs": [],
   "source": [
    "top_10_movies = get_popular_movies(ratings)"
   ]
  },
  {
   "cell_type": "code",
   "execution_count": 110,
   "metadata": {},
   "outputs": [],
   "source": [
    "# Movie id decoder\n",
    "movie_vocab_itos = movie_vocab.get_itos()\n",
    "\n",
    "# A placeholders to store results of recommendations\n",
    "transformer_reco_results = list()\n",
    "popular_reco_results = list()\n",
    "\n",
    "# Get top 10 movies\n",
    "k = 10\n",
    "# Iterate over the validation data\n",
    "for i, (movie_data, user_data) in enumerate(test_iter): \n",
    "    # Feed the input and get the outputs\n",
    "    movie_data, user_data = movie_data.to(device), user_data.to(device)\n",
    "    user_data = user_data.reshape(-1, 1)\n",
    "    inputs, targets = movie_data[:, :-1], movie_data[:, 1:]\n",
    "    output = model(inputs, user_data)\n",
    "    output_flat = output.reshape(-1, ntokens)\n",
    "    targets_flat = targets.reshape(-1)\n",
    "\n",
    "    # Reshape the output_flat to get top predictions\n",
    "    outputs = output_flat.reshape(output_flat.shape[0] // inputs.shape[1],\n",
    "                                  inputs.shape[1],\n",
    "                                  output_flat.shape[1])[: , -1, :]\n",
    "    # k + inputs.shape[1] = 13 movies obtained\n",
    "    # In order to prevent to recommend already watched movies\n",
    "    values, indices = outputs.topk(k + inputs.shape[1], dim=-1)\n",
    "\n",
    "    for sub_sequence, sub_indice_org in zip(movie_data, indices):\n",
    "        sub_indice_org = sub_indice_org.cpu().detach().numpy()\n",
    "        sub_sequence = sub_sequence.cpu().detach().numpy()\n",
    "\n",
    "        # Generate mask array to eliminate already watched movies \n",
    "        mask = np.isin(sub_indice_org, sub_sequence[:-1], invert=True)\n",
    "\n",
    "        # After masking get top k movies\n",
    "        sub_indice = sub_indice_org[mask][:k]\n",
    "\n",
    "        # Generate results array\n",
    "        transformer_reco_result = np.isin(sub_indice, sub_sequence[-1]).astype(int)\n",
    "\n",
    "        # Decode movie to search in popular movies\n",
    "        target_movie_decoded = movie_vocab_itos[sub_sequence[-1]]\n",
    "        popular_reco_result = np.isin(top_10_movies, target_movie_decoded).astype(int)\n",
    "\n",
    "        transformer_reco_results.append(transformer_reco_result)\n",
    "        popular_reco_results.append(popular_reco_result)"
   ]
  },
  {
   "cell_type": "code",
   "execution_count": 111,
   "metadata": {},
   "outputs": [
    {
     "name": "stdout",
     "output_type": "stream",
     "text": [
      "Transformer NDCG result at top 1: 0.0093\n",
      "Popular recommendation NDCG result at top 1: 0.003\n",
      "Transformer NDCG result at top 2: 0.0119\n",
      "Popular recommendation NDCG result at top 2: 0.0043\n",
      "Transformer NDCG result at top 3: 0.0142\n",
      "Popular recommendation NDCG result at top 3: 0.0051\n",
      "Transformer NDCG result at top 4: 0.0166\n",
      "Popular recommendation NDCG result at top 4: 0.0053\n",
      "Transformer NDCG result at top 5: 0.0177\n",
      "Popular recommendation NDCG result at top 5: 0.0054\n",
      "Transformer NDCG result at top 6: 0.0198\n",
      "Popular recommendation NDCG result at top 6: 0.0056\n",
      "Transformer NDCG result at top 7: 0.0214\n",
      "Popular recommendation NDCG result at top 7: 0.0062\n",
      "Transformer NDCG result at top 8: 0.0225\n",
      "Popular recommendation NDCG result at top 8: 0.0066\n",
      "Transformer NDCG result at top 9: 0.0237\n",
      "Popular recommendation NDCG result at top 9: 0.007\n"
     ]
    }
   ],
   "source": [
    "from sklearn.metrics import ndcg_score\n",
    "\n",
    "# Since we have already sorted our recommendations\n",
    "# An array that represent our recommendation scores is used.\n",
    "representative_array = [[i for i in range(k, 0, -1)]] * len(transformer_reco_results)\n",
    "ncf_rep_array = [[i for i in range(k, 0, -1)]] * len(ncf_result)\n",
    "\n",
    "trans_score, popular_score, ncf_score = [], [], []\n",
    "for k in range(1,10):\n",
    "  transformer_result = ndcg_score(transformer_reco_results,\n",
    "                                  representative_array, k=k)\n",
    "  popular_result = ndcg_score(popular_reco_results,\n",
    "                              representative_array, k=k)\n",
    "  # ncf_result = ndcg_score(ncf_result,\n",
    "  #                             ncf_rep_array, k=k)\n",
    "  \n",
    "  trans_score.append(transformer_result)\n",
    "  popular_score.append(popular_result)\n",
    "  # ncf_score.append(ncf_result)\n",
    "  print(f\"Transformer NDCG result at top {k}: {round(transformer_result, 4)}\")\n",
    "  print(f\"Popular recommendation NDCG result at top {k}: {round(popular_result, 4)}\")\n",
    "  # print(f\"NCF recommendation NDCG result at top {k}: {round(ncf_result, 4)}\\n\\n\")"
   ]
  },
  {
   "cell_type": "code",
   "execution_count": 82,
   "metadata": {},
   "outputs": [
    {
     "data": {
      "image/png": "[encoded data removed]",
      "text/plain": [
       "<Figure size 640x480 with 1 Axes>"
      ]
     },
     "metadata": {},
     "output_type": "display_data"
    }
   ],
   "source": [
    "import matplotlib.pyplot as plt\n",
    "plt.figure()\n",
    "plt.plot(np.arange(1,10), trans_score, label='Transformer Score')\n",
    "plt.plot(np.arange(1,10), popular_score, label='Popular Recommendation Score')\n",
    "plt.xlabel('K')\n",
    "plt.xticks(np.arange(1,10))\n",
    "plt.ylabel('NDCG @ K')\n",
    "plt.title('NDCG score comparison')\n",
    "plt.legend()\n",
    "plt.show()"
   ]
  },
  {
   "cell_type": "code",
   "execution_count": null,
   "metadata": {},
   "outputs": [],
   "source": []
  }
 ],
 "metadata": {
  "kernelspec": {
   "display_name": "base",
   "language": "python",
   "name": "python3"
  },
  "language_info": {
   "codemirror_mode": {
    "name": "ipython",
    "version": 3
   },
   "file_extension": ".py",
   "mimetype": "text/x-python",
   "name": "python",
   "nbconvert_exporter": "python",
   "pygments_lexer": "ipython3",
   "version": "3.10.9"
  }
 },
 "nbformat": 4,
 "nbformat_minor": 2
}
